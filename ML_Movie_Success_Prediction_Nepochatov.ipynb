{
 "cells": [
  {
   "cell_type": "markdown",
   "metadata": {},
   "source": [
    "#  ML Course Final Project. Movie Success Prediction. \n",
    "\n",
    "![HSE_logo](https://www.hse.ru/mirror/pubs/share/522682412)\n",
    "\n",
    "## Alexey Nepochatov. HSE 2022.\n",
    "## Description of the final project.\n",
    "\n",
    "### Overview.\n",
    "In this project, you will be asked to help a film-producing company. They would like to make sure that films, which they are creating are successful. The company has collected a large dataset, which includes information about more than 80'000 films: their description, genre, budget, rating, etc.\n",
    "\n",
    "Your task will be to suggest and justify a way to measure the success of the film and build a machine learning model, which is capable of predicting this quantity.\n",
    "\n",
    "### Detailed Task Description\n",
    "\n",
    "The solution should have the following parts:\n",
    "\n",
    "#### [20 %] Formalise the task and suggest the evaluation criterion\n",
    "* What is your target variable? Why is it a good measure of success and how the film-producing company can use it to make their decision?\n",
    "* Which task are you going to solve (is it a regression, classification or something else)?\n",
    "* Which metric will you use to evaluate the performance of the model? Do you have any idea, which values of the metrics can be considered good enough? \n",
    "\n",
    "\n",
    "#### [40 %] Explore and preprocess the data \n",
    "* Split data into train and test\n",
    "* Fill missing values (if there are any)\n",
    "* Remove irrelevant feature (if there are any) and create new ones (explore which features you have, what is their distribution and connection to the target, explain why newly created features are reasonable)\n",
    "* Properly encode categorical features (if required)\n",
    "\n",
    "\n",
    "#### [40 %] Train the models and present result of your work\n",
    "* Use the models introduced during the course, which are relevant for the task you are solving\n",
    "* You are supposed to compare at least 3 models\n",
    "* Tune (or explain why there is no need to tune) hyperparameters of each model\n",
    "* Use cross-validation to compare models and select hyperparameters\n",
    "* Which model and setup is the best? How does it perform on the test dataset? \n",
    "\n",
    "#### General Requirements\n",
    "* You should provide a solution in the form of the Jupyter Notebook (use the template that we provide)\n",
    "* Make sure that the instructor can run all the cells to reproduce your results\n",
    "* Clearly answer each question / perform required actions from the task\n",
    "* Support all your statements with calculations and plots. \n",
    "\n",
    "For example: If you claim that the dataset does not have missing values, you need to provide code which shows that the total number of missing values is zero."
   ]
  },
  {
   "cell_type": "code",
   "execution_count": 1,
   "metadata": {},
   "outputs": [],
   "source": [
    "import numpy as np\n",
    "import pandas as pd\n",
    "import matplotlib.pyplot as plt\n",
    "\n",
    "import warnings\n",
    "warnings.filterwarnings('ignore')"
   ]
  },
  {
   "cell_type": "markdown",
   "metadata": {},
   "source": [
    "This is a template for your final project. "
   ]
  },
  {
   "cell_type": "code",
   "execution_count": 2,
   "metadata": {},
   "outputs": [
    {
     "data": {
      "text/html": [
       "<div>\n",
       "<style scoped>\n",
       "    .dataframe tbody tr th:only-of-type {\n",
       "        vertical-align: middle;\n",
       "    }\n",
       "\n",
       "    .dataframe tbody tr th {\n",
       "        vertical-align: top;\n",
       "    }\n",
       "\n",
       "    .dataframe thead th {\n",
       "        text-align: right;\n",
       "    }\n",
       "</style>\n",
       "<table border=\"1\" class=\"dataframe\">\n",
       "  <thead>\n",
       "    <tr style=\"text-align: right;\">\n",
       "      <th></th>\n",
       "      <th>imdb_title_id</th>\n",
       "      <th>title</th>\n",
       "      <th>original_title</th>\n",
       "      <th>year</th>\n",
       "      <th>date_published</th>\n",
       "      <th>genre</th>\n",
       "      <th>duration</th>\n",
       "      <th>country</th>\n",
       "      <th>language</th>\n",
       "      <th>director</th>\n",
       "      <th>...</th>\n",
       "      <th>actors</th>\n",
       "      <th>description</th>\n",
       "      <th>avg_vote</th>\n",
       "      <th>votes</th>\n",
       "      <th>budget</th>\n",
       "      <th>usa_gross_income</th>\n",
       "      <th>worlwide_gross_income</th>\n",
       "      <th>metascore</th>\n",
       "      <th>reviews_from_users</th>\n",
       "      <th>reviews_from_critics</th>\n",
       "    </tr>\n",
       "  </thead>\n",
       "  <tbody>\n",
       "    <tr>\n",
       "      <th>0</th>\n",
       "      <td>tt0000574</td>\n",
       "      <td>The Story of the Kelly Gang</td>\n",
       "      <td>The Story of the Kelly Gang</td>\n",
       "      <td>1906</td>\n",
       "      <td>1906-12-26</td>\n",
       "      <td>Biography, Crime, Drama</td>\n",
       "      <td>70</td>\n",
       "      <td>Australia</td>\n",
       "      <td>NaN</td>\n",
       "      <td>Charles Tait</td>\n",
       "      <td>...</td>\n",
       "      <td>Elizabeth Tait, John Tait, Norman Campbell, Be...</td>\n",
       "      <td>True story of notorious Australian outlaw Ned ...</td>\n",
       "      <td>6.1</td>\n",
       "      <td>537</td>\n",
       "      <td>$ 2250</td>\n",
       "      <td>NaN</td>\n",
       "      <td>NaN</td>\n",
       "      <td>NaN</td>\n",
       "      <td>7.0</td>\n",
       "      <td>7.0</td>\n",
       "    </tr>\n",
       "    <tr>\n",
       "      <th>1</th>\n",
       "      <td>tt0001892</td>\n",
       "      <td>Den sorte drøm</td>\n",
       "      <td>Den sorte drøm</td>\n",
       "      <td>1911</td>\n",
       "      <td>1911-08-19</td>\n",
       "      <td>Drama</td>\n",
       "      <td>53</td>\n",
       "      <td>Germany, Denmark</td>\n",
       "      <td>NaN</td>\n",
       "      <td>Urban Gad</td>\n",
       "      <td>...</td>\n",
       "      <td>Asta Nielsen, Valdemar Psilander, Gunnar Helse...</td>\n",
       "      <td>Two men of high rank are both wooing the beaut...</td>\n",
       "      <td>5.9</td>\n",
       "      <td>171</td>\n",
       "      <td>NaN</td>\n",
       "      <td>NaN</td>\n",
       "      <td>NaN</td>\n",
       "      <td>NaN</td>\n",
       "      <td>4.0</td>\n",
       "      <td>2.0</td>\n",
       "    </tr>\n",
       "    <tr>\n",
       "      <th>2</th>\n",
       "      <td>tt0002101</td>\n",
       "      <td>Cleopatra</td>\n",
       "      <td>Cleopatra</td>\n",
       "      <td>1912</td>\n",
       "      <td>1912-11-13</td>\n",
       "      <td>Drama, History</td>\n",
       "      <td>100</td>\n",
       "      <td>USA</td>\n",
       "      <td>English</td>\n",
       "      <td>Charles L. Gaskill</td>\n",
       "      <td>...</td>\n",
       "      <td>Helen Gardner, Pearl Sindelar, Miss Fielding, ...</td>\n",
       "      <td>The fabled queen of Egypt's affair with Roman ...</td>\n",
       "      <td>5.2</td>\n",
       "      <td>420</td>\n",
       "      <td>$ 45000</td>\n",
       "      <td>NaN</td>\n",
       "      <td>NaN</td>\n",
       "      <td>NaN</td>\n",
       "      <td>24.0</td>\n",
       "      <td>3.0</td>\n",
       "    </tr>\n",
       "  </tbody>\n",
       "</table>\n",
       "<p>3 rows × 22 columns</p>\n",
       "</div>"
      ],
      "text/plain": [
       "  imdb_title_id                        title               original_title  \\\n",
       "0     tt0000574  The Story of the Kelly Gang  The Story of the Kelly Gang   \n",
       "1     tt0001892               Den sorte drøm               Den sorte drøm   \n",
       "2     tt0002101                    Cleopatra                    Cleopatra   \n",
       "\n",
       "   year date_published                    genre  duration           country  \\\n",
       "0  1906     1906-12-26  Biography, Crime, Drama        70         Australia   \n",
       "1  1911     1911-08-19                    Drama        53  Germany, Denmark   \n",
       "2  1912     1912-11-13           Drama, History       100               USA   \n",
       "\n",
       "  language            director  ...  \\\n",
       "0      NaN        Charles Tait  ...   \n",
       "1      NaN           Urban Gad  ...   \n",
       "2  English  Charles L. Gaskill  ...   \n",
       "\n",
       "                                              actors  \\\n",
       "0  Elizabeth Tait, John Tait, Norman Campbell, Be...   \n",
       "1  Asta Nielsen, Valdemar Psilander, Gunnar Helse...   \n",
       "2  Helen Gardner, Pearl Sindelar, Miss Fielding, ...   \n",
       "\n",
       "                                         description avg_vote votes   budget  \\\n",
       "0  True story of notorious Australian outlaw Ned ...      6.1   537   $ 2250   \n",
       "1  Two men of high rank are both wooing the beaut...      5.9   171      NaN   \n",
       "2  The fabled queen of Egypt's affair with Roman ...      5.2   420  $ 45000   \n",
       "\n",
       "   usa_gross_income worlwide_gross_income metascore reviews_from_users  \\\n",
       "0               NaN                   NaN       NaN                7.0   \n",
       "1               NaN                   NaN       NaN                4.0   \n",
       "2               NaN                   NaN       NaN               24.0   \n",
       "\n",
       "   reviews_from_critics  \n",
       "0                   7.0  \n",
       "1                   2.0  \n",
       "2                   3.0  \n",
       "\n",
       "[3 rows x 22 columns]"
      ]
     },
     "execution_count": 2,
     "metadata": {},
     "output_type": "execute_result"
    }
   ],
   "source": [
    "full_dataset = pd.read_csv('IMDb movies.csv')\n",
    "full_dataset.head(3)"
   ]
  },
  {
   "cell_type": "markdown",
   "metadata": {},
   "source": [
    "## Part 1. Task formalization and Evaluation criteria. \n",
    "\n",
    "### 1.1 Select your target variable, explain your choice. Separate target variable from the feature matrix."
   ]
  },
  {
   "cell_type": "markdown",
   "metadata": {},
   "source": [
    "I choose **avg_vote** as the target variable, it reflects people's opinion of the movie as a whole and **has no missing data** (we will show it below). We will also set a criterion that the number of **votes** should be more than 100 people in order to get a more objective rating. And also a good indicator of success will be if the movie has **reviews_from_critics** and **reviews_from_users**.\n",
    "\n",
    "\n",
    "If income variables do not have so many missing data they could be considered as a target as well"
   ]
  },
  {
   "cell_type": "code",
   "execution_count": 3,
   "metadata": {},
   "outputs": [],
   "source": [
    "full_dataset['target']  = np.where(\n",
    "    ((full_dataset['avg_vote'] >= 6.7) & (full_dataset['votes'] > 100) &  (full_dataset['reviews_from_users'] > 0)) |\n",
    "    ((full_dataset['avg_vote'] >= 6.7) & (full_dataset['votes'] > 100) &  (full_dataset['reviews_from_critics'] > 0))\n",
    ", 1, 0)\n",
    "\n",
    "target = full_dataset.target\n",
    "\n",
    "\n",
    "feature_matrix = full_dataset.drop(['avg_vote',\n",
    "                                    'votes',\n",
    "                                    'reviews_from_users',\n",
    "                                    'reviews_from_critics'], axis=1)"
   ]
  },
  {
   "cell_type": "markdown",
   "metadata": {},
   "source": [
    "### 1.2 Explain which task are you going to solve (is it a regression, classification or something else)? "
   ]
  },
  {
   "cell_type": "markdown",
   "metadata": {},
   "source": [
    "I will use a **classification**. I chose the **average movie rating** greater than **6.7** as **\"successful\"** with a combination of votes and reviews, and created the corresponding objective binary **target function** where \"1\" means **\"successful\"** and \"0\" means **\"not successful\"**. "
   ]
  },
  {
   "cell_type": "markdown",
   "metadata": {},
   "source": [
    "### 1.3 Select a metric. Is it already implemented in sklearn? If yes, import it. If not, it is time to write a function which will calculate it. "
   ]
  },
  {
   "cell_type": "markdown",
   "metadata": {},
   "source": [
    "I will stick to **F1 score**. We often use F1 score when the **classes are imbalanced** and there is a serious downside to predicting false negatives. The **F1 score** can be interpreted as a harmonic mean of the **precision** and **recall**, where an F1 score reaches its best value at 1 and worst score at 0. The relative contribution of precision and recall to the F1 score are equal. The formula for the F1 score is:\n",
    "\n",
    "$F1 = 2 * \\frac{precision * recall}{precision + recall}$"
   ]
  },
  {
   "cell_type": "code",
   "execution_count": 4,
   "metadata": {},
   "outputs": [
    {
     "name": "stdout",
     "output_type": "stream",
     "text": [
      "Number of successful movies in data set = 18715\n",
      "Number of not successful movies in data set = 41483\n"
     ]
    }
   ],
   "source": [
    "print(\"Number of successful movies in data set =\", target.sum())\n",
    "print(\"Number of not successful movies in data set =\", target.shape[0]-target.sum())"
   ]
  },
  {
   "cell_type": "code",
   "execution_count": 5,
   "metadata": {},
   "outputs": [],
   "source": [
    "from sklearn.metrics import f1_score"
   ]
  },
  {
   "cell_type": "markdown",
   "metadata": {},
   "source": [
    "## Part 2. Explore and preprocess the data.\n",
    "\n",
    "### 2.1 Split data into train and test."
   ]
  },
  {
   "cell_type": "code",
   "execution_count": 6,
   "metadata": {},
   "outputs": [
    {
     "name": "stdout",
     "output_type": "stream",
     "text": [
      "(42138, 18) (18060, 18) (42138,) (18060,)\n"
     ]
    }
   ],
   "source": [
    "from sklearn.model_selection import train_test_split\n",
    "\n",
    "X_train, X_test, y_train, y_test = train_test_split(feature_matrix, target, test_size=0.3, random_state=30)\n",
    "\n",
    "X_train.drop(['target'], axis=1, inplace=True)\n",
    "X_test.drop(['target'], axis=1, inplace=True)\n",
    "\n",
    "print(X_train.shape, X_test.shape, y_train.shape, y_test.shape)"
   ]
  },
  {
   "cell_type": "markdown",
   "metadata": {},
   "source": [
    "### 2.2 Explore you data: make plots, print tables. Make sure to write your observations.  Do not forget to fill-in missing values, define relevant columns transformatios. "
   ]
  },
  {
   "cell_type": "markdown",
   "metadata": {},
   "source": [
    "First, let's examine the data in more detail and see what **type of features** we have."
   ]
  },
  {
   "cell_type": "code",
   "execution_count": 7,
   "metadata": {},
   "outputs": [
    {
     "data": {
      "text/plain": [
       "imdb_title_id             object\n",
       "title                     object\n",
       "original_title            object\n",
       "year                       int64\n",
       "date_published            object\n",
       "genre                     object\n",
       "duration                   int64\n",
       "country                   object\n",
       "language                  object\n",
       "director                  object\n",
       "writer                    object\n",
       "production_company        object\n",
       "actors                    object\n",
       "description               object\n",
       "avg_vote                 float64\n",
       "votes                      int64\n",
       "budget                    object\n",
       "usa_gross_income          object\n",
       "worlwide_gross_income     object\n",
       "metascore                float64\n",
       "reviews_from_users       float64\n",
       "reviews_from_critics     float64\n",
       "target                     int32\n",
       "dtype: object"
      ]
     },
     "execution_count": 7,
     "metadata": {},
     "output_type": "execute_result"
    }
   ],
   "source": [
    "full_dataset.dtypes"
   ]
  },
  {
   "cell_type": "markdown",
   "metadata": {},
   "source": [
    "Then let's look how much **data is missing**:"
   ]
  },
  {
   "cell_type": "code",
   "execution_count": 8,
   "metadata": {},
   "outputs": [
    {
     "data": {
      "text/plain": [
       "imdb_title_id                0\n",
       "title                        0\n",
       "original_title               0\n",
       "year                         0\n",
       "date_published               0\n",
       "genre                        0\n",
       "duration                     0\n",
       "country                      5\n",
       "language                   439\n",
       "director                    24\n",
       "writer                     808\n",
       "production_company        2744\n",
       "actors                      30\n",
       "description               1993\n",
       "avg_vote                     0\n",
       "votes                        0\n",
       "budget                   43379\n",
       "usa_gross_income         48306\n",
       "worlwide_gross_income    41062\n",
       "metascore                51386\n",
       "reviews_from_users        4069\n",
       "reviews_from_critics      8229\n",
       "target                       0\n",
       "dtype: int64"
      ]
     },
     "execution_count": 8,
     "metadata": {},
     "output_type": "execute_result"
    }
   ],
   "source": [
    "full_dataset.isna().sum()"
   ]
  },
  {
   "cell_type": "markdown",
   "metadata": {},
   "source": [
    "To understand the proportions, let's see how many movies there are in our database."
   ]
  },
  {
   "cell_type": "code",
   "execution_count": 9,
   "metadata": {},
   "outputs": [
    {
     "name": "stdout",
     "output_type": "stream",
     "text": [
      "Number of movies in dataset: 60198\n"
     ]
    }
   ],
   "source": [
    "print(\"Number of movies in dataset:\", full_dataset.shape[0])"
   ]
  },
  {
   "cell_type": "markdown",
   "metadata": {},
   "source": [
    "Now let's see how the different features correlate to each other. Perhaps this will help us discard features that have nothing to do with the target."
   ]
  },
  {
   "cell_type": "code",
   "execution_count": 10,
   "metadata": {},
   "outputs": [
    {
     "data": {
      "image/png": "[encoded data removed]",
      "text/plain": [
       "<Figure size 504x504 with 1 Axes>"
      ]
     },
     "metadata": {
      "needs_background": "light"
     },
     "output_type": "display_data"
    }
   ],
   "source": [
    "correlation = full_dataset.corr(method='pearson')\n",
    "columns = correlation.columns.to_list()\n",
    "n = len(columns)\n",
    "\n",
    "fig, ax = plt.subplots(figsize=(7,7))\n",
    "fig.tight_layout()\n",
    "ax.imshow(correlation, cmap='Spectral')\n",
    "ax.set_title(\"Correlation\")\n",
    "ax.grid(visible=None)\n",
    "ax.set_xticks(np.arange(n))\n",
    "ax.set_yticks(np.arange(n))\n",
    "ax.set_xticklabels(columns)\n",
    "ax.set_yticklabels(columns)\n",
    "\n",
    "plt.setp(ax.get_xticklabels(), ha=\"right\", rotation=90, rotation_mode=\"anchor\")\n",
    "\n",
    "for i in range(n):\n",
    "    for j in range(n):\n",
    "        text = ax.text(j, i, round(correlation[columns[i]][columns[j]], 2), ha=\"center\", va=\"center\", color=\"black\", size = 12)"
   ]
  },
  {
   "cell_type": "markdown",
   "metadata": {},
   "source": [
    "**Budget** might be a good feature to predict success, let's see what it contains"
   ]
  },
  {
   "cell_type": "code",
   "execution_count": 11,
   "metadata": {},
   "outputs": [
    {
     "data": {
      "text/plain": [
       "25266            NaN\n",
       "53555    $ 145000000\n",
       "33477            NaN\n",
       "58164            NaN\n",
       "46914            NaN\n",
       "            ...     \n",
       "33268     $ 10000000\n",
       "44845            NaN\n",
       "48045    EGP 4000000\n",
       "4517             NaN\n",
       "38693            NaN\n",
       "Name: budget, Length: 8870, dtype: object"
      ]
     },
     "execution_count": 11,
     "metadata": {},
     "output_type": "execute_result"
    }
   ],
   "source": [
    "X_train.budget.iloc[33268:59926]"
   ]
  },
  {
   "cell_type": "markdown",
   "metadata": {},
   "source": [
    "After examining the data above, we can now start by doing the following: let's take a closer look at the features that will **have no effect on our model** and which we can safely **drop** and explain why it' true:\n",
    "\n",
    "* **imdb_title_id** - this is internal information of the site from which the data was obtained, has no relation to the quality of the movie, so we will **drop** this feature.\n",
    "* **year** - movies for which we are building a predictive model will have a year that is not in the training data, so we will **drop** this feature.\n",
    "* **budget** - this feature has 43379 missing values, it's means that about **72%** of the whole data of this feature **is missing**. Also, if we look at values that is not NaN, then we will see that the budget is given in different currencies, in order to compare these data, we need to know the exchange rate at the time the film was released. To do this, we need to get data from some financial site, which is outside the scope of this task, in general, the budget would be a good feature for prediction, but due to the two disadvantages described above, we it's better to **drop** this feature. \n",
    "* **usa_gross_income** - the same reason as for budget, there are **many missing values** in data - about 80%, so it's better to **dpor** this feature. \n",
    "* **worlwide_gross_income** - the same reason as for budget, there are **many missing values** in data - about 68%, so it's better to **drop** this feature. \n",
    "* **metascore** - the same reason as for budget, there are **many missing values** in data - about 85%, so it's better to **drop** this feature. "
   ]
  },
  {
   "cell_type": "code",
   "execution_count": 12,
   "metadata": {},
   "outputs": [],
   "source": [
    "features_to_drop = [\"imdb_title_id\",            # meaningless feature \n",
    "                    \"year\",                     # feature \"from the future\"\n",
    "                    \"budget\",                   # too many missing data\n",
    "                    \"usa_gross_income\",         # too many missing data\n",
    "                    \"worlwide_gross_income\",    # too many missing data\n",
    "                    \"metascore\",                # too many missing data\n",
    "                   ]\n",
    "\n",
    "X_train.drop(features_to_drop, axis=1, inplace=True)\n",
    "X_test.drop(features_to_drop, axis=1, inplace=True)"
   ]
  },
  {
   "cell_type": "markdown",
   "metadata": {},
   "source": [
    "Let's study the movie **title** feature more closely. Let's see how often words are repeated in titles."
   ]
  },
  {
   "cell_type": "code",
   "execution_count": 13,
   "metadata": {},
   "outputs": [
    {
     "name": "stdout",
     "output_type": "stream",
     "text": [
      "The number of unique words in the movie title = 49802\n"
     ]
    },
    {
     "data": {
      "text/plain": [
       "[('the', 10429),\n",
       " ('of', 3322),\n",
       " ('a', 1754),\n",
       " ('la', 1648),\n",
       " ('in', 1345),\n",
       " ('de', 1279),\n",
       " ('and', 1026),\n",
       " ('to', 955),\n",
       " ('no', 879),\n",
       " ('le', 729),\n",
       " ('i', 702),\n",
       " ('man', 553),\n",
       " ('el', 519),\n",
       " ('-', 512),\n",
       " ('love', 468),\n",
       " ('les', 462),\n",
       " ('on', 437),\n",
       " ('di', 429),\n",
       " ('for', 419),\n",
       " ('&', 414),\n",
       " ('il', 411),\n",
       " ('die', 402),\n",
       " ('my', 375),\n",
       " ('der', 369),\n",
       " ('night', 365)]"
      ]
     },
     "execution_count": 13,
     "metadata": {},
     "output_type": "execute_result"
    }
   ],
   "source": [
    "from collections import Counter\n",
    "\n",
    "words_in_title = ' '.join(feature_matrix.title.values.tolist()).lower().split()\n",
    "counts = Counter(words_in_title)\n",
    "print(\"The number of unique words in the movie title =\", len(counts))\n",
    "counts.most_common()[:25]"
   ]
  },
  {
   "cell_type": "markdown",
   "metadata": {},
   "source": [
    "We see that among the total number of films, we have almost 50k unique words in the titles, while the most popular words do not make much sense. So we'll have to **drop** **title** feature."
   ]
  },
  {
   "cell_type": "code",
   "execution_count": 14,
   "metadata": {},
   "outputs": [],
   "source": [
    "X_train.drop([\"title\"], axis=1, inplace=True)\n",
    "X_test.drop([\"title\"], axis=1, inplace=True)"
   ]
  },
  {
   "cell_type": "markdown",
   "metadata": {},
   "source": [
    "Although it is obvious that the **original title** can be dropped for the same reason as the **title**, we will check it again"
   ]
  },
  {
   "cell_type": "code",
   "execution_count": 15,
   "metadata": {},
   "outputs": [
    {
     "name": "stdout",
     "output_type": "stream",
     "text": [
      "The number of unique words in the original movie title = 49876\n"
     ]
    }
   ],
   "source": [
    "words_in_original_title = ' '.join(feature_matrix.original_title.values.tolist()).lower().split()\n",
    "counts = Counter(words_in_original_title)\n",
    "print(\"The number of unique words in the original movie title =\", len(counts))"
   ]
  },
  {
   "cell_type": "markdown",
   "metadata": {},
   "source": [
    "So there are too many unique words in **original title**, so it's better to **drop** this feature. "
   ]
  },
  {
   "cell_type": "code",
   "execution_count": 16,
   "metadata": {},
   "outputs": [],
   "source": [
    "X_train.drop([\"original_title\"], axis=1, inplace=True)\n",
    "X_test.drop([\"original_title\"], axis=1, inplace=True)"
   ]
  },
  {
   "cell_type": "markdown",
   "metadata": {},
   "source": [
    "Now let's study the feature **description**."
   ]
  },
  {
   "cell_type": "code",
   "execution_count": 17,
   "metadata": {},
   "outputs": [
    {
     "name": "stdout",
     "output_type": "stream",
     "text": [
      "The number of unique words in the movie title = 121740\n"
     ]
    },
    {
     "data": {
      "text/plain": [
       "[('man', 4447),\n",
       " ('after', 4183),\n",
       " ('one', 4180),\n",
       " ('...\",', 4137),\n",
       " ('into', 3906),\n",
       " ('up', 3867),\n",
       " (\"'the\", 3809),\n",
       " ('life', 3648),\n",
       " ('out', 3553),\n",
       " ('him', 3509)]"
      ]
     },
     "execution_count": 17,
     "metadata": {},
     "output_type": "execute_result"
    }
   ],
   "source": [
    "words_in_description = str(feature_matrix.description.values.tolist()).lower().split()\n",
    "counts = Counter(words_in_description)\n",
    "print(\"The number of unique words in the movie title =\", len(counts))\n",
    "counts.most_common()[30:40]"
   ]
  },
  {
   "cell_type": "markdown",
   "metadata": {},
   "source": [
    "So there are too many unique words in **description** and the most repeated words do not make sense, like prepositions, so it's better to **drop** this feature. In general, using a more complex approach, it is possible to do something like a bag of words for successful films and see if there are such words in the description of the film for which we want to make a prediction."
   ]
  },
  {
   "cell_type": "code",
   "execution_count": 18,
   "metadata": {},
   "outputs": [],
   "source": [
    "X_train.drop([\"description\"], axis=1, inplace=True)\n",
    "X_test.drop([\"description\"], axis=1, inplace=True)"
   ]
  },
  {
   "cell_type": "markdown",
   "metadata": {},
   "source": [
    "Consider the feature **director**. Let's see how many unique and features we have."
   ]
  },
  {
   "cell_type": "code",
   "execution_count": 19,
   "metadata": {},
   "outputs": [
    {
     "name": "stdout",
     "output_type": "stream",
     "text": [
      "22771\n"
     ]
    }
   ],
   "source": [
    "print(feature_matrix.director.nunique())"
   ]
  },
  {
   "cell_type": "markdown",
   "metadata": {},
   "source": [
    "And how many data is missing."
   ]
  },
  {
   "cell_type": "code",
   "execution_count": 20,
   "metadata": {},
   "outputs": [
    {
     "data": {
      "text/plain": [
       "24"
      ]
     },
     "execution_count": 20,
     "metadata": {},
     "output_type": "execute_result"
    }
   ],
   "source": [
    "feature_matrix.director.isna().sum()"
   ]
  },
  {
   "cell_type": "code",
   "execution_count": 21,
   "metadata": {},
   "outputs": [
    {
     "data": {
      "text/plain": [
       "(0, 0)"
      ]
     },
     "execution_count": 21,
     "metadata": {},
     "output_type": "execute_result"
    }
   ],
   "source": [
    "X_train.director.fillna('Unknown', inplace=True)\n",
    "X_test.director.fillna('Unknown', inplace=True)\n",
    "X_train.director.isna().sum(), X_test.director.isna().sum()"
   ]
  },
  {
   "cell_type": "code",
   "execution_count": 22,
   "metadata": {},
   "outputs": [
    {
     "name": "stdout",
     "output_type": "stream",
     "text": [
      "The number of unique words in the movie title = 22772\n"
     ]
    },
    {
     "data": {
      "text/plain": [
       "[('Michael Curtiz', 86),\n",
       " ('Jesús Franco', 85),\n",
       " ('Lloyd Bacon', 73),\n",
       " ('William Beaudine', 69),\n",
       " ('John Ford', 67),\n",
       " ('Richard Thorpe', 67),\n",
       " ('Lesley Selander', 65),\n",
       " ('Gordon Douglas', 64),\n",
       " ('Mervyn LeRoy', 60),\n",
       " ('Raoul Walsh', 58),\n",
       " ('Norman Taurog', 57),\n",
       " ('Cheh Chang', 56),\n",
       " ('Giannis Dalianidis', 55),\n",
       " ('Alfred Hitchcock', 53),\n",
       " ('Claude Chabrol', 53),\n",
       " ('Henry Hathaway', 52),\n",
       " ('William A. Wellman', 51),\n",
       " ('Alfred E. Green', 50),\n",
       " ('Ray Enright', 49),\n",
       " ('George Marshall', 49),\n",
       " ('Joseph Kane', 49),\n",
       " ('Priyadarshan', 49),\n",
       " ('William A. Seiter', 47),\n",
       " ('Roy Del Ruth', 47),\n",
       " ('Frank Borzage', 46),\n",
       " ('Allan Dwan', 45),\n",
       " ('David Butler', 45),\n",
       " ('Takashi Miike', 45),\n",
       " ('William Dieterle', 44),\n",
       " ('Lew Landers', 44)]"
      ]
     },
     "execution_count": 22,
     "metadata": {},
     "output_type": "execute_result"
    }
   ],
   "source": [
    "from collections import Counter\n",
    "\n",
    "words_in_director = feature_matrix.director.values.tolist()\n",
    "counts = Counter(words_in_director)\n",
    "print(\"The number of unique words in the movie title =\", len(counts))\n",
    "most_popular_dirctors = list(x[0] for x in counts.most_common(30))\n",
    "counts.most_common(30)"
   ]
  },
  {
   "cell_type": "markdown",
   "metadata": {},
   "source": [
    "We will assume that directors who have made many films make more successful films."
   ]
  },
  {
   "cell_type": "code",
   "execution_count": 23,
   "metadata": {},
   "outputs": [],
   "source": [
    "X_train['popular_dirctor'] = np.where(np.isin(X_train['director'],most_popular_dirctors), 1, 0)\n",
    "X_test['popular_dirctor'] = np.where(np.isin(X_test['director'],most_popular_dirctors), 1, 0)\n",
    "\n",
    "X_test[X_train.columns.difference(X_test.columns)] = 0\n",
    "X_train[X_test.columns.difference(X_train.columns)] = 0\n",
    "\n",
    "X_train.drop([\"director\"], axis=1, inplace=True)\n",
    "X_test.drop([\"director\"], axis=1, inplace=True)"
   ]
  },
  {
   "cell_type": "markdown",
   "metadata": {},
   "source": [
    "Consider **writers** feature and look how much data is missing"
   ]
  },
  {
   "cell_type": "code",
   "execution_count": 24,
   "metadata": {},
   "outputs": [
    {
     "data": {
      "text/plain": [
       "808"
      ]
     },
     "execution_count": 24,
     "metadata": {},
     "output_type": "execute_result"
    }
   ],
   "source": [
    "feature_matrix.writer.isna().sum()"
   ]
  },
  {
   "cell_type": "markdown",
   "metadata": {},
   "source": [
    "Not a lot of missing data, but let's see how many films have the **same writers**"
   ]
  },
  {
   "cell_type": "code",
   "execution_count": 25,
   "metadata": {},
   "outputs": [
    {
     "name": "stdout",
     "output_type": "stream",
     "text": [
      "The number of unique words in the movie title = 47547\n"
     ]
    },
    {
     "data": {
      "text/plain": [
       "[(nan, 808),\n",
       " ('Jing Wong', 70),\n",
       " ('Kuang Ni', 44),\n",
       " ('Woody Allen', 33),\n",
       " ('Leonardo Benvenuti, Piero De Bernardi', 32),\n",
       " ('Cheh Chang, Kuang Ni', 32),\n",
       " ('Giannis Dalianidis', 28),\n",
       " ('Ingmar Bergman', 25),\n",
       " ('Agenore Incrocci, Furio Scarpelli', 24),\n",
       " ('Franco Castellano, Giuseppe Moccia', 23)]"
      ]
     },
     "execution_count": 25,
     "metadata": {},
     "output_type": "execute_result"
    }
   ],
   "source": [
    "from collections import Counter\n",
    "\n",
    "words_in_writer = feature_matrix.writer.values.tolist()\n",
    "counts = Counter(words_in_writer)\n",
    "print(\"The number of unique words in the movie title =\", len(counts))\n",
    "counts.most_common(10)"
   ]
  },
  {
   "cell_type": "markdown",
   "metadata": {},
   "source": [
    "We see that there are very few intersections, it would be better to **drop** this feature."
   ]
  },
  {
   "cell_type": "code",
   "execution_count": 26,
   "metadata": {},
   "outputs": [],
   "source": [
    "X_train.drop([\"writer\"], axis=1, inplace=True)\n",
    "X_test.drop([\"writer\"], axis=1, inplace=True)"
   ]
  },
  {
   "cell_type": "markdown",
   "metadata": {},
   "source": [
    "**Actors** feature."
   ]
  },
  {
   "cell_type": "code",
   "execution_count": 27,
   "metadata": {},
   "outputs": [
    {
     "data": {
      "text/plain": [
       "30"
      ]
     },
     "execution_count": 27,
     "metadata": {},
     "output_type": "execute_result"
    }
   ],
   "source": [
    "feature_matrix.actors.isna().sum()"
   ]
  },
  {
   "cell_type": "code",
   "execution_count": 28,
   "metadata": {},
   "outputs": [],
   "source": [
    "X_train.actors.fillna('Unknown', inplace=True)\n",
    "X_test.actors.fillna('Unknown', inplace=True)"
   ]
  },
  {
   "cell_type": "code",
   "execution_count": 29,
   "metadata": {},
   "outputs": [],
   "source": [
    "feature_matrix.actors.values\n",
    "all_actors = ' '.join(str(x) for x in feature_matrix.actors.values).split(\", \")"
   ]
  },
  {
   "cell_type": "code",
   "execution_count": 30,
   "metadata": {},
   "outputs": [
    {
     "data": {
      "text/plain": [
       "758131"
      ]
     },
     "execution_count": 30,
     "metadata": {},
     "output_type": "execute_result"
    }
   ],
   "source": [
    "len(all_actors)"
   ]
  },
  {
   "cell_type": "markdown",
   "metadata": {},
   "source": [
    "There are a lot of data in actors, let's consider only 500 the most filmed actors. We will assume that they are often filmed because films with them are more successful."
   ]
  },
  {
   "cell_type": "code",
   "execution_count": 31,
   "metadata": {},
   "outputs": [
    {
     "data": {
      "text/plain": [
       "[('Brahmanandam', 193),\n",
       " ('Anupam Kher', 160),\n",
       " ('John Carradine', 136),\n",
       " (\"Henry O'Neill\", 135),\n",
       " ('Gulshan Grover', 131),\n",
       " ('Paresh Rawal', 120),\n",
       " ('Amrish Puri', 119),\n",
       " ('Shakti Kapoor', 117),\n",
       " ('Jagathi Sreekumar', 112),\n",
       " ('Keenan Wynn', 111)]"
      ]
     },
     "execution_count": 31,
     "metadata": {},
     "output_type": "execute_result"
    }
   ],
   "source": [
    "from collections import Counter\n",
    "\n",
    "words_in_actors = all_actors\n",
    "counts = Counter(words_in_actors)\n",
    "most_popular_actors = list(x[0] for x in counts.most_common(500))\n",
    "counts.most_common(10)"
   ]
  },
  {
   "cell_type": "markdown",
   "metadata": {},
   "source": [
    "Since in feature actors we have a list of actors, then using regular expressions we will transform the list of the most popular actors, so that later we can use it to search for films where they starred"
   ]
  },
  {
   "cell_type": "code",
   "execution_count": 32,
   "metadata": {},
   "outputs": [],
   "source": [
    "most_popular_actors = '|'.join(most_popular_actors)\n",
    "# most_popular_actors"
   ]
  },
  {
   "cell_type": "code",
   "execution_count": 33,
   "metadata": {},
   "outputs": [],
   "source": [
    "import re\n",
    "\n",
    "X_train[\"popular_actor\"] = np.where((X_train.actors.str.contains(most_popular_actors, regex=True)), 1, 0)\n",
    "X_test[\"popular_actor\"] = np.where((X_test.actors.str.contains(most_popular_actors, regex=True)), 1, 0)"
   ]
  },
  {
   "cell_type": "code",
   "execution_count": 34,
   "metadata": {},
   "outputs": [],
   "source": [
    "features_to_drop = [\"actors\"]\n",
    "\n",
    "X_train.drop([\"actors\"], axis=1, inplace=True)\n",
    "X_test.drop([\"actors\"], axis=1, inplace=True)"
   ]
  },
  {
   "cell_type": "markdown",
   "metadata": {},
   "source": [
    "**date_published** - the same reason as for the year, movies for which we are building a predictive model will have date_published that is not in the training data, so we will **drop** this feature, but we can take into account the month in which the movie was released, so instead of this feature, we will add the **month_published**."
   ]
  },
  {
   "cell_type": "code",
   "execution_count": 35,
   "metadata": {},
   "outputs": [],
   "source": [
    "X_train[\"month_published\"] = pd.to_datetime(X_train.date_published).dt.month"
   ]
  },
  {
   "cell_type": "code",
   "execution_count": 36,
   "metadata": {},
   "outputs": [],
   "source": [
    "X_test[\"month_published\"] = pd.to_datetime(X_test.date_published).dt.month"
   ]
  },
  {
   "cell_type": "code",
   "execution_count": 37,
   "metadata": {},
   "outputs": [],
   "source": [
    "X_train.drop([\"date_published\"], axis=1, inplace=True)\n",
    "X_test.drop([\"date_published\"], axis=1, inplace=True)"
   ]
  },
  {
   "cell_type": "markdown",
   "metadata": {},
   "source": [
    "Now consider the **country** feature. Let's see how much data have missed"
   ]
  },
  {
   "cell_type": "code",
   "execution_count": 38,
   "metadata": {},
   "outputs": [
    {
     "data": {
      "text/plain": [
       "4"
      ]
     },
     "execution_count": 38,
     "metadata": {},
     "output_type": "execute_result"
    }
   ],
   "source": [
    "X_train.country.isna().sum()"
   ]
  },
  {
   "cell_type": "code",
   "execution_count": 39,
   "metadata": {},
   "outputs": [
    {
     "data": {
      "text/plain": [
       "1"
      ]
     },
     "execution_count": 39,
     "metadata": {},
     "output_type": "execute_result"
    }
   ],
   "source": [
    "X_test.country.isna().sum()"
   ]
  },
  {
   "cell_type": "markdown",
   "metadata": {},
   "source": [
    "There isn't much data missing, so we'll set **country** to **Unknown**"
   ]
  },
  {
   "cell_type": "code",
   "execution_count": 40,
   "metadata": {},
   "outputs": [],
   "source": [
    "X_train.country.fillna('Unknown', inplace=True)\n",
    "X_test.country.fillna('Unknown', inplace=True)\n",
    "\n",
    "X_train = pd.concat([X_train, X_train.country.str.get_dummies(sep=', ').add_prefix('country_')], axis = 1)\n",
    "X_test = pd.concat([X_test, X_test.country.str.get_dummies(sep=', ').add_prefix('country_')], axis = 1)\n",
    "\n",
    "X_test[X_train.columns.difference(X_test.columns)] = 0\n",
    "X_train[X_test.columns.difference(X_train.columns)] = 0"
   ]
  },
  {
   "cell_type": "code",
   "execution_count": 41,
   "metadata": {},
   "outputs": [],
   "source": [
    "X_train.drop([\"country\"], axis=1, inplace=True)\n",
    "X_test.drop([\"country\"], axis=1, inplace=True)"
   ]
  },
  {
   "cell_type": "code",
   "execution_count": 42,
   "metadata": {},
   "outputs": [
    {
     "data": {
      "text/plain": [
       "((42138, 177), (18060, 177))"
      ]
     },
     "execution_count": 42,
     "metadata": {},
     "output_type": "execute_result"
    }
   ],
   "source": [
    "X_train.shape, X_test.shape"
   ]
  },
  {
   "cell_type": "markdown",
   "metadata": {},
   "source": [
    "Let's explore the **languege** feature and see how much data have missed"
   ]
  },
  {
   "cell_type": "code",
   "execution_count": 43,
   "metadata": {},
   "outputs": [
    {
     "data": {
      "text/plain": [
       "317"
      ]
     },
     "execution_count": 43,
     "metadata": {},
     "output_type": "execute_result"
    }
   ],
   "source": [
    "X_train.language.isna().sum()"
   ]
  },
  {
   "cell_type": "code",
   "execution_count": 44,
   "metadata": {},
   "outputs": [
    {
     "data": {
      "text/plain": [
       "122"
      ]
     },
     "execution_count": 44,
     "metadata": {},
     "output_type": "execute_result"
    }
   ],
   "source": [
    "X_test.language.isna().sum()"
   ]
  },
  {
   "cell_type": "markdown",
   "metadata": {},
   "source": [
    "Quite a lot, since most of the films are in English, then we assume that the language of these films is also **English**"
   ]
  },
  {
   "cell_type": "code",
   "execution_count": 45,
   "metadata": {},
   "outputs": [],
   "source": [
    "X_train.language.fillna('English', inplace=True)\n",
    "X_test.language.fillna('English', inplace=True)\n",
    "\n",
    "X_train = pd.concat([X_train, X_train.language.str.get_dummies(sep=', ').add_prefix('language_')], axis = 1)\n",
    "X_test = pd.concat([X_test, X_test.language.str.get_dummies(sep=', ').add_prefix('language_')], axis = 1)\n",
    "\n",
    "X_test[X_train.columns.difference(X_test.columns)] = 0\n",
    "X_train[X_test.columns.difference(X_train.columns)] = 0"
   ]
  },
  {
   "cell_type": "code",
   "execution_count": 46,
   "metadata": {},
   "outputs": [],
   "source": [
    "X_train.drop([\"language\"], axis=1, inplace=True)\n",
    "X_test.drop([\"language\"], axis=1, inplace=True)"
   ]
  },
  {
   "cell_type": "code",
   "execution_count": 47,
   "metadata": {},
   "outputs": [
    {
     "data": {
      "text/plain": [
       "((42138, 414), (18060, 414))"
      ]
     },
     "execution_count": 47,
     "metadata": {},
     "output_type": "execute_result"
    }
   ],
   "source": [
    "X_train.shape, X_test.shape"
   ]
  },
  {
   "cell_type": "markdown",
   "metadata": {},
   "source": [
    "Let's consider **production_company**. Find how much data is missing and replace the missing data with **Others**."
   ]
  },
  {
   "cell_type": "code",
   "execution_count": 48,
   "metadata": {},
   "outputs": [
    {
     "data": {
      "text/plain": [
       "1891"
      ]
     },
     "execution_count": 48,
     "metadata": {},
     "output_type": "execute_result"
    }
   ],
   "source": [
    "X_train.production_company.isna().sum()"
   ]
  },
  {
   "cell_type": "code",
   "execution_count": 49,
   "metadata": {},
   "outputs": [
    {
     "data": {
      "text/plain": [
       "853"
      ]
     },
     "execution_count": 49,
     "metadata": {},
     "output_type": "execute_result"
    }
   ],
   "source": [
    "X_test.production_company.isna().sum()"
   ]
  },
  {
   "cell_type": "code",
   "execution_count": 50,
   "metadata": {},
   "outputs": [],
   "source": [
    "X_train.production_company.fillna('Other', inplace=True)\n",
    "X_test.production_company.fillna('Other', inplace=True)"
   ]
  },
  {
   "cell_type": "code",
   "execution_count": 51,
   "metadata": {},
   "outputs": [],
   "source": [
    "from sklearn.preprocessing import MultiLabelBinarizer\n",
    "\n",
    "vector_mlb = MultiLabelBinarizer(sparse_output=True)\n",
    "\n",
    "X_train.production_company = X_train.production_company.str.split(', ')\n",
    "X_test.production_company = X_test.production_company.str.split(', ')"
   ]
  },
  {
   "cell_type": "code",
   "execution_count": 52,
   "metadata": {},
   "outputs": [],
   "source": [
    "X_train = X_train.merge(pd.DataFrame.sparse.from_spmatrix(vector_mlb.fit_transform(X_train.production_company), \n",
    "                                                          X_train.index, 'production_company_' + vector_mlb.classes_), \n",
    "                        left_index=True, \n",
    "                        right_index=True)\n",
    "X_test = X_test.merge(pd.DataFrame.sparse.from_spmatrix(vector_mlb.transform(X_test.production_company), \n",
    "                                                        X_test.index, 'production_company_' + vector_mlb.classes_),\n",
    "                      left_index=True, \n",
    "                      right_index=True)"
   ]
  },
  {
   "cell_type": "code",
   "execution_count": 53,
   "metadata": {},
   "outputs": [],
   "source": [
    "X_train.drop([\"production_company\"], axis=1, inplace=True)\n",
    "X_test.drop([\"production_company\"], axis=1, inplace=True)"
   ]
  },
  {
   "cell_type": "code",
   "execution_count": 54,
   "metadata": {},
   "outputs": [
    {
     "data": {
      "text/plain": [
       "((42138, 17047), (18060, 17047))"
      ]
     },
     "execution_count": 54,
     "metadata": {},
     "output_type": "execute_result"
    }
   ],
   "source": [
    "X_train.shape, X_test.shape"
   ]
  },
  {
   "cell_type": "markdown",
   "metadata": {},
   "source": [
    "There is no missing data in **genre** feature, so we just encode it."
   ]
  },
  {
   "cell_type": "code",
   "execution_count": 55,
   "metadata": {},
   "outputs": [],
   "source": [
    "X_train = pd.concat([X_train, X_train.genre.str.get_dummies(sep=', ').add_prefix('genre_')], axis = 1)\n",
    "X_test = pd.concat([X_test, X_test.genre.str.get_dummies(sep=', ').add_prefix('genre_')], axis = 1)\n",
    "\n",
    "X_test[X_train.columns.difference(X_test.columns)] = 0\n",
    "X_train[X_test.columns.difference(X_train.columns)] = 0"
   ]
  },
  {
   "cell_type": "code",
   "execution_count": 56,
   "metadata": {},
   "outputs": [],
   "source": [
    "X_train.drop([\"genre\"], axis=1, inplace=True)\n",
    "X_test.drop([\"genre\"], axis=1, inplace=True)"
   ]
  },
  {
   "cell_type": "code",
   "execution_count": 57,
   "metadata": {},
   "outputs": [
    {
     "data": {
      "text/plain": [
       "((42138, 17070), (18060, 17070))"
      ]
     },
     "execution_count": 57,
     "metadata": {},
     "output_type": "execute_result"
    }
   ],
   "source": [
    "X_train.shape, X_test.shape"
   ]
  },
  {
   "cell_type": "markdown",
   "metadata": {},
   "source": [
    "We got a lot of features, so we will **drop** those that almost no one has, that is, we can say that they are unique."
   ]
  },
  {
   "cell_type": "code",
   "execution_count": 58,
   "metadata": {},
   "outputs": [],
   "source": [
    "unique = 1 - X_train.astype(bool).sum(axis=0) / X_train.shape[0]\n",
    "unique = unique[unique > 0.995]"
   ]
  },
  {
   "cell_type": "code",
   "execution_count": 59,
   "metadata": {},
   "outputs": [],
   "source": [
    "X_train.drop(unique.index, axis=1, inplace=True)\n",
    "X_test.drop(unique.index, axis=1, inplace=True)"
   ]
  },
  {
   "cell_type": "code",
   "execution_count": 60,
   "metadata": {},
   "outputs": [
    {
     "data": {
      "text/plain": [
       "((42138, 97), (18060, 97))"
      ]
     },
     "execution_count": 60,
     "metadata": {},
     "output_type": "execute_result"
    }
   ],
   "source": [
    "X_train.shape, X_test.shape"
   ]
  },
  {
   "cell_type": "code",
   "execution_count": 61,
   "metadata": {},
   "outputs": [
    {
     "data": {
      "text/plain": [
       "Index([], dtype='object')"
      ]
     },
     "execution_count": 61,
     "metadata": {},
     "output_type": "execute_result"
    }
   ],
   "source": [
    "X_train.columns.difference(X_test.columns)"
   ]
  },
  {
   "cell_type": "code",
   "execution_count": 62,
   "metadata": {},
   "outputs": [],
   "source": [
    "# for i in X_test:\n",
    "#     print(i)"
   ]
  },
  {
   "cell_type": "code",
   "execution_count": 63,
   "metadata": {},
   "outputs": [],
   "source": [
    "from sklearn.compose import ColumnTransformer\n",
    "from sklearn.preprocessing import StandardScaler\n",
    "from sklearn.impute import SimpleImputer\n",
    "from sklearn.pipeline import Pipeline, make_pipeline\n",
    "\n",
    "num_col = ['duration', \n",
    "           'month_published']\n",
    "\n",
    "num_pipe = make_pipeline(\n",
    "    SimpleImputer(missing_values=np.nan, strategy='most_frequent'),\n",
    "    StandardScaler())\n",
    "\n",
    "column_transformer = ColumnTransformer([('num', num_pipe, num_col),], remainder='passthrough')"
   ]
  },
  {
   "cell_type": "code",
   "execution_count": 64,
   "metadata": {},
   "outputs": [
    {
     "data": {
      "text/html": [
       "<div>\n",
       "<style scoped>\n",
       "    .dataframe tbody tr th:only-of-type {\n",
       "        vertical-align: middle;\n",
       "    }\n",
       "\n",
       "    .dataframe tbody tr th {\n",
       "        vertical-align: top;\n",
       "    }\n",
       "\n",
       "    .dataframe thead th {\n",
       "        text-align: right;\n",
       "    }\n",
       "</style>\n",
       "<table border=\"1\" class=\"dataframe\">\n",
       "  <thead>\n",
       "    <tr style=\"text-align: right;\">\n",
       "      <th></th>\n",
       "      <th>duration</th>\n",
       "      <th>popular_dirctor</th>\n",
       "      <th>popular_actor</th>\n",
       "      <th>month_published</th>\n",
       "      <th>country_Argentina</th>\n",
       "      <th>country_Australia</th>\n",
       "      <th>country_Austria</th>\n",
       "      <th>country_Belgium</th>\n",
       "      <th>country_Brazil</th>\n",
       "      <th>country_Canada</th>\n",
       "      <th>...</th>\n",
       "      <th>genre_Horror</th>\n",
       "      <th>genre_Music</th>\n",
       "      <th>genre_Musical</th>\n",
       "      <th>genre_Mystery</th>\n",
       "      <th>genre_Romance</th>\n",
       "      <th>genre_Sci-Fi</th>\n",
       "      <th>genre_Sport</th>\n",
       "      <th>genre_Thriller</th>\n",
       "      <th>genre_War</th>\n",
       "      <th>genre_Western</th>\n",
       "    </tr>\n",
       "  </thead>\n",
       "  <tbody>\n",
       "    <tr>\n",
       "      <th>25681</th>\n",
       "      <td>88</td>\n",
       "      <td>0</td>\n",
       "      <td>0</td>\n",
       "      <td>4</td>\n",
       "      <td>0</td>\n",
       "      <td>0</td>\n",
       "      <td>0</td>\n",
       "      <td>0</td>\n",
       "      <td>0</td>\n",
       "      <td>0</td>\n",
       "      <td>...</td>\n",
       "      <td>0</td>\n",
       "      <td>0</td>\n",
       "      <td>0</td>\n",
       "      <td>0</td>\n",
       "      <td>0</td>\n",
       "      <td>0</td>\n",
       "      <td>0</td>\n",
       "      <td>0</td>\n",
       "      <td>0</td>\n",
       "      <td>0</td>\n",
       "    </tr>\n",
       "    <tr>\n",
       "      <th>51975</th>\n",
       "      <td>141</td>\n",
       "      <td>0</td>\n",
       "      <td>0</td>\n",
       "      <td>8</td>\n",
       "      <td>0</td>\n",
       "      <td>0</td>\n",
       "      <td>0</td>\n",
       "      <td>0</td>\n",
       "      <td>0</td>\n",
       "      <td>0</td>\n",
       "      <td>...</td>\n",
       "      <td>0</td>\n",
       "      <td>0</td>\n",
       "      <td>0</td>\n",
       "      <td>0</td>\n",
       "      <td>0</td>\n",
       "      <td>0</td>\n",
       "      <td>0</td>\n",
       "      <td>0</td>\n",
       "      <td>0</td>\n",
       "      <td>0</td>\n",
       "    </tr>\n",
       "    <tr>\n",
       "      <th>6287</th>\n",
       "      <td>91</td>\n",
       "      <td>0</td>\n",
       "      <td>1</td>\n",
       "      <td>12</td>\n",
       "      <td>0</td>\n",
       "      <td>0</td>\n",
       "      <td>0</td>\n",
       "      <td>0</td>\n",
       "      <td>0</td>\n",
       "      <td>0</td>\n",
       "      <td>...</td>\n",
       "      <td>0</td>\n",
       "      <td>0</td>\n",
       "      <td>0</td>\n",
       "      <td>0</td>\n",
       "      <td>1</td>\n",
       "      <td>0</td>\n",
       "      <td>0</td>\n",
       "      <td>0</td>\n",
       "      <td>0</td>\n",
       "      <td>0</td>\n",
       "    </tr>\n",
       "    <tr>\n",
       "      <th>12215</th>\n",
       "      <td>105</td>\n",
       "      <td>0</td>\n",
       "      <td>0</td>\n",
       "      <td>4</td>\n",
       "      <td>0</td>\n",
       "      <td>0</td>\n",
       "      <td>0</td>\n",
       "      <td>0</td>\n",
       "      <td>0</td>\n",
       "      <td>0</td>\n",
       "      <td>...</td>\n",
       "      <td>0</td>\n",
       "      <td>0</td>\n",
       "      <td>0</td>\n",
       "      <td>0</td>\n",
       "      <td>0</td>\n",
       "      <td>0</td>\n",
       "      <td>0</td>\n",
       "      <td>0</td>\n",
       "      <td>0</td>\n",
       "      <td>0</td>\n",
       "    </tr>\n",
       "    <tr>\n",
       "      <th>21391</th>\n",
       "      <td>123</td>\n",
       "      <td>0</td>\n",
       "      <td>1</td>\n",
       "      <td>1</td>\n",
       "      <td>0</td>\n",
       "      <td>0</td>\n",
       "      <td>0</td>\n",
       "      <td>0</td>\n",
       "      <td>0</td>\n",
       "      <td>0</td>\n",
       "      <td>...</td>\n",
       "      <td>0</td>\n",
       "      <td>0</td>\n",
       "      <td>0</td>\n",
       "      <td>1</td>\n",
       "      <td>0</td>\n",
       "      <td>0</td>\n",
       "      <td>0</td>\n",
       "      <td>0</td>\n",
       "      <td>0</td>\n",
       "      <td>0</td>\n",
       "    </tr>\n",
       "  </tbody>\n",
       "</table>\n",
       "<p>5 rows × 97 columns</p>\n",
       "</div>"
      ],
      "text/plain": [
       "       duration  popular_dirctor  popular_actor  month_published  \\\n",
       "25681        88                0              0                4   \n",
       "51975       141                0              0                8   \n",
       "6287         91                0              1               12   \n",
       "12215       105                0              0                4   \n",
       "21391       123                0              1                1   \n",
       "\n",
       "       country_Argentina  country_Australia  country_Austria  country_Belgium  \\\n",
       "25681                  0                  0                0                0   \n",
       "51975                  0                  0                0                0   \n",
       "6287                   0                  0                0                0   \n",
       "12215                  0                  0                0                0   \n",
       "21391                  0                  0                0                0   \n",
       "\n",
       "       country_Brazil  country_Canada  ...  genre_Horror  genre_Music  \\\n",
       "25681               0               0  ...             0            0   \n",
       "51975               0               0  ...             0            0   \n",
       "6287                0               0  ...             0            0   \n",
       "12215               0               0  ...             0            0   \n",
       "21391               0               0  ...             0            0   \n",
       "\n",
       "       genre_Musical  genre_Mystery  genre_Romance  genre_Sci-Fi  genre_Sport  \\\n",
       "25681              0              0              0             0            0   \n",
       "51975              0              0              0             0            0   \n",
       "6287               0              0              1             0            0   \n",
       "12215              0              0              0             0            0   \n",
       "21391              0              1              0             0            0   \n",
       "\n",
       "       genre_Thriller  genre_War  genre_Western  \n",
       "25681               0          0              0  \n",
       "51975               0          0              0  \n",
       "6287                0          0              0  \n",
       "12215               0          0              0  \n",
       "21391               0          0              0  \n",
       "\n",
       "[5 rows x 97 columns]"
      ]
     },
     "execution_count": 64,
     "metadata": {},
     "output_type": "execute_result"
    }
   ],
   "source": [
    "X_train.head()"
   ]
  },
  {
   "cell_type": "markdown",
   "metadata": {},
   "source": [
    "## Part 3. Train and compare the models\n",
    "\n",
    "### 3.1. Select models, you are going to train, select hyperparameters that have to be tunes."
   ]
  },
  {
   "cell_type": "code",
   "execution_count": 65,
   "metadata": {},
   "outputs": [],
   "source": [
    "from sklearn.pipeline import Pipeline\n",
    "from sklearn.ensemble import GradientBoostingClassifier, RandomForestClassifier\n",
    "from sklearn.model_selection import GridSearchCV\n",
    "from sklearn.tree import DecisionTreeClassifier\n",
    "from sklearn.naive_bayes import GaussianNB\n",
    "from sklearn.linear_model import LogisticRegression"
   ]
  },
  {
   "cell_type": "markdown",
   "metadata": {},
   "source": [
    "#### Random Forest Classifier model"
   ]
  },
  {
   "cell_type": "code",
   "execution_count": 66,
   "metadata": {},
   "outputs": [],
   "source": [
    "# Random Forest Classifier model\n",
    "\n",
    "Random_Forest_pipe = Pipeline([('column_transformer', column_transformer), \n",
    "                               ('estimator', RandomForestClassifier())])\n",
    "\n",
    "\n",
    "Random_Forest_param_grid = {'estimator': [RandomForestClassifier()],\n",
    "                            'estimator__criterion':  [\"gini\", \"entropy\", \"log_loss\"], \n",
    "                            'estimator__n_estimators': [100, 500, 700], # testes for 100, 500, 1000\n",
    "                            'estimator__max_depth': [5, 10, 15],  # testes for 5, 10, 15 \n",
    "                            'estimator__min_samples_leaf': [9]\n",
    "                           }"
   ]
  },
  {
   "cell_type": "markdown",
   "metadata": {},
   "source": [
    "For Random Forest Classifier we will try to tune these hyperparameters:\n",
    "* criterion - The function to measure the quality of a split\n",
    "* n_estimators - The number of trees in the forest.\n",
    "* max_depth - The maximum depth of the tree\n",
    "* min_samples_leaf - The minimum number of samples required to be at a leaf node."
   ]
  },
  {
   "cell_type": "markdown",
   "metadata": {},
   "source": [
    "#### Gradient Boosting Classifier model"
   ]
  },
  {
   "cell_type": "code",
   "execution_count": 67,
   "metadata": {},
   "outputs": [],
   "source": [
    "# Gradient Boosting Classifier model\n",
    "\n",
    "GradientBoosting_pipe = Pipeline([('column_transformer', column_transformer), \n",
    "                          ('estimator', GradientBoostingClassifier())])\n",
    "\n",
    "GradientBoosting_param_grid = [{'estimator': [GradientBoostingClassifier()],\n",
    "                                'estimator__criterion': ['friedman_mse', 'squared_error'],\n",
    "                                'estimator__learning_rate': [1.7],  # tested for 0.1, 0.5, 0.75, 1.2, 1.5, 1.6\n",
    "                                'estimator__loss': ['exponential'], # tested for log_loss, exponential\n",
    "                                'estimator__n_estimators': [500], # tested for 100, 200, 300, 500, 600,  1000\n",
    "                                'estimator__max_depth': [4],   # tested for 3, 5, 6, 7, 9\n",
    "                                'estimator__min_samples_leaf': [12] # tested for 3, 9, 10, 11, 12, 15\n",
    "                               },]"
   ]
  },
  {
   "cell_type": "markdown",
   "metadata": {},
   "source": [
    "Since the computation time is quite long, we will focus on **tuning** the model that gives the best results. In our case, the best model is Gradient Boosting Classifier, we will try to tune these hyperparameters:\n",
    "* criterion - The function to measure the quality of a split\n",
    "* learning_rate - Learning rate shrinks the contribution of each tree by learning_rate\n",
    "* loss - The loss function to be optimized.\n",
    "* n_estimators - The number of trees in the forest.\n",
    "* max_depth - The maximum depth of the tree.\n",
    "* min_samples_leaf - The minimum number of samples required to be at a leaf node. "
   ]
  },
  {
   "cell_type": "markdown",
   "metadata": {},
   "source": [
    "#### Decision Tree Classifier model"
   ]
  },
  {
   "cell_type": "code",
   "execution_count": 68,
   "metadata": {},
   "outputs": [],
   "source": [
    "# Decision Tree Classifier\n",
    "\n",
    "DecisionTreeClassifier_pipe = Pipeline([('column_transformer', column_transformer), \n",
    "                                        ('estimator', DecisionTreeClassifier())])\n",
    "\n",
    "DecisionTreeClassifier_param_grid = {'estimator': [DecisionTreeClassifier()],\n",
    "                                     'estimator__max_depth': [3, 5, 6, 9, 12],\n",
    "                                     'estimator__criterion': ['gini', 'entropy', 'log_loss'],\n",
    "                                     'estimator__min_samples_leaf': [3, 6, 9, 16, 24, 48]\n",
    "                           }"
   ]
  },
  {
   "cell_type": "markdown",
   "metadata": {},
   "source": [
    "For Decision Tree Classifier we will try to tune these hyperparameters:\n",
    "* max_depth - The maximum depth of the tree\n",
    "* criterion - The function to measure the quality of a split\n",
    "* min_samples_leaf - The minimum number of samples required to be at a leaf node"
   ]
  },
  {
   "cell_type": "markdown",
   "metadata": {},
   "source": [
    "#### Logistic Regression model"
   ]
  },
  {
   "cell_type": "code",
   "execution_count": 69,
   "metadata": {},
   "outputs": [],
   "source": [
    "LogisticRegression_pipe = Pipeline([('column_transformer', column_transformer), \n",
    "                                    ('estimator', LogisticRegression(n_jobs=-1))])\n",
    "\n",
    "LogisticRegression_param_grid = {'estimator__penalty': ['none', 'l2', 'elasticnet'], \n",
    "                                 'estimator__C': [0.01, 0.1, 0.5, 1, 5, 10, 15, 20],\n",
    "                                 'estimator__solver' : ['newton-cg', 'sag', 'saga',  'lbfgs']}"
   ]
  },
  {
   "cell_type": "markdown",
   "metadata": {},
   "source": [
    "Logical regression does not have many parameters, so we will try to tune these hyperparameters:\n",
    "* penalty - Specify the norm of the penalty\n",
    "* C - Inverse of regularization strength\n",
    "* solver{‘newton-cg’, ‘lbfgs’, ‘liblinear’, ‘sag’, ‘saga’}, default=’lbfgs’\n",
    "\n",
    "For small datasets, ‘liblinear’ is a good choice, whereas ‘sag’ and ‘saga’ are faster for large ones;\n",
    "For multiclass problems, only ‘newton-cg’, ‘sag’, ‘saga’ and ‘lbfgs’ handle multinomial loss;\n",
    "‘liblinear’ is limited to one-versus-rest schemes."
   ]
  },
  {
   "cell_type": "markdown",
   "metadata": {},
   "source": [
    "### 3.2 Use cross-validation to compare models and select best set of hyperparameters"
   ]
  },
  {
   "cell_type": "code",
   "execution_count": 70,
   "metadata": {},
   "outputs": [
    {
     "data": {
      "text/plain": [
       "GridSearchCV(cv=5,\n",
       "             estimator=Pipeline(steps=[('column_transformer',\n",
       "                                        ColumnTransformer(remainder='passthrough',\n",
       "                                                          transformers=[('num',\n",
       "                                                                         Pipeline(steps=[('simpleimputer',\n",
       "                                                                                          SimpleImputer(strategy='most_frequent')),\n",
       "                                                                                         ('standardscaler',\n",
       "                                                                                          StandardScaler())]),\n",
       "                                                                         ['duration',\n",
       "                                                                          'month_published'])])),\n",
       "                                       ('estimator',\n",
       "                                        RandomForestClassifier())]),\n",
       "             n_jobs=-1,\n",
       "             param_grid={'estimator': [RandomForestClassifier(max_depth=15,\n",
       "                                                              min_samples_leaf=9,\n",
       "                                                              n_estimators=500)],\n",
       "                         'estimator__criterion': ['gini', 'entropy',\n",
       "                                                  'log_loss'],\n",
       "                         'estimator__max_depth': [5, 10, 15],\n",
       "                         'estimator__min_samples_leaf': [9],\n",
       "                         'estimator__n_estimators': [100, 500, 700]},\n",
       "             scoring='f1')"
      ]
     },
     "execution_count": 70,
     "metadata": {},
     "output_type": "execute_result"
    }
   ],
   "source": [
    "Random_Forest_cv = GridSearchCV(Random_Forest_pipe, \n",
    "                                param_grid=Random_Forest_param_grid, \n",
    "                                scoring='f1', \n",
    "                                cv=5, \n",
    "                                n_jobs=-1)\n",
    "\n",
    "Random_Forest_cv.fit(X_train, y_train)"
   ]
  },
  {
   "cell_type": "code",
   "execution_count": 71,
   "metadata": {},
   "outputs": [
    {
     "name": "stdout",
     "output_type": "stream",
     "text": [
      "Best score for Random Forest:  0.377606419968589\n",
      "Pipeline(steps=[('column_transformer',\n",
      "                 ColumnTransformer(remainder='passthrough',\n",
      "                                   transformers=[('num',\n",
      "                                                  Pipeline(steps=[('simpleimputer',\n",
      "                                                                   SimpleImputer(strategy='most_frequent')),\n",
      "                                                                  ('standardscaler',\n",
      "                                                                   StandardScaler())]),\n",
      "                                                  ['duration',\n",
      "                                                   'month_published'])])),\n",
      "                ('estimator',\n",
      "                 RandomForestClassifier(max_depth=15, min_samples_leaf=9,\n",
      "                                        n_estimators=500))])\n"
     ]
    }
   ],
   "source": [
    "print('Best score for Random Forest: ', Random_Forest_cv.best_score_)\n",
    "print(Random_Forest_cv.best_estimator_)"
   ]
  },
  {
   "cell_type": "code",
   "execution_count": 94,
   "metadata": {},
   "outputs": [],
   "source": [
    "y_pred_Random_Forest_train = Random_Forest_cv.best_estimator_.predict(X_train)"
   ]
  },
  {
   "cell_type": "code",
   "execution_count": 95,
   "metadata": {},
   "outputs": [
    {
     "name": "stdout",
     "output_type": "stream",
     "text": [
      "f1_score for Random Forest for train data 0.4107\n",
      "\n",
      "****************************************************************************************************************\n"
     ]
    }
   ],
   "source": [
    "print(\"f1_score for Random Forest for train data\", f1_score(y_train, y_pred_Random_Forest_train).round(4), end=\"\\n\\n\")\n",
    "print(\"****************************************************************************************************************\")"
   ]
  },
  {
   "cell_type": "code",
   "execution_count": 72,
   "metadata": {},
   "outputs": [],
   "source": [
    "y_pred_Random_Forest = Random_Forest_cv.best_estimator_.predict(X_test)"
   ]
  },
  {
   "cell_type": "code",
   "execution_count": 73,
   "metadata": {},
   "outputs": [
    {
     "name": "stdout",
     "output_type": "stream",
     "text": [
      "f1_score for Random Forest 0.3855\n",
      "\n",
      "****************************************************************************************************************\n"
     ]
    }
   ],
   "source": [
    "print(\"f1_score for Random Forest\", f1_score(y_test, y_pred_Random_Forest).round(4), end=\"\\n\\n\")\n",
    "print(\"****************************************************************************************************************\")"
   ]
  },
  {
   "cell_type": "code",
   "execution_count": 74,
   "metadata": {},
   "outputs": [
    {
     "data": {
      "text/plain": [
       "GridSearchCV(cv=5,\n",
       "             estimator=Pipeline(steps=[('column_transformer',\n",
       "                                        ColumnTransformer(remainder='passthrough',\n",
       "                                                          transformers=[('num',\n",
       "                                                                         Pipeline(steps=[('simpleimputer',\n",
       "                                                                                          SimpleImputer(strategy='most_frequent')),\n",
       "                                                                                         ('standardscaler',\n",
       "                                                                                          StandardScaler())]),\n",
       "                                                                         ['duration',\n",
       "                                                                          'month_published'])])),\n",
       "                                       ('estimator',\n",
       "                                        GradientBoostingClassifier())]),\n",
       "             n_jobs=-1,\n",
       "             param_grid=[{'estim...': [GradientBoostingClassifier(learning_rate=1.7,\n",
       "                                                                   loss='exponential',\n",
       "                                                                   max_depth=4,\n",
       "                                                                   min_samples_leaf=12,\n",
       "                                                                   n_estimators=500)],\n",
       "                          'estimator__criterion': ['friedman_mse',\n",
       "                                                   'squared_error'],\n",
       "                          'estimator__learning_rate': [1.7],\n",
       "                          'estimator__loss': ['exponential'],\n",
       "                          'estimator__max_depth': [4],\n",
       "                          'estimator__min_samples_leaf': [12],\n",
       "                          'estimator__n_estimators': [500]}],\n",
       "             scoring='f1')"
      ]
     },
     "execution_count": 74,
     "metadata": {},
     "output_type": "execute_result"
    }
   ],
   "source": [
    "GradientBoosting_cv = GridSearchCV(GradientBoosting_pipe,\n",
    "                                   param_grid=GradientBoosting_param_grid, \n",
    "                                   scoring='f1', \n",
    "                                   cv=5, \n",
    "                                   n_jobs=-1)\n",
    "\n",
    "GradientBoosting_cv.fit(X_train, y_train)"
   ]
  },
  {
   "cell_type": "code",
   "execution_count": 75,
   "metadata": {},
   "outputs": [
    {
     "name": "stdout",
     "output_type": "stream",
     "text": [
      "Bests score for Gradient Boosting:  0.4786494573851421\n",
      "Pipeline(steps=[('column_transformer',\n",
      "                 ColumnTransformer(remainder='passthrough',\n",
      "                                   transformers=[('num',\n",
      "                                                  Pipeline(steps=[('simpleimputer',\n",
      "                                                                   SimpleImputer(strategy='most_frequent')),\n",
      "                                                                  ('standardscaler',\n",
      "                                                                   StandardScaler())]),\n",
      "                                                  ['duration',\n",
      "                                                   'month_published'])])),\n",
      "                ('estimator',\n",
      "                 GradientBoostingClassifier(learning_rate=1.7,\n",
      "                                            loss='exponential', max_depth=4,\n",
      "                                            min_samples_leaf=12,\n",
      "                                            n_estimators=500))])\n"
     ]
    }
   ],
   "source": [
    "print('Bests score for Gradient Boosting: ', GradientBoosting_cv.best_score_)\n",
    "print(GradientBoosting_cv.best_estimator_)"
   ]
  },
  {
   "cell_type": "code",
   "execution_count": 92,
   "metadata": {},
   "outputs": [],
   "source": [
    "y_pred_Gradient_Boosting_train = GradientBoosting_cv.best_estimator_.predict(X_train)"
   ]
  },
  {
   "cell_type": "code",
   "execution_count": 93,
   "metadata": {},
   "outputs": [
    {
     "name": "stdout",
     "output_type": "stream",
     "text": [
      "f1_score for Gradient Boosting for train data 0.6908\n",
      "\n",
      "****************************************************************************************************************\n"
     ]
    }
   ],
   "source": [
    "print(\"f1_score for Gradient Boosting for train data\", f1_score(y_train, y_pred_Gradient_Boosting_train).round(4), end=\"\\n\\n\")\n",
    "print(\"****************************************************************************************************************\")"
   ]
  },
  {
   "cell_type": "code",
   "execution_count": 76,
   "metadata": {},
   "outputs": [],
   "source": [
    "y_pred_Gradient_Boosting = GradientBoosting_cv.best_estimator_.predict(X_test)"
   ]
  },
  {
   "cell_type": "code",
   "execution_count": 77,
   "metadata": {},
   "outputs": [
    {
     "name": "stdout",
     "output_type": "stream",
     "text": [
      "f1_score for Gradient Boosting 0.4824\n",
      "\n",
      "****************************************************************************************************************\n"
     ]
    }
   ],
   "source": [
    "print(\"f1_score for Gradient Boosting\", f1_score(y_test, y_pred_Gradient_Boosting).round(4), end=\"\\n\\n\")\n",
    "print(\"****************************************************************************************************************\")"
   ]
  },
  {
   "cell_type": "code",
   "execution_count": 78,
   "metadata": {},
   "outputs": [
    {
     "data": {
      "text/plain": [
       "GridSearchCV(cv=5,\n",
       "             estimator=Pipeline(steps=[('column_transformer',\n",
       "                                        ColumnTransformer(remainder='passthrough',\n",
       "                                                          transformers=[('num',\n",
       "                                                                         Pipeline(steps=[('simpleimputer',\n",
       "                                                                                          SimpleImputer(strategy='most_frequent')),\n",
       "                                                                                         ('standardscaler',\n",
       "                                                                                          StandardScaler())]),\n",
       "                                                                         ['duration',\n",
       "                                                                          'month_published'])])),\n",
       "                                       ('estimator',\n",
       "                                        DecisionTreeClassifier())]),\n",
       "             n_jobs=-1,\n",
       "             param_grid={'estimator': [DecisionTreeClassifier(max_depth=12,\n",
       "                                                              min_samples_leaf=24)],\n",
       "                         'estimator__criterion': ['gini', 'entropy',\n",
       "                                                  'log_loss'],\n",
       "                         'estimator__max_depth': [3, 5, 6, 9, 12],\n",
       "                         'estimator__min_samples_leaf': [3, 6, 9, 16, 24, 48]},\n",
       "             scoring='f1')"
      ]
     },
     "execution_count": 78,
     "metadata": {},
     "output_type": "execute_result"
    }
   ],
   "source": [
    "DecisionTreeClassifier_cv = GridSearchCV(DecisionTreeClassifier_pipe,\n",
    "                                         param_grid=DecisionTreeClassifier_param_grid, \n",
    "                                         scoring='f1',                                \n",
    "                                         cv=5, \n",
    "                                         n_jobs=-1)\n",
    "\n",
    "DecisionTreeClassifier_cv.fit(X_train, y_train)"
   ]
  },
  {
   "cell_type": "code",
   "execution_count": 79,
   "metadata": {},
   "outputs": [
    {
     "name": "stdout",
     "output_type": "stream",
     "text": [
      "Bests score for Decision Tree:  0.45412433910082883\n",
      "Pipeline(steps=[('column_transformer',\n",
      "                 ColumnTransformer(remainder='passthrough',\n",
      "                                   transformers=[('num',\n",
      "                                                  Pipeline(steps=[('simpleimputer',\n",
      "                                                                   SimpleImputer(strategy='most_frequent')),\n",
      "                                                                  ('standardscaler',\n",
      "                                                                   StandardScaler())]),\n",
      "                                                  ['duration',\n",
      "                                                   'month_published'])])),\n",
      "                ('estimator',\n",
      "                 DecisionTreeClassifier(max_depth=12, min_samples_leaf=24))])\n"
     ]
    }
   ],
   "source": [
    "print('Bests score for Decision Tree: ', DecisionTreeClassifier_cv.best_score_)\n",
    "print(DecisionTreeClassifier_cv.best_estimator_)"
   ]
  },
  {
   "cell_type": "code",
   "execution_count": 90,
   "metadata": {},
   "outputs": [],
   "source": [
    "y_pred_Decision_Tree_train =  DecisionTreeClassifier_cv.best_estimator_.predict(X_train)"
   ]
  },
  {
   "cell_type": "code",
   "execution_count": 91,
   "metadata": {},
   "outputs": [
    {
     "name": "stdout",
     "output_type": "stream",
     "text": [
      "f1_score for Decision Tree for train data 0.4814\n",
      "\n",
      "****************************************************************************************************************\n"
     ]
    }
   ],
   "source": [
    "print(\"f1_score for Decision Tree for train data\", f1_score(y_train, y_pred_Decision_Tree_train).round(4), end=\"\\n\\n\")\n",
    "print(\"****************************************************************************************************************\")"
   ]
  },
  {
   "cell_type": "code",
   "execution_count": 80,
   "metadata": {},
   "outputs": [],
   "source": [
    "y_pred_Decision_Tree =  DecisionTreeClassifier_cv.best_estimator_.predict(X_test)"
   ]
  },
  {
   "cell_type": "code",
   "execution_count": 81,
   "metadata": {},
   "outputs": [
    {
     "name": "stdout",
     "output_type": "stream",
     "text": [
      "f1_score for Decision Tree 0.4385\n",
      "\n",
      "****************************************************************************************************************\n"
     ]
    }
   ],
   "source": [
    "print(\"f1_score for Decision Tree\", f1_score(y_test, y_pred_Decision_Tree).round(4), end=\"\\n\\n\")\n",
    "print(\"****************************************************************************************************************\")"
   ]
  },
  {
   "cell_type": "code",
   "execution_count": 82,
   "metadata": {},
   "outputs": [
    {
     "data": {
      "text/plain": [
       "GridSearchCV(cv=5,\n",
       "             estimator=Pipeline(steps=[('column_transformer',\n",
       "                                        ColumnTransformer(remainder='passthrough',\n",
       "                                                          transformers=[('num',\n",
       "                                                                         Pipeline(steps=[('simpleimputer',\n",
       "                                                                                          SimpleImputer(strategy='most_frequent')),\n",
       "                                                                                         ('standardscaler',\n",
       "                                                                                          StandardScaler())]),\n",
       "                                                                         ['duration',\n",
       "                                                                          'month_published'])])),\n",
       "                                       ('estimator',\n",
       "                                        LogisticRegression(n_jobs=-1))]),\n",
       "             n_jobs=-1,\n",
       "             param_grid={'estimator__C': [0.01, 0.1, 0.5, 1, 5, 10, 15, 20],\n",
       "                         'estimator__penalty': ['none', 'l2', 'elasticnet'],\n",
       "                         'estimator__solver': ['newton-cg', 'sag', 'saga',\n",
       "                                               'lbfgs']},\n",
       "             scoring='f1')"
      ]
     },
     "execution_count": 82,
     "metadata": {},
     "output_type": "execute_result"
    }
   ],
   "source": [
    "LogisticRegression_cv = GridSearchCV(LogisticRegression_pipe, \n",
    "                                     param_grid=LogisticRegression_param_grid, \n",
    "                                     scoring='f1', \n",
    "                                     cv=5,\n",
    "                                     n_jobs=-1)\n",
    "\n",
    "LogisticRegression_cv.fit(X_train, y_train)"
   ]
  },
  {
   "cell_type": "code",
   "execution_count": 83,
   "metadata": {},
   "outputs": [
    {
     "name": "stdout",
     "output_type": "stream",
     "text": [
      "Bests score for Decision Tree:  0.4357338289170241\n",
      "Pipeline(steps=[('column_transformer',\n",
      "                 ColumnTransformer(remainder='passthrough',\n",
      "                                   transformers=[('num',\n",
      "                                                  Pipeline(steps=[('simpleimputer',\n",
      "                                                                   SimpleImputer(strategy='most_frequent')),\n",
      "                                                                  ('standardscaler',\n",
      "                                                                   StandardScaler())]),\n",
      "                                                  ['duration',\n",
      "                                                   'month_published'])])),\n",
      "                ('estimator',\n",
      "                 LogisticRegression(C=5, n_jobs=-1, solver='newton-cg'))])\n"
     ]
    }
   ],
   "source": [
    "print('Bests score for Decision Tree: ', LogisticRegression_cv.best_score_)\n",
    "print(LogisticRegression_cv.best_estimator_)"
   ]
  },
  {
   "cell_type": "code",
   "execution_count": 86,
   "metadata": {},
   "outputs": [],
   "source": [
    "y_pred_LogisticRegression_train =  LogisticRegression_cv.best_estimator_.predict(X_train)"
   ]
  },
  {
   "cell_type": "code",
   "execution_count": 89,
   "metadata": {},
   "outputs": [
    {
     "name": "stdout",
     "output_type": "stream",
     "text": [
      "f1_score for Logistic Regression for train data 0.4358\n",
      "\n",
      "****************************************************************************************************************\n"
     ]
    }
   ],
   "source": [
    "print(\"f1_score for Logistic Regression for train data\", f1_score(y_train, y_pred_LogisticRegression_train).round(4), end=\"\\n\\n\")\n",
    "print(\"****************************************************************************************************************\")"
   ]
  },
  {
   "cell_type": "code",
   "execution_count": 84,
   "metadata": {},
   "outputs": [],
   "source": [
    "y_pred_LogisticRegression =  LogisticRegression_cv.best_estimator_.predict(X_test)"
   ]
  },
  {
   "cell_type": "code",
   "execution_count": 85,
   "metadata": {},
   "outputs": [
    {
     "name": "stdout",
     "output_type": "stream",
     "text": [
      "f1_score for Logistic Regression 0.426\n",
      "\n",
      "****************************************************************************************************************\n"
     ]
    }
   ],
   "source": [
    "print(\"f1_score for Logistic Regression\", f1_score(y_test, y_pred_LogisticRegression).round(4), end=\"\\n\\n\")\n",
    "print(\"****************************************************************************************************************\")"
   ]
  },
  {
   "cell_type": "markdown",
   "metadata": {},
   "source": [
    "### 3.3 Which model and setup is the best? How does it perform on the test dataset? If you were to present this model to the client, how would you describe it?"
   ]
  },
  {
   "cell_type": "markdown",
   "metadata": {},
   "source": [
    "F1 score ranges from 0 to 1, where 0 is the worst possible score and 1 is a perfect score indicating that the model predicts each observation correctly.\n",
    "\n",
    "We have evaluated **four** models using f1 score to to find out how they **perform on the test dataset**:\n",
    "* Gradient Boosting f1 ≈ 0.48\n",
    "* Decision Tree f1 ≈ 0.44\n",
    "* Logistic Regression f1 ≈ 0.43\n",
    "* Random Forest f1 ≈ 0.38\n",
    "\n",
    "In our case, we got the best result for **F1 score ≈ 0.48** when using the **Gradient Boosting** model. We use 97 variables for the predictors. Among them are mainly categorical features that we had to encode using Dummy Encoding. We encoded several features using target coding, for example, we looked at whether a popular director was making a film.\n",
    "\n",
    "We had to **drop some features** from the dataset, as they were either not relevant, or they had a lot of missing data.\n",
    "\n",
    "We compared four different models, and moreover, for each model, we selected the hyperparameters that allow us to obtain the best results.\n",
    "\n",
    "We split the dataset into training and test samples to train and validation of the models. We used a cross-validation approach to tune the hyperparameters of the models.\n",
    "\n",
    "We are not able to make a prediction for absolutely any movie, because our data is not enough, a larger sample is required.\n",
    "\n",
    "For the client, I would say that we are able to predict the success of a film based on data that is quite easy to obtain, and that by developing the model further, we can improve the quality of the prediction by adding more data, taking into account more features, and that work on this model will reduce costs, as they can cancel the shooting of films that will be unsuccessful."
   ]
  },
  {
   "cell_type": "code",
   "execution_count": null,
   "metadata": {},
   "outputs": [],
   "source": []
  }
 ],
 "metadata": {
  "kernelspec": {
   "display_name": "Python 3",
   "language": "python",
   "name": "python3"
  },
  "language_info": {
   "codemirror_mode": {
    "name": "ipython",
    "version": 3
   },
   "file_extension": ".py",
   "mimetype": "text/x-python",
   "name": "python",
   "nbconvert_exporter": "python",
   "pygments_lexer": "ipython3",
   "version": "3.8.8"
  }
 },
 "nbformat": 4,
 "nbformat_minor": 4
}
