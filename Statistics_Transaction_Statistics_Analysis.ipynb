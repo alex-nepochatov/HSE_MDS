{
 "cells": [
  {
   "cell_type": "markdown",
   "id": "3b966271",
   "metadata": {
    "deletable": false,
    "editable": false,
    "nbgrader": {
     "cell_type": "markdown",
     "checksum": "454bbdf6a1ad261cfbadbc014c24f861",
     "grade": false,
     "grade_id": "cell-369809025cbfb1e4",
     "locked": true,
     "schema_version": 3,
     "solution": false,
     "task": false
    }
   },
   "source": [
    "# Statistics basics\n",
    "## Final project\n",
    "Good news! You are hired by some retail company to analyse transaction statistics in a retail chain. (Sorry, this is just an imaginary company so far, but if you successfully finish our program, I'm sure it will become reality.)\n",
    "\n",
    "You have to use everything that we learned so far to answer questions that are asked by your employer.\n",
    "\n",
    "Part of the questions require that you write some code that will be automatically tested with autograding. So when you are finished, please, send this work to automatic grading.\n",
    "\n",
    "The other part of questions are presented in the appropriate quiz. Answer them using your results.\n",
    "\n",
    "Finally, some problems will be assessed manually. So, please, submit your notebook to staff graded assignment as well.\n",
    "\n",
    "Note you are not allowed to use loops anywhere in this project!\n",
    "\n",
    "Let's begin!\n",
    "\n",
    "### Data\n",
    "\n",
    "There are three datasets: `customers.csv`, `purchases.csv` and `shops.csv`. They are stored in `data` folder.\n",
    "\n",
    "`customers.csv` contains information about each customer registered in loyalty program.\n",
    "\n",
    "`shops.csv` contains information about shops and special offers they organized. One shap can organize several offers and therefore there are usually several rows that correspond to the same shops. However, some shops do not organize special offers at all, but they are presented in this table nevertheless.\n",
    "\n",
    "`purchases.csv` is a purchase log. It contains information for all customers, either registered in a loyalty program (in this case we know the corresponding customer id) or not registered. One purchase can be a collection of several items, but we see only the total price of everything bought."
   ]
  },
  {
   "cell_type": "code",
   "execution_count": 176,
   "id": "90990116",
   "metadata": {},
   "outputs": [
    {
     "name": "stdout",
     "output_type": "stream",
     "text": [
      "ls: cannot access 'data/': No such file or directory\r\n"
     ]
    }
   ],
   "source": [
    "!ls data/"
   ]
  },
  {
   "cell_type": "code",
   "execution_count": null,
   "id": "35f8bad5",
   "metadata": {},
   "outputs": [],
   "source": []
  },
  {
   "cell_type": "markdown",
   "id": "959cfc52",
   "metadata": {},
   "source": [
    "First, let us load these datasets and make a quick glance on them."
   ]
  },
  {
   "cell_type": "markdown",
   "id": "b4f3f942",
   "metadata": {
    "deletable": false,
    "editable": false,
    "nbgrader": {
     "cell_type": "markdown",
     "checksum": "5bfa3c88cf777eb154f254de423123a2",
     "grade": false,
     "grade_id": "cell-a2f0b3be149e1b44",
     "locked": true,
     "schema_version": 3,
     "solution": false,
     "task": false
    }
   },
   "source": [
    "### Problem 1 (autograded)\n",
    "Load datasets intro variables `customers`, `purchases` and `shops`. Use `pd.read_csv`."
   ]
  },
  {
   "cell_type": "code",
   "execution_count": 249,
   "id": "08197527",
   "metadata": {},
   "outputs": [],
   "source": [
    "import pandas as pd\n",
    "import numpy as np\n",
    "import matplotlib.pyplot as plt\n",
    "\n",
    "%matplotlib inline"
   ]
  },
  {
   "cell_type": "code",
   "execution_count": 178,
   "id": "16c60f2e",
   "metadata": {},
   "outputs": [],
   "source": [
    "customers = pd.read_csv('https://github.com/mbburova/MDS/raw/main/customers.csv', sep = ',')\n",
    "purchases = pd.read_csv('https://github.com/mbburova/MDS/raw/main/purchases.csv', sep = ',')\n",
    "shops = pd.read_csv('https://github.com/mbburova/MDS/raw/main/shops.csv')"
   ]
  },
  {
   "cell_type": "markdown",
   "id": "d97a5d25",
   "metadata": {},
   "source": [
    "### Problem 2 (quiz)"
   ]
  },
  {
   "cell_type": "markdown",
   "id": "5bbe0a1c",
   "metadata": {
    "deletable": false,
    "editable": false,
    "nbgrader": {
     "cell_type": "markdown",
     "checksum": "0603220371fdbcb9e545525cad325284",
     "grade": false,
     "grade_id": "cell-277368782ff4455f",
     "locked": true,
     "schema_version": 3,
     "solution": false,
     "task": false
    }
   },
   "source": [
    "Investigate dataframes and answer the following questions (in the appropriate Quiz):\n",
    "\n",
    "1. What is the type of variable `customer_id` in the dataset `purchases`?\n",
    "2. What is the type of variable `age` in the dataset `customers`?\n",
    "\n",
    "Note that you have to provide your answers based on the meaning of the data, not on the Python object types of the corresponding column."
   ]
  },
  {
   "cell_type": "code",
   "execution_count": 179,
   "id": "1bc5f1ff",
   "metadata": {},
   "outputs": [
    {
     "data": {
      "text/html": [
       "<div>\n",
       "<style scoped>\n",
       "    .dataframe tbody tr th:only-of-type {\n",
       "        vertical-align: middle;\n",
       "    }\n",
       "\n",
       "    .dataframe tbody tr th {\n",
       "        vertical-align: top;\n",
       "    }\n",
       "\n",
       "    .dataframe thead th {\n",
       "        text-align: right;\n",
       "    }\n",
       "</style>\n",
       "<table border=\"1\" class=\"dataframe\">\n",
       "  <thead>\n",
       "    <tr style=\"text-align: right;\">\n",
       "      <th></th>\n",
       "      <th>customer_id</th>\n",
       "      <th>date</th>\n",
       "      <th>shop_id</th>\n",
       "      <th>total_price</th>\n",
       "    </tr>\n",
       "  </thead>\n",
       "  <tbody>\n",
       "    <tr>\n",
       "      <th>75</th>\n",
       "      <td>3.0</td>\n",
       "      <td>2018-05-26</td>\n",
       "      <td>37</td>\n",
       "      <td>678.226678</td>\n",
       "    </tr>\n",
       "    <tr>\n",
       "      <th>76</th>\n",
       "      <td>3.0</td>\n",
       "      <td>2018-11-03</td>\n",
       "      <td>16</td>\n",
       "      <td>596.651445</td>\n",
       "    </tr>\n",
       "    <tr>\n",
       "      <th>77</th>\n",
       "      <td>3.0</td>\n",
       "      <td>2019-04-06</td>\n",
       "      <td>16</td>\n",
       "      <td>409.057026</td>\n",
       "    </tr>\n",
       "    <tr>\n",
       "      <th>78</th>\n",
       "      <td>3.0</td>\n",
       "      <td>2019-02-09</td>\n",
       "      <td>70</td>\n",
       "      <td>586.738699</td>\n",
       "    </tr>\n",
       "    <tr>\n",
       "      <th>79</th>\n",
       "      <td>3.0</td>\n",
       "      <td>2018-07-01</td>\n",
       "      <td>37</td>\n",
       "      <td>792.209768</td>\n",
       "    </tr>\n",
       "    <tr>\n",
       "      <th>80</th>\n",
       "      <td>4.0</td>\n",
       "      <td>2019-01-25</td>\n",
       "      <td>53</td>\n",
       "      <td>192.320018</td>\n",
       "    </tr>\n",
       "    <tr>\n",
       "      <th>81</th>\n",
       "      <td>4.0</td>\n",
       "      <td>2018-05-25</td>\n",
       "      <td>53</td>\n",
       "      <td>252.955342</td>\n",
       "    </tr>\n",
       "    <tr>\n",
       "      <th>82</th>\n",
       "      <td>4.0</td>\n",
       "      <td>2018-06-08</td>\n",
       "      <td>53</td>\n",
       "      <td>130.087121</td>\n",
       "    </tr>\n",
       "    <tr>\n",
       "      <th>83</th>\n",
       "      <td>4.0</td>\n",
       "      <td>2018-06-16</td>\n",
       "      <td>53</td>\n",
       "      <td>509.840794</td>\n",
       "    </tr>\n",
       "    <tr>\n",
       "      <th>84</th>\n",
       "      <td>4.0</td>\n",
       "      <td>2018-07-22</td>\n",
       "      <td>53</td>\n",
       "      <td>680.812634</td>\n",
       "    </tr>\n",
       "  </tbody>\n",
       "</table>\n",
       "</div>"
      ],
      "text/plain": [
       "    customer_id        date  shop_id  total_price\n",
       "75          3.0  2018-05-26       37   678.226678\n",
       "76          3.0  2018-11-03       16   596.651445\n",
       "77          3.0  2019-04-06       16   409.057026\n",
       "78          3.0  2019-02-09       70   586.738699\n",
       "79          3.0  2018-07-01       37   792.209768\n",
       "80          4.0  2019-01-25       53   192.320018\n",
       "81          4.0  2018-05-25       53   252.955342\n",
       "82          4.0  2018-06-08       53   130.087121\n",
       "83          4.0  2018-06-16       53   509.840794\n",
       "84          4.0  2018-07-22       53   680.812634"
      ]
     },
     "execution_count": 179,
     "metadata": {},
     "output_type": "execute_result"
    }
   ],
   "source": [
    "purchases[75:85]"
   ]
  },
  {
   "cell_type": "code",
   "execution_count": 180,
   "id": "a4efdb98",
   "metadata": {},
   "outputs": [
    {
     "name": "stdout",
     "output_type": "stream",
     "text": [
      "float64\n"
     ]
    }
   ],
   "source": [
    "print(purchases['customer_id'].dtype)"
   ]
  },
  {
   "cell_type": "code",
   "execution_count": 181,
   "id": "38752178",
   "metadata": {},
   "outputs": [
    {
     "data": {
      "text/plain": [
       "array([ 0.,  2.,  3.,  4.,  5.,  7.,  8., 10., 12., 13., 15., 17., 18.,\n",
       "       19., 20., 21., 23., 25., 27., 28.])"
      ]
     },
     "execution_count": 181,
     "metadata": {},
     "output_type": "execute_result"
    }
   ],
   "source": [
    "purchases['customer_id'].unique()[:20]"
   ]
  },
  {
   "cell_type": "code",
   "execution_count": 182,
   "id": "cf7a7597",
   "metadata": {},
   "outputs": [
    {
     "name": "stdout",
     "output_type": "stream",
     "text": [
      "float64\n"
     ]
    }
   ],
   "source": [
    "print(customers['age'].dtype)"
   ]
  },
  {
   "cell_type": "code",
   "execution_count": 183,
   "id": "a3497136",
   "metadata": {},
   "outputs": [
    {
     "data": {
      "text/plain": [
       "array([71., 21., 36., 38., 51., 46., 77., 44., 63., 57., 32., 24., 43.,\n",
       "       42., 53., 52., nan, 13., 64., 58.])"
      ]
     },
     "execution_count": 183,
     "metadata": {},
     "output_type": "execute_result"
    }
   ],
   "source": [
    "customers['age'].unique()[:20]"
   ]
  },
  {
   "cell_type": "markdown",
   "id": "59d9fe95",
   "metadata": {},
   "source": [
    "#### Answer:\n",
    "<br>1. What is the type of variable `customer_id` in the dataset `purchases`? - Categorical type, despite the fact that the variable is expressed in numbers, this variable is categorical, we cannot somehow compare two buyers by ID.\n",
    "\n",
    "<br> 2. What is the type of variable `age` in the dataset `customers`? - Numerical fype. We can compare customers by age."
   ]
  },
  {
   "cell_type": "markdown",
   "id": "daf262b6",
   "metadata": {
    "deletable": false,
    "editable": false,
    "nbgrader": {
     "cell_type": "markdown",
     "checksum": "0ef9904ad2af29fd7de47254b703429e",
     "grade": false,
     "grade_id": "cell-27d72da45a2d686e",
     "locked": true,
     "schema_version": 3,
     "solution": false,
     "task": false
    }
   },
   "source": [
    "### Problem 3 (SGA)\n",
    "Let us consider column `total_price` in the dataset `purchases`. May we assume that this column is an i.i.d. sample from some random variable? Write your answer and full explanation in the cell below.\n"
   ]
  },
  {
   "cell_type": "code",
   "execution_count": 184,
   "id": "d42f09b6",
   "metadata": {},
   "outputs": [
    {
     "data": {
      "text/html": [
       "<div>\n",
       "<style scoped>\n",
       "    .dataframe tbody tr th:only-of-type {\n",
       "        vertical-align: middle;\n",
       "    }\n",
       "\n",
       "    .dataframe tbody tr th {\n",
       "        vertical-align: top;\n",
       "    }\n",
       "\n",
       "    .dataframe thead th {\n",
       "        text-align: right;\n",
       "    }\n",
       "</style>\n",
       "<table border=\"1\" class=\"dataframe\">\n",
       "  <thead>\n",
       "    <tr style=\"text-align: right;\">\n",
       "      <th></th>\n",
       "      <th>customer_id</th>\n",
       "      <th>date</th>\n",
       "      <th>shop_id</th>\n",
       "      <th>total_price</th>\n",
       "    </tr>\n",
       "  </thead>\n",
       "  <tbody>\n",
       "    <tr>\n",
       "      <th>0</th>\n",
       "      <td>0.0</td>\n",
       "      <td>2018-05-04</td>\n",
       "      <td>40</td>\n",
       "      <td>289.673291</td>\n",
       "    </tr>\n",
       "    <tr>\n",
       "      <th>1</th>\n",
       "      <td>0.0</td>\n",
       "      <td>2019-01-26</td>\n",
       "      <td>40</td>\n",
       "      <td>1316.898901</td>\n",
       "    </tr>\n",
       "    <tr>\n",
       "      <th>2</th>\n",
       "      <td>0.0</td>\n",
       "      <td>2018-11-18</td>\n",
       "      <td>42</td>\n",
       "      <td>159.414367</td>\n",
       "    </tr>\n",
       "    <tr>\n",
       "      <th>3</th>\n",
       "      <td>0.0</td>\n",
       "      <td>2018-05-12</td>\n",
       "      <td>42</td>\n",
       "      <td>808.791649</td>\n",
       "    </tr>\n",
       "    <tr>\n",
       "      <th>4</th>\n",
       "      <td>0.0</td>\n",
       "      <td>2019-04-20</td>\n",
       "      <td>42</td>\n",
       "      <td>1207.855038</td>\n",
       "    </tr>\n",
       "  </tbody>\n",
       "</table>\n",
       "</div>"
      ],
      "text/plain": [
       "   customer_id        date  shop_id  total_price\n",
       "0          0.0  2018-05-04       40   289.673291\n",
       "1          0.0  2019-01-26       40  1316.898901\n",
       "2          0.0  2018-11-18       42   159.414367\n",
       "3          0.0  2018-05-12       42   808.791649\n",
       "4          0.0  2019-04-20       42  1207.855038"
      ]
     },
     "execution_count": 184,
     "metadata": {},
     "output_type": "execute_result"
    }
   ],
   "source": [
    "purchases[:5]"
   ]
  },
  {
   "cell_type": "code",
   "execution_count": 185,
   "id": "cc31a4fa",
   "metadata": {},
   "outputs": [
    {
     "data": {
      "text/html": [
       "<div>\n",
       "<style scoped>\n",
       "    .dataframe tbody tr th:only-of-type {\n",
       "        vertical-align: middle;\n",
       "    }\n",
       "\n",
       "    .dataframe tbody tr th {\n",
       "        vertical-align: top;\n",
       "    }\n",
       "\n",
       "    .dataframe thead th {\n",
       "        text-align: right;\n",
       "    }\n",
       "</style>\n",
       "<table border=\"1\" class=\"dataframe\">\n",
       "  <thead>\n",
       "    <tr style=\"text-align: right;\">\n",
       "      <th></th>\n",
       "      <th>customer_id</th>\n",
       "      <th>date</th>\n",
       "      <th>shop_id</th>\n",
       "      <th>total_price</th>\n",
       "    </tr>\n",
       "  </thead>\n",
       "  <tbody>\n",
       "    <tr>\n",
       "      <th>95</th>\n",
       "      <td>4.0</td>\n",
       "      <td>2018-09-05</td>\n",
       "      <td>53</td>\n",
       "      <td>255.405605</td>\n",
       "    </tr>\n",
       "    <tr>\n",
       "      <th>96</th>\n",
       "      <td>4.0</td>\n",
       "      <td>2019-03-20</td>\n",
       "      <td>53</td>\n",
       "      <td>325.092632</td>\n",
       "    </tr>\n",
       "    <tr>\n",
       "      <th>97</th>\n",
       "      <td>4.0</td>\n",
       "      <td>2018-09-20</td>\n",
       "      <td>53</td>\n",
       "      <td>162.541812</td>\n",
       "    </tr>\n",
       "    <tr>\n",
       "      <th>98</th>\n",
       "      <td>4.0</td>\n",
       "      <td>2018-10-27</td>\n",
       "      <td>53</td>\n",
       "      <td>350.996160</td>\n",
       "    </tr>\n",
       "    <tr>\n",
       "      <th>99</th>\n",
       "      <td>4.0</td>\n",
       "      <td>2018-12-22</td>\n",
       "      <td>53</td>\n",
       "      <td>178.504417</td>\n",
       "    </tr>\n",
       "  </tbody>\n",
       "</table>\n",
       "</div>"
      ],
      "text/plain": [
       "    customer_id        date  shop_id  total_price\n",
       "95          4.0  2018-09-05       53   255.405605\n",
       "96          4.0  2019-03-20       53   325.092632\n",
       "97          4.0  2018-09-20       53   162.541812\n",
       "98          4.0  2018-10-27       53   350.996160\n",
       "99          4.0  2018-12-22       53   178.504417"
      ]
     },
     "execution_count": 185,
     "metadata": {},
     "output_type": "execute_result"
    }
   ],
   "source": [
    "purchases[95:100]"
   ]
  },
  {
   "cell_type": "markdown",
   "id": "2b63a595",
   "metadata": {
    "deletable": false,
    "nbgrader": {
     "cell_type": "markdown",
     "checksum": "52c03088288c7f55d4bec60fd28d22ce",
     "grade": true,
     "grade_id": "cell-1dbb612417aee226",
     "locked": false,
     "points": 1,
     "schema_version": 3,
     "solution": true,
     "task": false
    }
   },
   "source": [
    "#### ANSWER:\n",
    "\n",
    "No, \"total_price\" can't be considered as i.i.d.\n",
    "\n",
    "Different rows of this column belong to the same customer_id or to the same shop_id or even to the same customer and shop at the same time, that is, there is a relationship between some rows, which means that values in the column \"total_price\" are not independent.\n",
    "<br>\n",
    "<br>\n",
    "<br>"
   ]
  },
  {
   "cell_type": "markdown",
   "id": "348b2208",
   "metadata": {
    "deletable": false,
    "editable": false,
    "nbgrader": {
     "cell_type": "markdown",
     "checksum": "59d083c8df5f526657c99508627eb090",
     "grade": false,
     "grade_id": "cell-74b47122f0488db1",
     "locked": true,
     "schema_version": 3,
     "solution": false,
     "task": false
    }
   },
   "source": [
    "### Problem 4 (quiz)\n",
    "Visualise distribution of variable `age` in the dataset `customers` using appropriate visualization tool.\n"
   ]
  },
  {
   "cell_type": "code",
   "execution_count": 186,
   "id": "fca53f72",
   "metadata": {
    "deletable": false
   },
   "outputs": [
    {
     "data": {
      "image/png": "[encoded data removed]",
      "text/plain": [
       "<Figure size 432x288 with 1 Axes>"
      ]
     },
     "metadata": {
      "needs_background": "light"
     },
     "output_type": "display_data"
    }
   ],
   "source": [
    "# your code here\n",
    "customers['age'].hist();"
   ]
  },
  {
   "cell_type": "markdown",
   "id": "ffd6ec46",
   "metadata": {},
   "source": [
    "### Problem 5 (quiz)\n",
    "Your employer is going to provide two special offers for all registered customers based on the customer age. They want to pick some threshold age, and offer one special program to customers who are younger than this threshold age and another special program to customers who are older than this age. They want to choose the threshold in such a way that the number of potential participants of both programs coincide (or at least be as close to each other as possible). What is the threshold?"
   ]
  },
  {
   "cell_type": "code",
   "execution_count": 187,
   "id": "58e89991",
   "metadata": {
    "deletable": false
   },
   "outputs": [
    {
     "data": {
      "text/plain": [
       "43.0"
      ]
     },
     "execution_count": 187,
     "metadata": {},
     "output_type": "execute_result"
    }
   ],
   "source": [
    "# your code here\n",
    "customers['age'].median()"
   ]
  },
  {
   "cell_type": "markdown",
   "id": "a538b39b",
   "metadata": {},
   "source": [
    "### Problem 6 (quiz)\n",
    "\n",
    "Let us visualize how purchases are distributed around a year. For example, it is known that December is a hot month for retail due to Christmas. Will you see it in the data? Are there any other tendencies we will see?\n",
    "\n",
    "To do it, we have to extract a month from the `date` variable of `purchases` table and create a new variable (new dataframe column) that contains this month, then plot distribution of this variable. There is a special data type in pandas to represent date and time. However, by default `pd.read_csv` does not try to guess that a particular column contains something that looks like a date and reads it just as a column of strings. So let's convert this column manually using function `pd.to_datetime` first:\n"
   ]
  },
  {
   "cell_type": "code",
   "execution_count": 188,
   "id": "c19f41fa",
   "metadata": {},
   "outputs": [
    {
     "data": {
      "text/html": [
       "<div>\n",
       "<style scoped>\n",
       "    .dataframe tbody tr th:only-of-type {\n",
       "        vertical-align: middle;\n",
       "    }\n",
       "\n",
       "    .dataframe tbody tr th {\n",
       "        vertical-align: top;\n",
       "    }\n",
       "\n",
       "    .dataframe thead th {\n",
       "        text-align: right;\n",
       "    }\n",
       "</style>\n",
       "<table border=\"1\" class=\"dataframe\">\n",
       "  <thead>\n",
       "    <tr style=\"text-align: right;\">\n",
       "      <th></th>\n",
       "      <th>customer_id</th>\n",
       "      <th>date</th>\n",
       "      <th>shop_id</th>\n",
       "      <th>total_price</th>\n",
       "    </tr>\n",
       "  </thead>\n",
       "  <tbody>\n",
       "    <tr>\n",
       "      <th>83</th>\n",
       "      <td>4.0</td>\n",
       "      <td>2018-06-16</td>\n",
       "      <td>53</td>\n",
       "      <td>509.840794</td>\n",
       "    </tr>\n",
       "    <tr>\n",
       "      <th>84</th>\n",
       "      <td>4.0</td>\n",
       "      <td>2018-07-22</td>\n",
       "      <td>53</td>\n",
       "      <td>680.812634</td>\n",
       "    </tr>\n",
       "  </tbody>\n",
       "</table>\n",
       "</div>"
      ],
      "text/plain": [
       "    customer_id        date  shop_id  total_price\n",
       "83          4.0  2018-06-16       53   509.840794\n",
       "84          4.0  2018-07-22       53   680.812634"
      ]
     },
     "execution_count": 188,
     "metadata": {},
     "output_type": "execute_result"
    }
   ],
   "source": [
    "purchases[83:85]"
   ]
  },
  {
   "cell_type": "code",
   "execution_count": 189,
   "id": "65c6dde9",
   "metadata": {},
   "outputs": [],
   "source": [
    "purchases[\"date\"] = pd.to_datetime(purchases[\"date\"])"
   ]
  },
  {
   "cell_type": "code",
   "execution_count": 190,
   "id": "628e7d78",
   "metadata": {},
   "outputs": [
    {
     "data": {
      "text/html": [
       "<div>\n",
       "<style scoped>\n",
       "    .dataframe tbody tr th:only-of-type {\n",
       "        vertical-align: middle;\n",
       "    }\n",
       "\n",
       "    .dataframe tbody tr th {\n",
       "        vertical-align: top;\n",
       "    }\n",
       "\n",
       "    .dataframe thead th {\n",
       "        text-align: right;\n",
       "    }\n",
       "</style>\n",
       "<table border=\"1\" class=\"dataframe\">\n",
       "  <thead>\n",
       "    <tr style=\"text-align: right;\">\n",
       "      <th></th>\n",
       "      <th>customer_id</th>\n",
       "      <th>date</th>\n",
       "      <th>shop_id</th>\n",
       "      <th>total_price</th>\n",
       "    </tr>\n",
       "  </thead>\n",
       "  <tbody>\n",
       "    <tr>\n",
       "      <th>83</th>\n",
       "      <td>4.0</td>\n",
       "      <td>2018-06-16</td>\n",
       "      <td>53</td>\n",
       "      <td>509.840794</td>\n",
       "    </tr>\n",
       "    <tr>\n",
       "      <th>84</th>\n",
       "      <td>4.0</td>\n",
       "      <td>2018-07-22</td>\n",
       "      <td>53</td>\n",
       "      <td>680.812634</td>\n",
       "    </tr>\n",
       "  </tbody>\n",
       "</table>\n",
       "</div>"
      ],
      "text/plain": [
       "    customer_id       date  shop_id  total_price\n",
       "83          4.0 2018-06-16       53   509.840794\n",
       "84          4.0 2018-07-22       53   680.812634"
      ]
     },
     "execution_count": 190,
     "metadata": {},
     "output_type": "execute_result"
    }
   ],
   "source": [
    "purchases[83:85]"
   ]
  },
  {
   "cell_type": "markdown",
   "id": "0e72fb08",
   "metadata": {},
   "source": [
    "Let's check that `date` has correct `dtype`:"
   ]
  },
  {
   "cell_type": "code",
   "execution_count": 191,
   "id": "63282db2",
   "metadata": {},
   "outputs": [
    {
     "data": {
      "text/plain": [
       "dtype('<M8[ns]')"
      ]
     },
     "execution_count": 191,
     "metadata": {},
     "output_type": "execute_result"
    }
   ],
   "source": [
    "purchases[\"date\"].dtype"
   ]
  },
  {
   "cell_type": "markdown",
   "id": "f6b8d8cb",
   "metadata": {},
   "source": [
    "This should return something like `dtype('datetime64[ns]')` or `dtype('<M8[ns]')`. It is much easier to work with dates when they are converted to native datetime format instead of strings. For example, you can find the difference between two dates and do a lot of other things. To extract different features of date like month of even day of week, one can use `.dt` accessor (similar to using `.str` accessor to access string methods), see [documentation](https://pandas.pydata.org/pandas-docs/stable/user_guide/timeseries.html#time-date-components) for details. For example, this is how we can extract day of week (Monday=0, Sunday=6):"
   ]
  },
  {
   "cell_type": "code",
   "execution_count": 192,
   "id": "c580e547",
   "metadata": {},
   "outputs": [
    {
     "data": {
      "text/plain": [
       "0        4\n",
       "1        5\n",
       "2        6\n",
       "3        5\n",
       "4        5\n",
       "        ..\n",
       "40397    5\n",
       "40398    5\n",
       "40399    2\n",
       "40400    5\n",
       "40401    5\n",
       "Name: date, Length: 40402, dtype: int64"
      ]
     },
     "execution_count": 192,
     "metadata": {},
     "output_type": "execute_result"
    }
   ],
   "source": [
    "purchases[\"date\"].dt.dayofweek"
   ]
  },
  {
   "cell_type": "markdown",
   "id": "31fb37ce",
   "metadata": {},
   "source": [
    "Now let us return to our problem here. We want to make a plot that shows how many purchases we have per month. In other words, we want to create and consider new variable `month`. This is a categorical variable. Use an appropriate tool to visualize it.\n",
    "\n",
    "Make this bar plot. \n",
    "\n",
    "**Hint.** To sort the values on the horizontal axis one can use `.sort_index()`.\n"
   ]
  },
  {
   "cell_type": "code",
   "execution_count": 193,
   "id": "712b1c1b",
   "metadata": {},
   "outputs": [
    {
     "data": {
      "text/html": [
       "<div>\n",
       "<style scoped>\n",
       "    .dataframe tbody tr th:only-of-type {\n",
       "        vertical-align: middle;\n",
       "    }\n",
       "\n",
       "    .dataframe tbody tr th {\n",
       "        vertical-align: top;\n",
       "    }\n",
       "\n",
       "    .dataframe thead th {\n",
       "        text-align: right;\n",
       "    }\n",
       "</style>\n",
       "<table border=\"1\" class=\"dataframe\">\n",
       "  <thead>\n",
       "    <tr style=\"text-align: right;\">\n",
       "      <th></th>\n",
       "      <th>customer_id</th>\n",
       "      <th>date</th>\n",
       "      <th>shop_id</th>\n",
       "      <th>total_price</th>\n",
       "    </tr>\n",
       "  </thead>\n",
       "  <tbody>\n",
       "    <tr>\n",
       "      <th>0</th>\n",
       "      <td>0.0</td>\n",
       "      <td>2018-05-04</td>\n",
       "      <td>40</td>\n",
       "      <td>289.673291</td>\n",
       "    </tr>\n",
       "    <tr>\n",
       "      <th>1</th>\n",
       "      <td>0.0</td>\n",
       "      <td>2019-01-26</td>\n",
       "      <td>40</td>\n",
       "      <td>1316.898901</td>\n",
       "    </tr>\n",
       "    <tr>\n",
       "      <th>2</th>\n",
       "      <td>0.0</td>\n",
       "      <td>2018-11-18</td>\n",
       "      <td>42</td>\n",
       "      <td>159.414367</td>\n",
       "    </tr>\n",
       "    <tr>\n",
       "      <th>3</th>\n",
       "      <td>0.0</td>\n",
       "      <td>2018-05-12</td>\n",
       "      <td>42</td>\n",
       "      <td>808.791649</td>\n",
       "    </tr>\n",
       "    <tr>\n",
       "      <th>4</th>\n",
       "      <td>0.0</td>\n",
       "      <td>2019-04-20</td>\n",
       "      <td>42</td>\n",
       "      <td>1207.855038</td>\n",
       "    </tr>\n",
       "  </tbody>\n",
       "</table>\n",
       "</div>"
      ],
      "text/plain": [
       "   customer_id       date  shop_id  total_price\n",
       "0          0.0 2018-05-04       40   289.673291\n",
       "1          0.0 2019-01-26       40  1316.898901\n",
       "2          0.0 2018-11-18       42   159.414367\n",
       "3          0.0 2018-05-12       42   808.791649\n",
       "4          0.0 2019-04-20       42  1207.855038"
      ]
     },
     "execution_count": 193,
     "metadata": {},
     "output_type": "execute_result"
    }
   ],
   "source": [
    "purchases[:5]"
   ]
  },
  {
   "cell_type": "code",
   "execution_count": 194,
   "id": "f68354c3",
   "metadata": {},
   "outputs": [
    {
     "data": {
      "text/html": [
       "<div>\n",
       "<style scoped>\n",
       "    .dataframe tbody tr th:only-of-type {\n",
       "        vertical-align: middle;\n",
       "    }\n",
       "\n",
       "    .dataframe tbody tr th {\n",
       "        vertical-align: top;\n",
       "    }\n",
       "\n",
       "    .dataframe thead th {\n",
       "        text-align: right;\n",
       "    }\n",
       "</style>\n",
       "<table border=\"1\" class=\"dataframe\">\n",
       "  <thead>\n",
       "    <tr style=\"text-align: right;\">\n",
       "      <th></th>\n",
       "      <th>customer_id</th>\n",
       "      <th>date</th>\n",
       "      <th>shop_id</th>\n",
       "      <th>total_price</th>\n",
       "      <th>month</th>\n",
       "    </tr>\n",
       "  </thead>\n",
       "  <tbody>\n",
       "    <tr>\n",
       "      <th>0</th>\n",
       "      <td>0.0</td>\n",
       "      <td>2018-05-04</td>\n",
       "      <td>40</td>\n",
       "      <td>289.673291</td>\n",
       "      <td>5</td>\n",
       "    </tr>\n",
       "    <tr>\n",
       "      <th>1</th>\n",
       "      <td>0.0</td>\n",
       "      <td>2019-01-26</td>\n",
       "      <td>40</td>\n",
       "      <td>1316.898901</td>\n",
       "      <td>1</td>\n",
       "    </tr>\n",
       "    <tr>\n",
       "      <th>2</th>\n",
       "      <td>0.0</td>\n",
       "      <td>2018-11-18</td>\n",
       "      <td>42</td>\n",
       "      <td>159.414367</td>\n",
       "      <td>11</td>\n",
       "    </tr>\n",
       "    <tr>\n",
       "      <th>3</th>\n",
       "      <td>0.0</td>\n",
       "      <td>2018-05-12</td>\n",
       "      <td>42</td>\n",
       "      <td>808.791649</td>\n",
       "      <td>5</td>\n",
       "    </tr>\n",
       "    <tr>\n",
       "      <th>4</th>\n",
       "      <td>0.0</td>\n",
       "      <td>2019-04-20</td>\n",
       "      <td>42</td>\n",
       "      <td>1207.855038</td>\n",
       "      <td>4</td>\n",
       "    </tr>\n",
       "  </tbody>\n",
       "</table>\n",
       "</div>"
      ],
      "text/plain": [
       "   customer_id       date  shop_id  total_price  month\n",
       "0          0.0 2018-05-04       40   289.673291      5\n",
       "1          0.0 2019-01-26       40  1316.898901      1\n",
       "2          0.0 2018-11-18       42   159.414367     11\n",
       "3          0.0 2018-05-12       42   808.791649      5\n",
       "4          0.0 2019-04-20       42  1207.855038      4"
      ]
     },
     "execution_count": 194,
     "metadata": {},
     "output_type": "execute_result"
    }
   ],
   "source": [
    "purchases['month'] = purchases['date'].dt.month\n",
    "purchases[:5]"
   ]
  },
  {
   "cell_type": "code",
   "execution_count": 195,
   "id": "6400fc6b",
   "metadata": {
    "deletable": false,
    "nbgrader": {
     "cell_type": "code",
     "checksum": "d06be0bc6d1545e8763b4bc37f0fbbc7",
     "grade": false,
     "grade_id": "cell-fab958f31a3bfdb3",
     "locked": false,
     "schema_version": 3,
     "solution": true,
     "task": false
    }
   },
   "outputs": [
    {
     "data": {
      "text/html": [
       "<div>\n",
       "<style scoped>\n",
       "    .dataframe tbody tr th:only-of-type {\n",
       "        vertical-align: middle;\n",
       "    }\n",
       "\n",
       "    .dataframe tbody tr th {\n",
       "        vertical-align: top;\n",
       "    }\n",
       "\n",
       "    .dataframe thead th {\n",
       "        text-align: right;\n",
       "    }\n",
       "</style>\n",
       "<table border=\"1\" class=\"dataframe\">\n",
       "  <thead>\n",
       "    <tr style=\"text-align: right;\">\n",
       "      <th></th>\n",
       "      <th>total_price</th>\n",
       "    </tr>\n",
       "    <tr>\n",
       "      <th>month</th>\n",
       "      <th></th>\n",
       "    </tr>\n",
       "  </thead>\n",
       "  <tbody>\n",
       "    <tr>\n",
       "      <th>1</th>\n",
       "      <td>2688</td>\n",
       "    </tr>\n",
       "    <tr>\n",
       "      <th>2</th>\n",
       "      <td>2710</td>\n",
       "    </tr>\n",
       "    <tr>\n",
       "      <th>3</th>\n",
       "      <td>3252</td>\n",
       "    </tr>\n",
       "    <tr>\n",
       "      <th>4</th>\n",
       "      <td>2790</td>\n",
       "    </tr>\n",
       "    <tr>\n",
       "      <th>5</th>\n",
       "      <td>6717</td>\n",
       "    </tr>\n",
       "    <tr>\n",
       "      <th>6</th>\n",
       "      <td>3473</td>\n",
       "    </tr>\n",
       "    <tr>\n",
       "      <th>7</th>\n",
       "      <td>2817</td>\n",
       "    </tr>\n",
       "    <tr>\n",
       "      <th>8</th>\n",
       "      <td>3000</td>\n",
       "    </tr>\n",
       "    <tr>\n",
       "      <th>9</th>\n",
       "      <td>2987</td>\n",
       "    </tr>\n",
       "    <tr>\n",
       "      <th>10</th>\n",
       "      <td>2863</td>\n",
       "    </tr>\n",
       "    <tr>\n",
       "      <th>11</th>\n",
       "      <td>2991</td>\n",
       "    </tr>\n",
       "    <tr>\n",
       "      <th>12</th>\n",
       "      <td>4114</td>\n",
       "    </tr>\n",
       "  </tbody>\n",
       "</table>\n",
       "</div>"
      ],
      "text/plain": [
       "       total_price\n",
       "month             \n",
       "1             2688\n",
       "2             2710\n",
       "3             3252\n",
       "4             2790\n",
       "5             6717\n",
       "6             3473\n",
       "7             2817\n",
       "8             3000\n",
       "9             2987\n",
       "10            2863\n",
       "11            2991\n",
       "12            4114"
      ]
     },
     "execution_count": 195,
     "metadata": {},
     "output_type": "execute_result"
    }
   ],
   "source": [
    "total_price_per_month = purchases[['month', 'total_price']].groupby(['month'])\n",
    "total_price_per_month.count().sort_index()"
   ]
  },
  {
   "cell_type": "code",
   "execution_count": 196,
   "id": "cc4d3f05",
   "metadata": {},
   "outputs": [
    {
     "data": {
      "image/png": "[encoded data removed]",
      "text/plain": [
       "<Figure size 432x288 with 1 Axes>"
      ]
     },
     "metadata": {
      "needs_background": "light"
     },
     "output_type": "display_data"
    }
   ],
   "source": [
    "total_price_per_month.count().sort_index().plot(kind='bar');"
   ]
  },
  {
   "cell_type": "markdown",
   "id": "27c30732",
   "metadata": {},
   "source": [
    "### Problem 7 (SGA)\n",
    "\n",
    "What's wrong with May? Why do we have so many purchases? Are there any unknown holidays in this month? Or it's some other reason? Investigate your data and give an answer. Write it in the cell below. Add new cells to include code / explanations as necessary."
   ]
  },
  {
   "cell_type": "code",
   "execution_count": 198,
   "id": "135552a2",
   "metadata": {},
   "outputs": [
    {
     "data": {
      "text/html": [
       "<div>\n",
       "<style scoped>\n",
       "    .dataframe tbody tr th:only-of-type {\n",
       "        vertical-align: middle;\n",
       "    }\n",
       "\n",
       "    .dataframe tbody tr th {\n",
       "        vertical-align: top;\n",
       "    }\n",
       "\n",
       "    .dataframe thead th {\n",
       "        text-align: right;\n",
       "    }\n",
       "</style>\n",
       "<table border=\"1\" class=\"dataframe\">\n",
       "  <thead>\n",
       "    <tr style=\"text-align: right;\">\n",
       "      <th></th>\n",
       "      <th></th>\n",
       "      <th>customer_id</th>\n",
       "      <th>date</th>\n",
       "      <th>shop_id</th>\n",
       "      <th>total_price</th>\n",
       "    </tr>\n",
       "    <tr>\n",
       "      <th>month</th>\n",
       "      <th>year</th>\n",
       "      <th></th>\n",
       "      <th></th>\n",
       "      <th></th>\n",
       "      <th></th>\n",
       "    </tr>\n",
       "  </thead>\n",
       "  <tbody>\n",
       "    <tr>\n",
       "      <th>1</th>\n",
       "      <th>2019</th>\n",
       "      <td>1902</td>\n",
       "      <td>2688</td>\n",
       "      <td>2688</td>\n",
       "      <td>2688</td>\n",
       "    </tr>\n",
       "    <tr>\n",
       "      <th>2</th>\n",
       "      <th>2019</th>\n",
       "      <td>1952</td>\n",
       "      <td>2710</td>\n",
       "      <td>2710</td>\n",
       "      <td>2710</td>\n",
       "    </tr>\n",
       "    <tr>\n",
       "      <th>3</th>\n",
       "      <th>2019</th>\n",
       "      <td>2356</td>\n",
       "      <td>3252</td>\n",
       "      <td>3252</td>\n",
       "      <td>3252</td>\n",
       "    </tr>\n",
       "    <tr>\n",
       "      <th>4</th>\n",
       "      <th>2019</th>\n",
       "      <td>1979</td>\n",
       "      <td>2790</td>\n",
       "      <td>2790</td>\n",
       "      <td>2790</td>\n",
       "    </tr>\n",
       "    <tr>\n",
       "      <th rowspan=\"2\" valign=\"top\">5</th>\n",
       "      <th>2018</th>\n",
       "      <td>2688</td>\n",
       "      <td>3756</td>\n",
       "      <td>3756</td>\n",
       "      <td>3756</td>\n",
       "    </tr>\n",
       "    <tr>\n",
       "      <th>2019</th>\n",
       "      <td>2103</td>\n",
       "      <td>2961</td>\n",
       "      <td>2961</td>\n",
       "      <td>2961</td>\n",
       "    </tr>\n",
       "    <tr>\n",
       "      <th rowspan=\"2\" valign=\"top\">6</th>\n",
       "      <th>2018</th>\n",
       "      <td>2202</td>\n",
       "      <td>3102</td>\n",
       "      <td>3102</td>\n",
       "      <td>3102</td>\n",
       "    </tr>\n",
       "    <tr>\n",
       "      <th>2019</th>\n",
       "      <td>256</td>\n",
       "      <td>371</td>\n",
       "      <td>371</td>\n",
       "      <td>371</td>\n",
       "    </tr>\n",
       "    <tr>\n",
       "      <th>7</th>\n",
       "      <th>2018</th>\n",
       "      <td>1979</td>\n",
       "      <td>2817</td>\n",
       "      <td>2817</td>\n",
       "      <td>2817</td>\n",
       "    </tr>\n",
       "    <tr>\n",
       "      <th>8</th>\n",
       "      <th>2018</th>\n",
       "      <td>2130</td>\n",
       "      <td>3000</td>\n",
       "      <td>3000</td>\n",
       "      <td>3000</td>\n",
       "    </tr>\n",
       "    <tr>\n",
       "      <th>9</th>\n",
       "      <th>2018</th>\n",
       "      <td>2169</td>\n",
       "      <td>2987</td>\n",
       "      <td>2987</td>\n",
       "      <td>2987</td>\n",
       "    </tr>\n",
       "    <tr>\n",
       "      <th>10</th>\n",
       "      <th>2018</th>\n",
       "      <td>2059</td>\n",
       "      <td>2863</td>\n",
       "      <td>2863</td>\n",
       "      <td>2863</td>\n",
       "    </tr>\n",
       "    <tr>\n",
       "      <th>11</th>\n",
       "      <th>2018</th>\n",
       "      <td>2117</td>\n",
       "      <td>2991</td>\n",
       "      <td>2991</td>\n",
       "      <td>2991</td>\n",
       "    </tr>\n",
       "    <tr>\n",
       "      <th>12</th>\n",
       "      <th>2018</th>\n",
       "      <td>2907</td>\n",
       "      <td>4114</td>\n",
       "      <td>4114</td>\n",
       "      <td>4114</td>\n",
       "    </tr>\n",
       "  </tbody>\n",
       "</table>\n",
       "</div>"
      ],
      "text/plain": [
       "            customer_id  date  shop_id  total_price\n",
       "month year                                         \n",
       "1     2019         1902  2688     2688         2688\n",
       "2     2019         1952  2710     2710         2710\n",
       "3     2019         2356  3252     3252         3252\n",
       "4     2019         1979  2790     2790         2790\n",
       "5     2018         2688  3756     3756         3756\n",
       "      2019         2103  2961     2961         2961\n",
       "6     2018         2202  3102     3102         3102\n",
       "      2019          256   371      371          371\n",
       "7     2018         1979  2817     2817         2817\n",
       "8     2018         2130  3000     3000         3000\n",
       "9     2018         2169  2987     2987         2987\n",
       "10    2018         2059  2863     2863         2863\n",
       "11    2018         2117  2991     2991         2991\n",
       "12    2018         2907  4114     4114         4114"
      ]
     },
     "execution_count": 198,
     "metadata": {},
     "output_type": "execute_result"
    }
   ],
   "source": [
    "purchases[\"year\"] = purchases[\"date\"].dt.year\n",
    "purchases.groupby(['month','year']).count()"
   ]
  },
  {
   "cell_type": "code",
   "execution_count": 199,
   "id": "b56e8c0e",
   "metadata": {
    "deletable": false,
    "nbgrader": {
     "cell_type": "code",
     "checksum": "505135e699b1d4277c277a659245214c",
     "grade": true,
     "grade_id": "cell-b1bb61291c8a3eda",
     "locked": false,
     "points": 0,
     "schema_version": 3,
     "solution": true,
     "task": false
    }
   },
   "outputs": [
    {
     "data": {
      "text/plain": [
       "array([2018, 2019])"
      ]
     },
     "execution_count": 199,
     "metadata": {},
     "output_type": "execute_result"
    }
   ],
   "source": [
    "purchases[\"year\"].unique()"
   ]
  },
  {
   "cell_type": "markdown",
   "id": "775a4819",
   "metadata": {},
   "source": [
    "Correct distribution of the total price by months and years:"
   ]
  },
  {
   "cell_type": "code",
   "execution_count": 200,
   "id": "27826cda",
   "metadata": {},
   "outputs": [
    {
     "data": {
      "image/png": "[encoded data removed]",
      "text/plain": [
       "<Figure size 432x288 with 1 Axes>"
      ]
     },
     "metadata": {
      "needs_background": "light"
     },
     "output_type": "display_data"
    }
   ],
   "source": [
    "purchases[['year', 'month', 'total_price']].groupby(['year', 'month']).count().plot(kind='bar');"
   ]
  },
  {
   "cell_type": "markdown",
   "id": "e22450a3",
   "metadata": {
    "deletable": false,
    "nbgrader": {
     "cell_type": "markdown",
     "checksum": "271b28108fed0af9f56190dd43027412",
     "grade": true,
     "grade_id": "cell-eb9644aaa9d733f7",
     "locked": false,
     "points": 1,
     "schema_version": 3,
     "solution": true,
     "task": false
    }
   },
   "source": [
    "#### ANSWER:\n",
    "\n",
    "We see that for May (as well as for June) we have overlapped data from 2018 and 2019, and this caused such a peak, because we combined May 2018 and May 2019 into one month.\n",
    "\n",
    "<br>\n",
    "<br>"
   ]
  },
  {
   "cell_type": "markdown",
   "id": "bfb696fc",
   "metadata": {
    "deletable": false,
    "editable": false,
    "nbgrader": {
     "cell_type": "markdown",
     "checksum": "8add93327e60c07ef01aa8ac9fc193b1",
     "grade": false,
     "grade_id": "cell-e1cde254c63033c6",
     "locked": true,
     "schema_version": 3,
     "solution": false,
     "task": false
    }
   },
   "source": [
    "### Problem 8 (quiz)\n",
    "We see that people go to shop more often in December. But do they spend more per each visit? Let us draw a bar plot that shows the average purchase total price per month of year. Use `groupby` with the `month` variable you (hopefully) created earlier."
   ]
  },
  {
   "cell_type": "code",
   "execution_count": 202,
   "id": "251fc076",
   "metadata": {
    "deletable": false
   },
   "outputs": [
    {
     "data": {
      "image/png": "[encoded data removed]",
      "text/plain": [
       "<Figure size 432x288 with 1 Axes>"
      ]
     },
     "metadata": {
      "needs_background": "light"
     },
     "output_type": "display_data"
    }
   ],
   "source": [
    "total_price_per_month.total_price.mean().plot(kind='bar');"
   ]
  },
  {
   "cell_type": "markdown",
   "id": "d961812c",
   "metadata": {},
   "source": [
    "### Problem 9 (quiz)\n",
    "Okay, we see that there is a difference between December's mean purchase price and other month's. But we also see that the average price is different in different months (not including December), probably due to some random factors. Is it possible that December behaviour is just a result of fluke? To answer this question, let us compare two months, for example, December and November, in a statistically rigorous way.\n",
    "\n",
    "To do so, let us find the average purchase price in each month in each shop (hint: use `.pivot_table`), then extract two samples: one contains average purchase prices in December and another in November. The number of elements in each sample should be equal to the number of shops. Is it true that they are different? Use the statistical test that suits this problem the best with a two-sided alternative. Then answer the question in a quiz.\n"
   ]
  },
  {
   "cell_type": "code",
   "execution_count": 203,
   "id": "650058f0",
   "metadata": {},
   "outputs": [],
   "source": [
    "from scipy.stats import ttest_1samp"
   ]
  },
  {
   "cell_type": "code",
   "execution_count": 205,
   "id": "84e5c493",
   "metadata": {
    "deletable": false
   },
   "outputs": [
    {
     "data": {
      "text/html": [
       "<div>\n",
       "<style scoped>\n",
       "    .dataframe tbody tr th:only-of-type {\n",
       "        vertical-align: middle;\n",
       "    }\n",
       "\n",
       "    .dataframe tbody tr th {\n",
       "        vertical-align: top;\n",
       "    }\n",
       "\n",
       "    .dataframe thead th {\n",
       "        text-align: right;\n",
       "    }\n",
       "</style>\n",
       "<table border=\"1\" class=\"dataframe\">\n",
       "  <thead>\n",
       "    <tr style=\"text-align: right;\">\n",
       "      <th>month</th>\n",
       "      <th>11</th>\n",
       "      <th>12</th>\n",
       "    </tr>\n",
       "    <tr>\n",
       "      <th>shop_id</th>\n",
       "      <th></th>\n",
       "      <th></th>\n",
       "    </tr>\n",
       "  </thead>\n",
       "  <tbody>\n",
       "    <tr>\n",
       "      <th>5</th>\n",
       "      <td>357.638263</td>\n",
       "      <td>391.401728</td>\n",
       "    </tr>\n",
       "    <tr>\n",
       "      <th>6</th>\n",
       "      <td>303.699118</td>\n",
       "      <td>342.570548</td>\n",
       "    </tr>\n",
       "    <tr>\n",
       "      <th>7</th>\n",
       "      <td>292.622619</td>\n",
       "      <td>319.712044</td>\n",
       "    </tr>\n",
       "    <tr>\n",
       "      <th>8</th>\n",
       "      <td>337.870351</td>\n",
       "      <td>538.285483</td>\n",
       "    </tr>\n",
       "    <tr>\n",
       "      <th>9</th>\n",
       "      <td>425.087083</td>\n",
       "      <td>563.096826</td>\n",
       "    </tr>\n",
       "    <tr>\n",
       "      <th>10</th>\n",
       "      <td>217.020973</td>\n",
       "      <td>313.357910</td>\n",
       "    </tr>\n",
       "    <tr>\n",
       "      <th>11</th>\n",
       "      <td>275.384676</td>\n",
       "      <td>318.960242</td>\n",
       "    </tr>\n",
       "    <tr>\n",
       "      <th>12</th>\n",
       "      <td>190.475581</td>\n",
       "      <td>240.976348</td>\n",
       "    </tr>\n",
       "    <tr>\n",
       "      <th>13</th>\n",
       "      <td>151.675836</td>\n",
       "      <td>317.657407</td>\n",
       "    </tr>\n",
       "    <tr>\n",
       "      <th>14</th>\n",
       "      <td>229.064008</td>\n",
       "      <td>490.243259</td>\n",
       "    </tr>\n",
       "  </tbody>\n",
       "</table>\n",
       "</div>"
      ],
      "text/plain": [
       "month            11          12\n",
       "shop_id                        \n",
       "5        357.638263  391.401728\n",
       "6        303.699118  342.570548\n",
       "7        292.622619  319.712044\n",
       "8        337.870351  538.285483\n",
       "9        425.087083  563.096826\n",
       "10       217.020973  313.357910\n",
       "11       275.384676  318.960242\n",
       "12       190.475581  240.976348\n",
       "13       151.675836  317.657407\n",
       "14       229.064008  490.243259"
      ]
     },
     "execution_count": 205,
     "metadata": {},
     "output_type": "execute_result"
    }
   ],
   "source": [
    "average_purchase = purchases.pivot_table(index='shop_id', \n",
    "                                         columns='month', \n",
    "                                         values='total_price')\n",
    "\n",
    "average_purchase.iloc[5:15, 10:12]"
   ]
  },
  {
   "cell_type": "code",
   "execution_count": 206,
   "id": "4e72cf11",
   "metadata": {},
   "outputs": [
    {
     "data": {
      "text/plain": [
       "shop_id\n",
       "5     357.638263\n",
       "6     303.699118\n",
       "7     292.622619\n",
       "8     337.870351\n",
       "9     425.087083\n",
       "10    217.020973\n",
       "11    275.384676\n",
       "12    190.475581\n",
       "13    151.675836\n",
       "14    229.064008\n",
       "Name: 11, dtype: float64"
      ]
     },
     "execution_count": 206,
     "metadata": {},
     "output_type": "execute_result"
    }
   ],
   "source": [
    "average_purchase_in_november = average_purchase[11]\n",
    "average_purchase_in_november[5:15]"
   ]
  },
  {
   "cell_type": "code",
   "execution_count": 207,
   "id": "4d08a8c8",
   "metadata": {},
   "outputs": [
    {
     "data": {
      "text/plain": [
       "shop_id\n",
       "5     391.401728\n",
       "6     342.570548\n",
       "7     319.712044\n",
       "8     538.285483\n",
       "9     563.096826\n",
       "10    313.357910\n",
       "11    318.960242\n",
       "12    240.976348\n",
       "13    317.657407\n",
       "14    490.243259\n",
       "Name: 12, dtype: float64"
      ]
     },
     "execution_count": 207,
     "metadata": {},
     "output_type": "execute_result"
    }
   ],
   "source": [
    "average_purchase_in_december = average_purchase[12]\n",
    "average_purchase_in_december[5:15]"
   ]
  },
  {
   "cell_type": "code",
   "execution_count": 168,
   "id": "615cb13a",
   "metadata": {},
   "outputs": [
    {
     "data": {
      "text/plain": [
       "Ttest_1sampResult(statistic=12.130046456676514, pvalue=2.8875117936923646e-19)"
      ]
     },
     "execution_count": 168,
     "metadata": {},
     "output_type": "execute_result"
    }
   ],
   "source": [
    "diff = average_purchase_in_december - average_purchase_in_november\n",
    "ttest_1samp(diff,0)"
   ]
  },
  {
   "cell_type": "code",
   "execution_count": 211,
   "id": "046db922",
   "metadata": {},
   "outputs": [
    {
     "data": {
      "text/plain": [
       "Ttest_relResult(statistic=12.130046456676514, pvalue=2.8875117936923646e-19)"
      ]
     },
     "execution_count": 211,
     "metadata": {},
     "output_type": "execute_result"
    }
   ],
   "source": [
    "from scipy.stats import ttest_rel\n",
    "\n",
    "ttest_rel(average_purchase_in_december, average_purchase_in_november)"
   ]
  },
  {
   "cell_type": "markdown",
   "id": "beb3cef3",
   "metadata": {},
   "source": [
    "#### Answer:\n",
    "\n",
    "T-statistic = 12\n",
    "<br>We use Paired t-test, since we have two sets of data that depend on the particular customer"
   ]
  },
  {
   "cell_type": "markdown",
   "id": "dd4a384c",
   "metadata": {},
   "source": [
    "### Problem 10 (autograded)"
   ]
  },
  {
   "cell_type": "markdown",
   "id": "81ff95b8",
   "metadata": {},
   "source": [
    "Now let us investigate customer behaviour. First of all we are interested in the relation between customers' age and their spendings per each purchase. To study this relation, first join tables `purchases` and `customers` in such a way to obtain information on customer's age for each purchase. Call the resulting table `purchases_c`. This table should contain all purchases by the registered customers, but rows that correspond to unregistered customers (not present in `customers`) should be dropped. The resulting table also should contain column `customer_id`."
   ]
  },
  {
   "cell_type": "code",
   "execution_count": 238,
   "id": "68423746",
   "metadata": {
    "deletable": false,
    "nbgrader": {
     "cell_type": "code",
     "checksum": "abf7a39dca4346110f1ce21ee7f1d05b",
     "grade": false,
     "grade_id": "cell-def585989383682a",
     "locked": false,
     "schema_version": 3,
     "solution": true,
     "task": false
    }
   },
   "outputs": [
    {
     "data": {
      "text/html": [
       "<div>\n",
       "<style scoped>\n",
       "    .dataframe tbody tr th:only-of-type {\n",
       "        vertical-align: middle;\n",
       "    }\n",
       "\n",
       "    .dataframe tbody tr th {\n",
       "        vertical-align: top;\n",
       "    }\n",
       "\n",
       "    .dataframe thead th {\n",
       "        text-align: right;\n",
       "    }\n",
       "</style>\n",
       "<table border=\"1\" class=\"dataframe\">\n",
       "  <thead>\n",
       "    <tr style=\"text-align: right;\">\n",
       "      <th></th>\n",
       "      <th>customer_id</th>\n",
       "      <th>date</th>\n",
       "      <th>shop_id</th>\n",
       "      <th>total_price</th>\n",
       "      <th>month</th>\n",
       "      <th>year</th>\n",
       "      <th>customer id</th>\n",
       "      <th>age</th>\n",
       "    </tr>\n",
       "  </thead>\n",
       "  <tbody>\n",
       "    <tr>\n",
       "      <th>40395</th>\n",
       "      <td>NaN</td>\n",
       "      <td>2019-03-20</td>\n",
       "      <td>51</td>\n",
       "      <td>159.104885</td>\n",
       "      <td>3</td>\n",
       "      <td>2019</td>\n",
       "      <td>NaN</td>\n",
       "      <td>NaN</td>\n",
       "    </tr>\n",
       "    <tr>\n",
       "      <th>40396</th>\n",
       "      <td>NaN</td>\n",
       "      <td>2018-06-21</td>\n",
       "      <td>65</td>\n",
       "      <td>207.916148</td>\n",
       "      <td>6</td>\n",
       "      <td>2018</td>\n",
       "      <td>NaN</td>\n",
       "      <td>NaN</td>\n",
       "    </tr>\n",
       "    <tr>\n",
       "      <th>40397</th>\n",
       "      <td>NaN</td>\n",
       "      <td>2018-05-05</td>\n",
       "      <td>37</td>\n",
       "      <td>169.086474</td>\n",
       "      <td>5</td>\n",
       "      <td>2018</td>\n",
       "      <td>NaN</td>\n",
       "      <td>NaN</td>\n",
       "    </tr>\n",
       "    <tr>\n",
       "      <th>40398</th>\n",
       "      <td>NaN</td>\n",
       "      <td>2018-09-29</td>\n",
       "      <td>7</td>\n",
       "      <td>310.993395</td>\n",
       "      <td>9</td>\n",
       "      <td>2018</td>\n",
       "      <td>NaN</td>\n",
       "      <td>NaN</td>\n",
       "    </tr>\n",
       "    <tr>\n",
       "      <th>40399</th>\n",
       "      <td>NaN</td>\n",
       "      <td>2018-10-31</td>\n",
       "      <td>1</td>\n",
       "      <td>17.535630</td>\n",
       "      <td>10</td>\n",
       "      <td>2018</td>\n",
       "      <td>NaN</td>\n",
       "      <td>NaN</td>\n",
       "    </tr>\n",
       "    <tr>\n",
       "      <th>40400</th>\n",
       "      <td>NaN</td>\n",
       "      <td>2019-02-16</td>\n",
       "      <td>37</td>\n",
       "      <td>218.576020</td>\n",
       "      <td>2</td>\n",
       "      <td>2019</td>\n",
       "      <td>NaN</td>\n",
       "      <td>NaN</td>\n",
       "    </tr>\n",
       "    <tr>\n",
       "      <th>40401</th>\n",
       "      <td>NaN</td>\n",
       "      <td>2018-12-15</td>\n",
       "      <td>49</td>\n",
       "      <td>557.510380</td>\n",
       "      <td>12</td>\n",
       "      <td>2018</td>\n",
       "      <td>NaN</td>\n",
       "      <td>NaN</td>\n",
       "    </tr>\n",
       "  </tbody>\n",
       "</table>\n",
       "</div>"
      ],
      "text/plain": [
       "       customer_id       date  shop_id  total_price  month  year  customer id  \\\n",
       "40395          NaN 2019-03-20       51   159.104885      3  2019          NaN   \n",
       "40396          NaN 2018-06-21       65   207.916148      6  2018          NaN   \n",
       "40397          NaN 2018-05-05       37   169.086474      5  2018          NaN   \n",
       "40398          NaN 2018-09-29        7   310.993395      9  2018          NaN   \n",
       "40399          NaN 2018-10-31        1    17.535630     10  2018          NaN   \n",
       "40400          NaN 2019-02-16       37   218.576020      2  2019          NaN   \n",
       "40401          NaN 2018-12-15       49   557.510380     12  2018          NaN   \n",
       "\n",
       "       age  \n",
       "40395  NaN  \n",
       "40396  NaN  \n",
       "40397  NaN  \n",
       "40398  NaN  \n",
       "40399  NaN  \n",
       "40400  NaN  \n",
       "40401  NaN  "
      ]
     },
     "execution_count": 238,
     "metadata": {},
     "output_type": "execute_result"
    }
   ],
   "source": [
    "purchases_c = pd.merge(purchases, \n",
    "                       customers, \n",
    "                       how=\"left\", \n",
    "                       left_on=[\"customer_id\"], \n",
    "                       right_on=[\"customer id\"])\n",
    "purchases_c[40395:]"
   ]
  },
  {
   "cell_type": "code",
   "execution_count": 242,
   "id": "10718a6e",
   "metadata": {},
   "outputs": [],
   "source": [
    "purchases_c = purchases_c.dropna(subset=['customer_id'])"
   ]
  },
  {
   "cell_type": "code",
   "execution_count": 243,
   "id": "0c88724d",
   "metadata": {},
   "outputs": [
    {
     "data": {
      "text/plain": [
       "17548008.0"
      ]
     },
     "execution_count": 243,
     "metadata": {},
     "output_type": "execute_result"
    }
   ],
   "source": [
    "sum(purchases_c[\"customer_id\"])"
   ]
  },
  {
   "cell_type": "code",
   "execution_count": 241,
   "id": "78a2682f",
   "metadata": {
    "deletable": false,
    "editable": false,
    "nbgrader": {
     "cell_type": "code",
     "checksum": "d4ead409d4eb3d8756ddaaa216f14b9e",
     "grade": true,
     "grade_id": "cell-27f4df593483d1bc",
     "locked": true,
     "points": 1,
     "schema_version": 3,
     "solution": false,
     "task": false
    }
   },
   "outputs": [],
   "source": [
    "assert (\n",
    "    purchases_c[lambda x: x[\"customer_id\"] == 123][\"age\"]\n",
    "    == customers.set_index(\"customer id\").loc[123][\"age\"]\n",
    ").all()\n",
    "assert (\n",
    "    purchases_c[lambda x: x[\"customer_id\"] == 12][\"age\"]\n",
    "    == customers.set_index(\"customer id\").loc[12][\"age\"]\n",
    ").all()\n",
    "assert sum(purchases_c[\"customer_id\"]) == 17548008.0"
   ]
  },
  {
   "cell_type": "markdown",
   "id": "2ba6e081",
   "metadata": {},
   "source": [
    "### Problem 11 (autograded)"
   ]
  },
  {
   "cell_type": "code",
   "execution_count": 244,
   "id": "a6c429be",
   "metadata": {},
   "outputs": [
    {
     "data": {
      "text/html": [
       "<div>\n",
       "<style scoped>\n",
       "    .dataframe tbody tr th:only-of-type {\n",
       "        vertical-align: middle;\n",
       "    }\n",
       "\n",
       "    .dataframe tbody tr th {\n",
       "        vertical-align: top;\n",
       "    }\n",
       "\n",
       "    .dataframe thead th {\n",
       "        text-align: right;\n",
       "    }\n",
       "</style>\n",
       "<table border=\"1\" class=\"dataframe\">\n",
       "  <thead>\n",
       "    <tr style=\"text-align: right;\">\n",
       "      <th></th>\n",
       "      <th>customer_id</th>\n",
       "      <th>date</th>\n",
       "      <th>shop_id</th>\n",
       "      <th>total_price</th>\n",
       "      <th>month</th>\n",
       "      <th>year</th>\n",
       "      <th>customer id</th>\n",
       "      <th>age</th>\n",
       "    </tr>\n",
       "  </thead>\n",
       "  <tbody>\n",
       "    <tr>\n",
       "      <th>0</th>\n",
       "      <td>0.0</td>\n",
       "      <td>2018-05-04</td>\n",
       "      <td>40</td>\n",
       "      <td>289.673291</td>\n",
       "      <td>5</td>\n",
       "      <td>2018</td>\n",
       "      <td>0.0</td>\n",
       "      <td>38.0</td>\n",
       "    </tr>\n",
       "    <tr>\n",
       "      <th>1</th>\n",
       "      <td>0.0</td>\n",
       "      <td>2019-01-26</td>\n",
       "      <td>40</td>\n",
       "      <td>1316.898901</td>\n",
       "      <td>1</td>\n",
       "      <td>2019</td>\n",
       "      <td>0.0</td>\n",
       "      <td>38.0</td>\n",
       "    </tr>\n",
       "    <tr>\n",
       "      <th>2</th>\n",
       "      <td>0.0</td>\n",
       "      <td>2018-11-18</td>\n",
       "      <td>42</td>\n",
       "      <td>159.414367</td>\n",
       "      <td>11</td>\n",
       "      <td>2018</td>\n",
       "      <td>0.0</td>\n",
       "      <td>38.0</td>\n",
       "    </tr>\n",
       "    <tr>\n",
       "      <th>3</th>\n",
       "      <td>0.0</td>\n",
       "      <td>2018-05-12</td>\n",
       "      <td>42</td>\n",
       "      <td>808.791649</td>\n",
       "      <td>5</td>\n",
       "      <td>2018</td>\n",
       "      <td>0.0</td>\n",
       "      <td>38.0</td>\n",
       "    </tr>\n",
       "    <tr>\n",
       "      <th>4</th>\n",
       "      <td>0.0</td>\n",
       "      <td>2019-04-20</td>\n",
       "      <td>42</td>\n",
       "      <td>1207.855038</td>\n",
       "      <td>4</td>\n",
       "      <td>2019</td>\n",
       "      <td>0.0</td>\n",
       "      <td>38.0</td>\n",
       "    </tr>\n",
       "    <tr>\n",
       "      <th>...</th>\n",
       "      <td>...</td>\n",
       "      <td>...</td>\n",
       "      <td>...</td>\n",
       "      <td>...</td>\n",
       "      <td>...</td>\n",
       "      <td>...</td>\n",
       "      <td>...</td>\n",
       "      <td>...</td>\n",
       "    </tr>\n",
       "    <tr>\n",
       "      <th>28794</th>\n",
       "      <td>1212.0</td>\n",
       "      <td>2018-11-08</td>\n",
       "      <td>60</td>\n",
       "      <td>46.653544</td>\n",
       "      <td>11</td>\n",
       "      <td>2018</td>\n",
       "      <td>1212.0</td>\n",
       "      <td>24.0</td>\n",
       "    </tr>\n",
       "    <tr>\n",
       "      <th>28795</th>\n",
       "      <td>1212.0</td>\n",
       "      <td>2018-07-20</td>\n",
       "      <td>60</td>\n",
       "      <td>50.592132</td>\n",
       "      <td>7</td>\n",
       "      <td>2018</td>\n",
       "      <td>1212.0</td>\n",
       "      <td>24.0</td>\n",
       "    </tr>\n",
       "    <tr>\n",
       "      <th>28796</th>\n",
       "      <td>1212.0</td>\n",
       "      <td>2019-04-18</td>\n",
       "      <td>15</td>\n",
       "      <td>95.459705</td>\n",
       "      <td>4</td>\n",
       "      <td>2019</td>\n",
       "      <td>1212.0</td>\n",
       "      <td>24.0</td>\n",
       "    </tr>\n",
       "    <tr>\n",
       "      <th>28797</th>\n",
       "      <td>1212.0</td>\n",
       "      <td>2019-02-14</td>\n",
       "      <td>60</td>\n",
       "      <td>69.968788</td>\n",
       "      <td>2</td>\n",
       "      <td>2019</td>\n",
       "      <td>1212.0</td>\n",
       "      <td>24.0</td>\n",
       "    </tr>\n",
       "    <tr>\n",
       "      <th>28798</th>\n",
       "      <td>1212.0</td>\n",
       "      <td>2018-07-13</td>\n",
       "      <td>60</td>\n",
       "      <td>129.335559</td>\n",
       "      <td>7</td>\n",
       "      <td>2018</td>\n",
       "      <td>1212.0</td>\n",
       "      <td>24.0</td>\n",
       "    </tr>\n",
       "  </tbody>\n",
       "</table>\n",
       "<p>28799 rows × 8 columns</p>\n",
       "</div>"
      ],
      "text/plain": [
       "       customer_id       date  shop_id  total_price  month  year  customer id  \\\n",
       "0              0.0 2018-05-04       40   289.673291      5  2018          0.0   \n",
       "1              0.0 2019-01-26       40  1316.898901      1  2019          0.0   \n",
       "2              0.0 2018-11-18       42   159.414367     11  2018          0.0   \n",
       "3              0.0 2018-05-12       42   808.791649      5  2018          0.0   \n",
       "4              0.0 2019-04-20       42  1207.855038      4  2019          0.0   \n",
       "...            ...        ...      ...          ...    ...   ...          ...   \n",
       "28794       1212.0 2018-11-08       60    46.653544     11  2018       1212.0   \n",
       "28795       1212.0 2018-07-20       60    50.592132      7  2018       1212.0   \n",
       "28796       1212.0 2019-04-18       15    95.459705      4  2019       1212.0   \n",
       "28797       1212.0 2019-02-14       60    69.968788      2  2019       1212.0   \n",
       "28798       1212.0 2018-07-13       60   129.335559      7  2018       1212.0   \n",
       "\n",
       "        age  \n",
       "0      38.0  \n",
       "1      38.0  \n",
       "2      38.0  \n",
       "3      38.0  \n",
       "4      38.0  \n",
       "...     ...  \n",
       "28794  24.0  \n",
       "28795  24.0  \n",
       "28796  24.0  \n",
       "28797  24.0  \n",
       "28798  24.0  \n",
       "\n",
       "[28799 rows x 8 columns]"
      ]
     },
     "execution_count": 244,
     "metadata": {},
     "output_type": "execute_result"
    }
   ],
   "source": [
    "purchases_c"
   ]
  },
  {
   "cell_type": "markdown",
   "id": "dcbb0858",
   "metadata": {
    "deletable": false,
    "editable": false,
    "nbgrader": {
     "cell_type": "markdown",
     "checksum": "042b595cac81946a0f0c353720271f0f",
     "grade": false,
     "grade_id": "cell-9b665eced0f53414",
     "locked": true,
     "schema_version": 3,
     "solution": false,
     "task": false
    }
   },
   "source": [
    "To visualize the relation between customer's age and their spendings, we have to transform our table in such a way that one observation (row) corresponds to one customer. Let us do it by groupping and aggregating. Transform table `purchases_c` to find average `total_price` for each customer and keep column `age`. Indexes of the new dataframe should be customer id's. Put the resulting dataframe to variable `purchases_c_mean`.\n"
   ]
  },
  {
   "cell_type": "code",
   "execution_count": 317,
   "id": "d65a057b",
   "metadata": {
    "deletable": false,
    "nbgrader": {
     "cell_type": "code",
     "checksum": "b47c7611a58e4be2be36917918eae735",
     "grade": false,
     "grade_id": "cell-e76268ef19a434d2",
     "locked": false,
     "schema_version": 3,
     "solution": true,
     "task": false
    }
   },
   "outputs": [],
   "source": [
    "purchases_c_mean = purchases_c[['customer_id', 'age', 'total_price']].groupby(['customer_id']).mean().round(decimals=13)"
   ]
  },
  {
   "cell_type": "code",
   "execution_count": 318,
   "id": "b94bfcbf",
   "metadata": {},
   "outputs": [
    {
     "data": {
      "text/html": [
       "<div>\n",
       "<style scoped>\n",
       "    .dataframe tbody tr th:only-of-type {\n",
       "        vertical-align: middle;\n",
       "    }\n",
       "\n",
       "    .dataframe tbody tr th {\n",
       "        vertical-align: top;\n",
       "    }\n",
       "\n",
       "    .dataframe thead th {\n",
       "        text-align: right;\n",
       "    }\n",
       "</style>\n",
       "<table border=\"1\" class=\"dataframe\">\n",
       "  <thead>\n",
       "    <tr style=\"text-align: right;\">\n",
       "      <th></th>\n",
       "      <th>age</th>\n",
       "      <th>total_price</th>\n",
       "    </tr>\n",
       "    <tr>\n",
       "      <th>customer_id</th>\n",
       "      <th></th>\n",
       "      <th></th>\n",
       "    </tr>\n",
       "  </thead>\n",
       "  <tbody>\n",
       "    <tr>\n",
       "      <th>0.0</th>\n",
       "      <td>38.0</td>\n",
       "      <td>711.291471</td>\n",
       "    </tr>\n",
       "    <tr>\n",
       "      <th>2.0</th>\n",
       "      <td>60.0</td>\n",
       "      <td>380.286822</td>\n",
       "    </tr>\n",
       "    <tr>\n",
       "      <th>3.0</th>\n",
       "      <td>NaN</td>\n",
       "      <td>392.825462</td>\n",
       "    </tr>\n",
       "    <tr>\n",
       "      <th>4.0</th>\n",
       "      <td>24.0</td>\n",
       "      <td>349.189551</td>\n",
       "    </tr>\n",
       "    <tr>\n",
       "      <th>5.0</th>\n",
       "      <td>24.0</td>\n",
       "      <td>472.189806</td>\n",
       "    </tr>\n",
       "    <tr>\n",
       "      <th>...</th>\n",
       "      <td>...</td>\n",
       "      <td>...</td>\n",
       "    </tr>\n",
       "    <tr>\n",
       "      <th>1206.0</th>\n",
       "      <td>57.0</td>\n",
       "      <td>251.489294</td>\n",
       "    </tr>\n",
       "    <tr>\n",
       "      <th>1207.0</th>\n",
       "      <td>42.0</td>\n",
       "      <td>525.552619</td>\n",
       "    </tr>\n",
       "    <tr>\n",
       "      <th>1208.0</th>\n",
       "      <td>31.0</td>\n",
       "      <td>640.826988</td>\n",
       "    </tr>\n",
       "    <tr>\n",
       "      <th>1210.0</th>\n",
       "      <td>41.0</td>\n",
       "      <td>289.928423</td>\n",
       "    </tr>\n",
       "    <tr>\n",
       "      <th>1212.0</th>\n",
       "      <td>24.0</td>\n",
       "      <td>213.649949</td>\n",
       "    </tr>\n",
       "  </tbody>\n",
       "</table>\n",
       "<p>867 rows × 2 columns</p>\n",
       "</div>"
      ],
      "text/plain": [
       "              age  total_price\n",
       "customer_id                   \n",
       "0.0          38.0   711.291471\n",
       "2.0          60.0   380.286822\n",
       "3.0           NaN   392.825462\n",
       "4.0          24.0   349.189551\n",
       "5.0          24.0   472.189806\n",
       "...           ...          ...\n",
       "1206.0       57.0   251.489294\n",
       "1207.0       42.0   525.552619\n",
       "1208.0       31.0   640.826988\n",
       "1210.0       41.0   289.928423\n",
       "1212.0       24.0   213.649949\n",
       "\n",
       "[867 rows x 2 columns]"
      ]
     },
     "execution_count": 318,
     "metadata": {},
     "output_type": "execute_result"
    }
   ],
   "source": [
    "purchases_c_mean"
   ]
  },
  {
   "cell_type": "code",
   "execution_count": 319,
   "id": "f7e26bd6",
   "metadata": {},
   "outputs": [
    {
     "data": {
      "text/plain": [
       "137.1136927412783"
      ]
     },
     "execution_count": 319,
     "metadata": {},
     "output_type": "execute_result"
    }
   ],
   "source": [
    "purchases_c_mean.loc[12][\"total_price\"]"
   ]
  },
  {
   "cell_type": "code",
   "execution_count": 320,
   "id": "1f2623a5",
   "metadata": {},
   "outputs": [
    {
     "data": {
      "text/plain": [
       "137.1136927412783"
      ]
     },
     "execution_count": 320,
     "metadata": {},
     "output_type": "execute_result"
    }
   ],
   "source": [
    "purchases_c.query(\"customer_id == 12\")[\"total_price\"].mean()"
   ]
  },
  {
   "cell_type": "code",
   "execution_count": 365,
   "id": "c24fc5f5",
   "metadata": {},
   "outputs": [
    {
     "data": {
      "text/plain": [
       "588.861932595164"
      ]
     },
     "execution_count": 365,
     "metadata": {},
     "output_type": "execute_result"
    }
   ],
   "source": [
    "purchases_c_mean.loc[125][\"total_price\"]"
   ]
  },
  {
   "cell_type": "code",
   "execution_count": 366,
   "id": "98c1004b",
   "metadata": {},
   "outputs": [
    {
     "data": {
      "text/plain": [
       "588.861932595164"
      ]
     },
     "execution_count": 366,
     "metadata": {},
     "output_type": "execute_result"
    }
   ],
   "source": [
    "purchases_c.query(\"customer_id == 125\")[\"total_price\"].mean()"
   ]
  },
  {
   "cell_type": "code",
   "execution_count": 321,
   "id": "c0060ad2",
   "metadata": {
    "deletable": false,
    "editable": false,
    "nbgrader": {
     "cell_type": "code",
     "checksum": "e4efabf877bd870229a3df3daad7c59e",
     "grade": true,
     "grade_id": "cell-8f565c5b33fd9384",
     "locked": true,
     "points": 1,
     "schema_version": 3,
     "solution": false,
     "task": false
    }
   },
   "outputs": [],
   "source": [
    "assert (\n",
    "    purchases_c_mean.loc[12][\"total_price\"]\n",
    "    == purchases_c.query(\"customer_id == 12\")[\"total_price\"].mean()\n",
    ")\n",
    "assert (\n",
    "    purchases_c_mean.loc[125][\"total_price\"]\n",
    "    == purchases_c.query(\"customer_id == 125\")[\"total_price\"].mean()\n",
    ")"
   ]
  },
  {
   "cell_type": "markdown",
   "id": "eafce501",
   "metadata": {},
   "source": [
    "### Problem 12 (quiz)\n",
    "Use dataframe `purchases_c_mean` to visualize the relation between customer's `age` (horizontal axis) and their average `total_price` (vertical axis)."
   ]
  },
  {
   "cell_type": "code",
   "execution_count": 315,
   "id": "7729114f",
   "metadata": {
    "deletable": false,
    "nbgrader": {
     "cell_type": "code",
     "checksum": "f0afe28e37a50a0a710fe4cd37d21568",
     "grade": false,
     "grade_id": "cell-74bf2c586a384ceb",
     "locked": false,
     "schema_version": 3,
     "solution": true,
     "task": false
    }
   },
   "outputs": [
    {
     "data": {
      "image/png": "[encoded data removed]",
      "text/plain": [
       "<Figure size 432x288 with 1 Axes>"
      ]
     },
     "metadata": {
      "needs_background": "light"
     },
     "output_type": "display_data"
    }
   ],
   "source": [
    "purchases_c_mean.plot.scatter(x='age', y='total_price');"
   ]
  },
  {
   "cell_type": "markdown",
   "id": "c3800da6",
   "metadata": {},
   "source": [
    "### Problem 13 (quiz)\n",
    "Find Pearson's correlation coefficient between age and total price."
   ]
  },
  {
   "cell_type": "code",
   "execution_count": 316,
   "id": "0a46ecc0",
   "metadata": {
    "deletable": false,
    "nbgrader": {
     "cell_type": "code",
     "checksum": "b11e48fed0bd437a7f13cf6d44e474bb",
     "grade": false,
     "grade_id": "cell-b49d12358f261cf2",
     "locked": false,
     "schema_version": 3,
     "solution": true,
     "task": false
    }
   },
   "outputs": [
    {
     "data": {
      "text/html": [
       "<div>\n",
       "<style scoped>\n",
       "    .dataframe tbody tr th:only-of-type {\n",
       "        vertical-align: middle;\n",
       "    }\n",
       "\n",
       "    .dataframe tbody tr th {\n",
       "        vertical-align: top;\n",
       "    }\n",
       "\n",
       "    .dataframe thead th {\n",
       "        text-align: right;\n",
       "    }\n",
       "</style>\n",
       "<table border=\"1\" class=\"dataframe\">\n",
       "  <thead>\n",
       "    <tr style=\"text-align: right;\">\n",
       "      <th></th>\n",
       "      <th>age</th>\n",
       "      <th>total_price</th>\n",
       "    </tr>\n",
       "  </thead>\n",
       "  <tbody>\n",
       "    <tr>\n",
       "      <th>age</th>\n",
       "      <td>1.000000</td>\n",
       "      <td>0.165395</td>\n",
       "    </tr>\n",
       "    <tr>\n",
       "      <th>total_price</th>\n",
       "      <td>0.165395</td>\n",
       "      <td>1.000000</td>\n",
       "    </tr>\n",
       "  </tbody>\n",
       "</table>\n",
       "</div>"
      ],
      "text/plain": [
       "                  age  total_price\n",
       "age          1.000000     0.165395\n",
       "total_price  0.165395     1.000000"
      ]
     },
     "execution_count": 316,
     "metadata": {},
     "output_type": "execute_result"
    }
   ],
   "source": [
    "purchases_c_mean.corr(method='pearson')"
   ]
  },
  {
   "cell_type": "markdown",
   "id": "e2025916",
   "metadata": {},
   "source": [
    "### Problem 14 (quiz)\n",
    "We found correlation in the data present on the previous step and made some conclusions based on this data. However, we have to make sure that we can generalize our conclusion to the corresponding population. To do it, let us perform a statistical test of the significance of correlation. This can be done with `scipy.stats.pearsonr`. However, our data contains `NaN`'s in column `age` (there are registered customers with unknown age). Use method `.dropna()` to remove such rows from the dataset, then perform statistical testing with `pearsonr`. This function returns a two-tuple: first value is correlation coefficient and the second is p-value that corresponds to a test where the null hypothesis is that the correlation in population is zero."
   ]
  },
  {
   "cell_type": "code",
   "execution_count": 343,
   "id": "7dc5fc0e",
   "metadata": {
    "deletable": false,
    "nbgrader": {
     "cell_type": "code",
     "checksum": "0f81fc43f64af9bac8d795be5cc662ce",
     "grade": false,
     "grade_id": "cell-952ef9e07ecc7e07",
     "locked": false,
     "schema_version": 3,
     "solution": true,
     "task": false
    }
   },
   "outputs": [
    {
     "name": "stdout",
     "output_type": "stream",
     "text": [
      "Pearson's correlation: 0.165\n",
      "p-value: 1.8e-06\n"
     ]
    }
   ],
   "source": [
    "from scipy.stats import pearsonr\n",
    "\n",
    "purchases_c_mean = purchases_c_mean.dropna(subset=['age'])\n",
    "\n",
    "corr, p_value = pearsonr(purchases_c_mean['age'], purchases_c_mean['total_price'])\n",
    "\n",
    "print(\"Pearson's correlation:\", corr.round(decimals=3))\n",
    "print(\"p-value:\", p_value.round(decimals=7))"
   ]
  },
  {
   "cell_type": "markdown",
   "id": "74a231e9",
   "metadata": {},
   "source": [
    "### Problem 15 (autograded)\n",
    "Now we are going to do the main investigation. We want to understand how special offers in our shops affect customers' behaviour. To do it, we have to identify those purchases that are made during special offers. This can be a bit tricky: for each purchase we know its date and shop id. For each shop we also know the dates of all special offers (there can be several). So for each purchase we have to compare its date with dates of all offers that took place in the corresponding shop.\n",
    "\n",
    "As a first step, let us try to join `purchases_c` with `shops`. Name this table `full_df_preliminary`."
   ]
  },
  {
   "cell_type": "code",
   "execution_count": 344,
   "id": "8ec503a7",
   "metadata": {},
   "outputs": [
    {
     "data": {
      "text/html": [
       "<div>\n",
       "<style scoped>\n",
       "    .dataframe tbody tr th:only-of-type {\n",
       "        vertical-align: middle;\n",
       "    }\n",
       "\n",
       "    .dataframe tbody tr th {\n",
       "        vertical-align: top;\n",
       "    }\n",
       "\n",
       "    .dataframe thead th {\n",
       "        text-align: right;\n",
       "    }\n",
       "</style>\n",
       "<table border=\"1\" class=\"dataframe\">\n",
       "  <thead>\n",
       "    <tr style=\"text-align: right;\">\n",
       "      <th></th>\n",
       "      <th>customer_id</th>\n",
       "      <th>date</th>\n",
       "      <th>shop_id</th>\n",
       "      <th>total_price</th>\n",
       "      <th>month</th>\n",
       "      <th>year</th>\n",
       "      <th>customer id</th>\n",
       "      <th>age</th>\n",
       "    </tr>\n",
       "  </thead>\n",
       "  <tbody>\n",
       "    <tr>\n",
       "      <th>5</th>\n",
       "      <td>0.0</td>\n",
       "      <td>2018-11-24</td>\n",
       "      <td>42</td>\n",
       "      <td>1057.752024</td>\n",
       "      <td>11</td>\n",
       "      <td>2018</td>\n",
       "      <td>0.0</td>\n",
       "      <td>38.0</td>\n",
       "    </tr>\n",
       "    <tr>\n",
       "      <th>6</th>\n",
       "      <td>0.0</td>\n",
       "      <td>2018-07-28</td>\n",
       "      <td>15</td>\n",
       "      <td>896.895694</td>\n",
       "      <td>7</td>\n",
       "      <td>2018</td>\n",
       "      <td>0.0</td>\n",
       "      <td>38.0</td>\n",
       "    </tr>\n",
       "    <tr>\n",
       "      <th>7</th>\n",
       "      <td>0.0</td>\n",
       "      <td>2019-06-01</td>\n",
       "      <td>40</td>\n",
       "      <td>341.922336</td>\n",
       "      <td>6</td>\n",
       "      <td>2019</td>\n",
       "      <td>0.0</td>\n",
       "      <td>38.0</td>\n",
       "    </tr>\n",
       "    <tr>\n",
       "      <th>8</th>\n",
       "      <td>0.0</td>\n",
       "      <td>2019-03-13</td>\n",
       "      <td>42</td>\n",
       "      <td>69.240631</td>\n",
       "      <td>3</td>\n",
       "      <td>2019</td>\n",
       "      <td>0.0</td>\n",
       "      <td>38.0</td>\n",
       "    </tr>\n",
       "    <tr>\n",
       "      <th>9</th>\n",
       "      <td>0.0</td>\n",
       "      <td>2018-12-22</td>\n",
       "      <td>40</td>\n",
       "      <td>936.012095</td>\n",
       "      <td>12</td>\n",
       "      <td>2018</td>\n",
       "      <td>0.0</td>\n",
       "      <td>38.0</td>\n",
       "    </tr>\n",
       "  </tbody>\n",
       "</table>\n",
       "</div>"
      ],
      "text/plain": [
       "   customer_id       date  shop_id  total_price  month  year  customer id  \\\n",
       "5          0.0 2018-11-24       42  1057.752024     11  2018          0.0   \n",
       "6          0.0 2018-07-28       15   896.895694      7  2018          0.0   \n",
       "7          0.0 2019-06-01       40   341.922336      6  2019          0.0   \n",
       "8          0.0 2019-03-13       42    69.240631      3  2019          0.0   \n",
       "9          0.0 2018-12-22       40   936.012095     12  2018          0.0   \n",
       "\n",
       "    age  \n",
       "5  38.0  \n",
       "6  38.0  \n",
       "7  38.0  \n",
       "8  38.0  \n",
       "9  38.0  "
      ]
     },
     "execution_count": 344,
     "metadata": {},
     "output_type": "execute_result"
    }
   ],
   "source": [
    "purchases_c[5:10]"
   ]
  },
  {
   "cell_type": "code",
   "execution_count": 345,
   "id": "f5c644ea",
   "metadata": {},
   "outputs": [
    {
     "data": {
      "text/html": [
       "<div>\n",
       "<style scoped>\n",
       "    .dataframe tbody tr th:only-of-type {\n",
       "        vertical-align: middle;\n",
       "    }\n",
       "\n",
       "    .dataframe tbody tr th {\n",
       "        vertical-align: top;\n",
       "    }\n",
       "\n",
       "    .dataframe thead th {\n",
       "        text-align: right;\n",
       "    }\n",
       "</style>\n",
       "<table border=\"1\" class=\"dataframe\">\n",
       "  <thead>\n",
       "    <tr style=\"text-align: right;\">\n",
       "      <th></th>\n",
       "      <th>shop_id</th>\n",
       "      <th>offer_begin</th>\n",
       "      <th>offer_end</th>\n",
       "    </tr>\n",
       "  </thead>\n",
       "  <tbody>\n",
       "    <tr>\n",
       "      <th>5</th>\n",
       "      <td>3</td>\n",
       "      <td>2019-03-26</td>\n",
       "      <td>2019-04-03</td>\n",
       "    </tr>\n",
       "    <tr>\n",
       "      <th>6</th>\n",
       "      <td>4</td>\n",
       "      <td>2018-08-28</td>\n",
       "      <td>2018-09-28</td>\n",
       "    </tr>\n",
       "    <tr>\n",
       "      <th>7</th>\n",
       "      <td>4</td>\n",
       "      <td>2018-08-28</td>\n",
       "      <td>2018-09-04</td>\n",
       "    </tr>\n",
       "    <tr>\n",
       "      <th>8</th>\n",
       "      <td>5</td>\n",
       "      <td>2019-03-08</td>\n",
       "      <td>2019-03-21</td>\n",
       "    </tr>\n",
       "    <tr>\n",
       "      <th>9</th>\n",
       "      <td>5</td>\n",
       "      <td>2018-09-06</td>\n",
       "      <td>2018-09-29</td>\n",
       "    </tr>\n",
       "  </tbody>\n",
       "</table>\n",
       "</div>"
      ],
      "text/plain": [
       "   shop_id offer_begin   offer_end\n",
       "5        3  2019-03-26  2019-04-03\n",
       "6        4  2018-08-28  2018-09-28\n",
       "7        4  2018-08-28  2018-09-04\n",
       "8        5  2019-03-08  2019-03-21\n",
       "9        5  2018-09-06  2018-09-29"
      ]
     },
     "execution_count": 345,
     "metadata": {},
     "output_type": "execute_result"
    }
   ],
   "source": [
    "shops[5:10]"
   ]
  },
  {
   "cell_type": "code",
   "execution_count": 350,
   "id": "66c62908",
   "metadata": {
    "deletable": false,
    "nbgrader": {
     "cell_type": "code",
     "checksum": "cda72a732691ee3528a79d4c9eb4e809",
     "grade": false,
     "grade_id": "cell-3202f7f2e9be6c36",
     "locked": false,
     "schema_version": 3,
     "solution": true,
     "task": false
    }
   },
   "outputs": [
    {
     "data": {
      "text/html": [
       "<div>\n",
       "<style scoped>\n",
       "    .dataframe tbody tr th:only-of-type {\n",
       "        vertical-align: middle;\n",
       "    }\n",
       "\n",
       "    .dataframe tbody tr th {\n",
       "        vertical-align: top;\n",
       "    }\n",
       "\n",
       "    .dataframe thead th {\n",
       "        text-align: right;\n",
       "    }\n",
       "</style>\n",
       "<table border=\"1\" class=\"dataframe\">\n",
       "  <thead>\n",
       "    <tr style=\"text-align: right;\">\n",
       "      <th></th>\n",
       "      <th>customer_id</th>\n",
       "      <th>date</th>\n",
       "      <th>shop_id</th>\n",
       "      <th>total_price</th>\n",
       "      <th>month</th>\n",
       "      <th>year</th>\n",
       "      <th>customer id</th>\n",
       "      <th>age</th>\n",
       "      <th>offer_begin</th>\n",
       "      <th>offer_end</th>\n",
       "    </tr>\n",
       "  </thead>\n",
       "  <tbody>\n",
       "    <tr>\n",
       "      <th>0</th>\n",
       "      <td>0.0</td>\n",
       "      <td>2018-05-04</td>\n",
       "      <td>40</td>\n",
       "      <td>289.673291</td>\n",
       "      <td>5</td>\n",
       "      <td>2018</td>\n",
       "      <td>0.0</td>\n",
       "      <td>38.0</td>\n",
       "      <td>2018-08-15</td>\n",
       "      <td>2018-09-10</td>\n",
       "    </tr>\n",
       "    <tr>\n",
       "      <th>1</th>\n",
       "      <td>0.0</td>\n",
       "      <td>2019-01-26</td>\n",
       "      <td>40</td>\n",
       "      <td>1316.898901</td>\n",
       "      <td>1</td>\n",
       "      <td>2019</td>\n",
       "      <td>0.0</td>\n",
       "      <td>38.0</td>\n",
       "      <td>2018-08-15</td>\n",
       "      <td>2018-09-10</td>\n",
       "    </tr>\n",
       "    <tr>\n",
       "      <th>2</th>\n",
       "      <td>0.0</td>\n",
       "      <td>2018-11-18</td>\n",
       "      <td>42</td>\n",
       "      <td>159.414367</td>\n",
       "      <td>11</td>\n",
       "      <td>2018</td>\n",
       "      <td>0.0</td>\n",
       "      <td>38.0</td>\n",
       "      <td>2018-12-14</td>\n",
       "      <td>2019-01-21</td>\n",
       "    </tr>\n",
       "    <tr>\n",
       "      <th>3</th>\n",
       "      <td>0.0</td>\n",
       "      <td>2018-11-18</td>\n",
       "      <td>42</td>\n",
       "      <td>159.414367</td>\n",
       "      <td>11</td>\n",
       "      <td>2018</td>\n",
       "      <td>0.0</td>\n",
       "      <td>38.0</td>\n",
       "      <td>2018-12-12</td>\n",
       "      <td>2019-01-04</td>\n",
       "    </tr>\n",
       "    <tr>\n",
       "      <th>4</th>\n",
       "      <td>0.0</td>\n",
       "      <td>2018-05-12</td>\n",
       "      <td>42</td>\n",
       "      <td>808.791649</td>\n",
       "      <td>5</td>\n",
       "      <td>2018</td>\n",
       "      <td>0.0</td>\n",
       "      <td>38.0</td>\n",
       "      <td>2018-12-14</td>\n",
       "      <td>2019-01-21</td>\n",
       "    </tr>\n",
       "    <tr>\n",
       "      <th>...</th>\n",
       "      <td>...</td>\n",
       "      <td>...</td>\n",
       "      <td>...</td>\n",
       "      <td>...</td>\n",
       "      <td>...</td>\n",
       "      <td>...</td>\n",
       "      <td>...</td>\n",
       "      <td>...</td>\n",
       "      <td>...</td>\n",
       "      <td>...</td>\n",
       "    </tr>\n",
       "    <tr>\n",
       "      <th>69403</th>\n",
       "      <td>1212.0</td>\n",
       "      <td>2018-11-08</td>\n",
       "      <td>60</td>\n",
       "      <td>46.653544</td>\n",
       "      <td>11</td>\n",
       "      <td>2018</td>\n",
       "      <td>1212.0</td>\n",
       "      <td>24.0</td>\n",
       "      <td>2018-07-07</td>\n",
       "      <td>2018-08-02</td>\n",
       "    </tr>\n",
       "    <tr>\n",
       "      <th>69404</th>\n",
       "      <td>1212.0</td>\n",
       "      <td>2018-07-20</td>\n",
       "      <td>60</td>\n",
       "      <td>50.592132</td>\n",
       "      <td>7</td>\n",
       "      <td>2018</td>\n",
       "      <td>1212.0</td>\n",
       "      <td>24.0</td>\n",
       "      <td>2018-07-07</td>\n",
       "      <td>2018-08-02</td>\n",
       "    </tr>\n",
       "    <tr>\n",
       "      <th>69405</th>\n",
       "      <td>1212.0</td>\n",
       "      <td>2019-04-18</td>\n",
       "      <td>15</td>\n",
       "      <td>95.459705</td>\n",
       "      <td>4</td>\n",
       "      <td>2019</td>\n",
       "      <td>1212.0</td>\n",
       "      <td>24.0</td>\n",
       "      <td>NaN</td>\n",
       "      <td>NaN</td>\n",
       "    </tr>\n",
       "    <tr>\n",
       "      <th>69406</th>\n",
       "      <td>1212.0</td>\n",
       "      <td>2019-02-14</td>\n",
       "      <td>60</td>\n",
       "      <td>69.968788</td>\n",
       "      <td>2</td>\n",
       "      <td>2019</td>\n",
       "      <td>1212.0</td>\n",
       "      <td>24.0</td>\n",
       "      <td>2018-07-07</td>\n",
       "      <td>2018-08-02</td>\n",
       "    </tr>\n",
       "    <tr>\n",
       "      <th>69407</th>\n",
       "      <td>1212.0</td>\n",
       "      <td>2018-07-13</td>\n",
       "      <td>60</td>\n",
       "      <td>129.335559</td>\n",
       "      <td>7</td>\n",
       "      <td>2018</td>\n",
       "      <td>1212.0</td>\n",
       "      <td>24.0</td>\n",
       "      <td>2018-07-07</td>\n",
       "      <td>2018-08-02</td>\n",
       "    </tr>\n",
       "  </tbody>\n",
       "</table>\n",
       "<p>69408 rows × 10 columns</p>\n",
       "</div>"
      ],
      "text/plain": [
       "       customer_id       date  shop_id  total_price  month  year  customer id  \\\n",
       "0              0.0 2018-05-04       40   289.673291      5  2018          0.0   \n",
       "1              0.0 2019-01-26       40  1316.898901      1  2019          0.0   \n",
       "2              0.0 2018-11-18       42   159.414367     11  2018          0.0   \n",
       "3              0.0 2018-11-18       42   159.414367     11  2018          0.0   \n",
       "4              0.0 2018-05-12       42   808.791649      5  2018          0.0   \n",
       "...            ...        ...      ...          ...    ...   ...          ...   \n",
       "69403       1212.0 2018-11-08       60    46.653544     11  2018       1212.0   \n",
       "69404       1212.0 2018-07-20       60    50.592132      7  2018       1212.0   \n",
       "69405       1212.0 2019-04-18       15    95.459705      4  2019       1212.0   \n",
       "69406       1212.0 2019-02-14       60    69.968788      2  2019       1212.0   \n",
       "69407       1212.0 2018-07-13       60   129.335559      7  2018       1212.0   \n",
       "\n",
       "        age offer_begin   offer_end  \n",
       "0      38.0  2018-08-15  2018-09-10  \n",
       "1      38.0  2018-08-15  2018-09-10  \n",
       "2      38.0  2018-12-14  2019-01-21  \n",
       "3      38.0  2018-12-12  2019-01-04  \n",
       "4      38.0  2018-12-14  2019-01-21  \n",
       "...     ...         ...         ...  \n",
       "69403  24.0  2018-07-07  2018-08-02  \n",
       "69404  24.0  2018-07-07  2018-08-02  \n",
       "69405  24.0         NaN         NaN  \n",
       "69406  24.0  2018-07-07  2018-08-02  \n",
       "69407  24.0  2018-07-07  2018-08-02  \n",
       "\n",
       "[69408 rows x 10 columns]"
      ]
     },
     "execution_count": 350,
     "metadata": {},
     "output_type": "execute_result"
    }
   ],
   "source": [
    "full_df_preliminary = pd.merge(purchases_c, shops, how=\"left\")\n",
    "full_df_preliminary"
   ]
  },
  {
   "cell_type": "code",
   "execution_count": 349,
   "id": "e4d43263",
   "metadata": {
    "deletable": false,
    "editable": false,
    "nbgrader": {
     "cell_type": "code",
     "checksum": "e638ccfb467cd7758d68cc80d186f2f4",
     "grade": true,
     "grade_id": "cell-36bc4666e56a90b9",
     "locked": true,
     "points": 1,
     "schema_version": 3,
     "solution": false,
     "task": false
    }
   },
   "outputs": [],
   "source": [
    "assert (\n",
    "    full_df_preliminary.query('date == \"2019-04-24\" and customer_id == 555.0')[\n",
    "        \"offer_begin\"\n",
    "    ].iloc[0]\n",
    "    == \"2018-08-15\"\n",
    ")\n",
    "assert (\n",
    "    full_df_preliminary.query('date == \"2018-08-24\" and customer_id == 686.0').max()[\n",
    "        \"offer_end\"\n",
    "    ]\n",
    "    == \"2019-01-21\"\n",
    ")"
   ]
  },
  {
   "cell_type": "markdown",
   "id": "ac861b9f",
   "metadata": {},
   "source": [
    "### Problem 16 (autograded)\n",
    "Let us investigate the table `full_df_preliminary`. Each row of this table corresponds to some purchase. However, for some shops we have several special offers and therefore several rows in the table `shops`. During the join each purchase is joined to all rows of `shops` that correspond to a particular shop. Therefore, purchases are duplicated, and we lost information on which rows in `full_df_preliminary` correspond to which purchase. (For example, the last two rows seem to correspond to the same purchase, but can we be sure?) This is due to the fact that table `purchases_c` don't have any explicit column with purchase identifier. Let us add it. As each row of `purchases_c` corresponds to exactly one purchase, table index can work as such an identifier. To create a column that coincides with the index one can use method `.reset_index()`.\n",
    "\n",
    "Apply `.reset_index()` to `purchases_c`, then repeat the join from the previous problem. Name the resulting dataframe `full_df`."
   ]
  },
  {
   "cell_type": "code",
   "execution_count": 355,
   "id": "968c0c51",
   "metadata": {
    "deletable": false,
    "nbgrader": {
     "cell_type": "code",
     "checksum": "a80817f7bdfdd9e938890d1bc2052c7a",
     "grade": false,
     "grade_id": "cell-8414788809192d4e",
     "locked": false,
     "schema_version": 3,
     "solution": true,
     "task": false
    }
   },
   "outputs": [
    {
     "data": {
      "text/html": [
       "<div>\n",
       "<style scoped>\n",
       "    .dataframe tbody tr th:only-of-type {\n",
       "        vertical-align: middle;\n",
       "    }\n",
       "\n",
       "    .dataframe tbody tr th {\n",
       "        vertical-align: top;\n",
       "    }\n",
       "\n",
       "    .dataframe thead th {\n",
       "        text-align: right;\n",
       "    }\n",
       "</style>\n",
       "<table border=\"1\" class=\"dataframe\">\n",
       "  <thead>\n",
       "    <tr style=\"text-align: right;\">\n",
       "      <th></th>\n",
       "      <th>level_0</th>\n",
       "      <th>index</th>\n",
       "      <th>customer_id</th>\n",
       "      <th>date</th>\n",
       "      <th>shop_id</th>\n",
       "      <th>total_price</th>\n",
       "      <th>month</th>\n",
       "      <th>year</th>\n",
       "      <th>customer id</th>\n",
       "      <th>age</th>\n",
       "      <th>offer_begin</th>\n",
       "      <th>offer_end</th>\n",
       "    </tr>\n",
       "  </thead>\n",
       "  <tbody>\n",
       "    <tr>\n",
       "      <th>0</th>\n",
       "      <td>0</td>\n",
       "      <td>0</td>\n",
       "      <td>0.0</td>\n",
       "      <td>2018-05-04</td>\n",
       "      <td>40</td>\n",
       "      <td>289.673291</td>\n",
       "      <td>5</td>\n",
       "      <td>2018</td>\n",
       "      <td>0.0</td>\n",
       "      <td>38.0</td>\n",
       "      <td>2018-08-15</td>\n",
       "      <td>2018-09-10</td>\n",
       "    </tr>\n",
       "    <tr>\n",
       "      <th>1</th>\n",
       "      <td>1</td>\n",
       "      <td>1</td>\n",
       "      <td>0.0</td>\n",
       "      <td>2019-01-26</td>\n",
       "      <td>40</td>\n",
       "      <td>1316.898901</td>\n",
       "      <td>1</td>\n",
       "      <td>2019</td>\n",
       "      <td>0.0</td>\n",
       "      <td>38.0</td>\n",
       "      <td>2018-08-15</td>\n",
       "      <td>2018-09-10</td>\n",
       "    </tr>\n",
       "    <tr>\n",
       "      <th>2</th>\n",
       "      <td>2</td>\n",
       "      <td>2</td>\n",
       "      <td>0.0</td>\n",
       "      <td>2018-11-18</td>\n",
       "      <td>42</td>\n",
       "      <td>159.414367</td>\n",
       "      <td>11</td>\n",
       "      <td>2018</td>\n",
       "      <td>0.0</td>\n",
       "      <td>38.0</td>\n",
       "      <td>2018-12-14</td>\n",
       "      <td>2019-01-21</td>\n",
       "    </tr>\n",
       "    <tr>\n",
       "      <th>3</th>\n",
       "      <td>2</td>\n",
       "      <td>2</td>\n",
       "      <td>0.0</td>\n",
       "      <td>2018-11-18</td>\n",
       "      <td>42</td>\n",
       "      <td>159.414367</td>\n",
       "      <td>11</td>\n",
       "      <td>2018</td>\n",
       "      <td>0.0</td>\n",
       "      <td>38.0</td>\n",
       "      <td>2018-12-12</td>\n",
       "      <td>2019-01-04</td>\n",
       "    </tr>\n",
       "    <tr>\n",
       "      <th>4</th>\n",
       "      <td>3</td>\n",
       "      <td>3</td>\n",
       "      <td>0.0</td>\n",
       "      <td>2018-05-12</td>\n",
       "      <td>42</td>\n",
       "      <td>808.791649</td>\n",
       "      <td>5</td>\n",
       "      <td>2018</td>\n",
       "      <td>0.0</td>\n",
       "      <td>38.0</td>\n",
       "      <td>2018-12-14</td>\n",
       "      <td>2019-01-21</td>\n",
       "    </tr>\n",
       "    <tr>\n",
       "      <th>...</th>\n",
       "      <td>...</td>\n",
       "      <td>...</td>\n",
       "      <td>...</td>\n",
       "      <td>...</td>\n",
       "      <td>...</td>\n",
       "      <td>...</td>\n",
       "      <td>...</td>\n",
       "      <td>...</td>\n",
       "      <td>...</td>\n",
       "      <td>...</td>\n",
       "      <td>...</td>\n",
       "      <td>...</td>\n",
       "    </tr>\n",
       "    <tr>\n",
       "      <th>69403</th>\n",
       "      <td>28794</td>\n",
       "      <td>28794</td>\n",
       "      <td>1212.0</td>\n",
       "      <td>2018-11-08</td>\n",
       "      <td>60</td>\n",
       "      <td>46.653544</td>\n",
       "      <td>11</td>\n",
       "      <td>2018</td>\n",
       "      <td>1212.0</td>\n",
       "      <td>24.0</td>\n",
       "      <td>2018-07-07</td>\n",
       "      <td>2018-08-02</td>\n",
       "    </tr>\n",
       "    <tr>\n",
       "      <th>69404</th>\n",
       "      <td>28795</td>\n",
       "      <td>28795</td>\n",
       "      <td>1212.0</td>\n",
       "      <td>2018-07-20</td>\n",
       "      <td>60</td>\n",
       "      <td>50.592132</td>\n",
       "      <td>7</td>\n",
       "      <td>2018</td>\n",
       "      <td>1212.0</td>\n",
       "      <td>24.0</td>\n",
       "      <td>2018-07-07</td>\n",
       "      <td>2018-08-02</td>\n",
       "    </tr>\n",
       "    <tr>\n",
       "      <th>69405</th>\n",
       "      <td>28796</td>\n",
       "      <td>28796</td>\n",
       "      <td>1212.0</td>\n",
       "      <td>2019-04-18</td>\n",
       "      <td>15</td>\n",
       "      <td>95.459705</td>\n",
       "      <td>4</td>\n",
       "      <td>2019</td>\n",
       "      <td>1212.0</td>\n",
       "      <td>24.0</td>\n",
       "      <td>NaN</td>\n",
       "      <td>NaN</td>\n",
       "    </tr>\n",
       "    <tr>\n",
       "      <th>69406</th>\n",
       "      <td>28797</td>\n",
       "      <td>28797</td>\n",
       "      <td>1212.0</td>\n",
       "      <td>2019-02-14</td>\n",
       "      <td>60</td>\n",
       "      <td>69.968788</td>\n",
       "      <td>2</td>\n",
       "      <td>2019</td>\n",
       "      <td>1212.0</td>\n",
       "      <td>24.0</td>\n",
       "      <td>2018-07-07</td>\n",
       "      <td>2018-08-02</td>\n",
       "    </tr>\n",
       "    <tr>\n",
       "      <th>69407</th>\n",
       "      <td>28798</td>\n",
       "      <td>28798</td>\n",
       "      <td>1212.0</td>\n",
       "      <td>2018-07-13</td>\n",
       "      <td>60</td>\n",
       "      <td>129.335559</td>\n",
       "      <td>7</td>\n",
       "      <td>2018</td>\n",
       "      <td>1212.0</td>\n",
       "      <td>24.0</td>\n",
       "      <td>2018-07-07</td>\n",
       "      <td>2018-08-02</td>\n",
       "    </tr>\n",
       "  </tbody>\n",
       "</table>\n",
       "<p>69408 rows × 12 columns</p>\n",
       "</div>"
      ],
      "text/plain": [
       "       level_0  index  customer_id       date  shop_id  total_price  month  \\\n",
       "0            0      0          0.0 2018-05-04       40   289.673291      5   \n",
       "1            1      1          0.0 2019-01-26       40  1316.898901      1   \n",
       "2            2      2          0.0 2018-11-18       42   159.414367     11   \n",
       "3            2      2          0.0 2018-11-18       42   159.414367     11   \n",
       "4            3      3          0.0 2018-05-12       42   808.791649      5   \n",
       "...        ...    ...          ...        ...      ...          ...    ...   \n",
       "69403    28794  28794       1212.0 2018-11-08       60    46.653544     11   \n",
       "69404    28795  28795       1212.0 2018-07-20       60    50.592132      7   \n",
       "69405    28796  28796       1212.0 2019-04-18       15    95.459705      4   \n",
       "69406    28797  28797       1212.0 2019-02-14       60    69.968788      2   \n",
       "69407    28798  28798       1212.0 2018-07-13       60   129.335559      7   \n",
       "\n",
       "       year  customer id   age offer_begin   offer_end  \n",
       "0      2018          0.0  38.0  2018-08-15  2018-09-10  \n",
       "1      2019          0.0  38.0  2018-08-15  2018-09-10  \n",
       "2      2018          0.0  38.0  2018-12-14  2019-01-21  \n",
       "3      2018          0.0  38.0  2018-12-12  2019-01-04  \n",
       "4      2018          0.0  38.0  2018-12-14  2019-01-21  \n",
       "...     ...          ...   ...         ...         ...  \n",
       "69403  2018       1212.0  24.0  2018-07-07  2018-08-02  \n",
       "69404  2018       1212.0  24.0  2018-07-07  2018-08-02  \n",
       "69405  2019       1212.0  24.0         NaN         NaN  \n",
       "69406  2019       1212.0  24.0  2018-07-07  2018-08-02  \n",
       "69407  2018       1212.0  24.0  2018-07-07  2018-08-02  \n",
       "\n",
       "[69408 rows x 12 columns]"
      ]
     },
     "execution_count": 355,
     "metadata": {},
     "output_type": "execute_result"
    }
   ],
   "source": [
    "purchases_c_reset = purchases_c.reset_index()\n",
    "full_df = pd.merge(purchases_c_reset, shops, how=\"left\")\n",
    "full_df"
   ]
  },
  {
   "cell_type": "code",
   "execution_count": 356,
   "id": "f10c85e6",
   "metadata": {
    "deletable": false,
    "editable": false,
    "nbgrader": {
     "cell_type": "code",
     "checksum": "f015cc3e9b8370425cdaf4ad4b395946",
     "grade": true,
     "grade_id": "cell-484af97a03241903",
     "locked": true,
     "points": 1,
     "schema_version": 3,
     "solution": false,
     "task": false
    }
   },
   "outputs": [],
   "source": [
    "assert (\n",
    "    full_df.query(\"index == 1207\")\n",
    "    .iloc[0][[\"customer_id\", \"date\", \"shop_id\", \"total_price\"]]\n",
    "    .equals(purchases_c.loc[1207][[\"customer_id\", \"date\", \"shop_id\", \"total_price\"]])\n",
    ")"
   ]
  },
  {
   "cell_type": "markdown",
   "id": "bfcd65fb",
   "metadata": {},
   "source": [
    "### Problem 17 (autograded)\n",
    "Now we need to check for each purchase, did it happen during any of the special offers or not. In the dataset `full_df`, each row relates some purchase with some special offer that happened in the same shop as a purchase. Let us check, is it true that this purchase happened during the corresponding offer? Add a column `offer` that contains values `True` or `False` that answer this question. To do so, we have to compare the value in column `date` with values in columns `offer_begin` and `offer_end`. Let us assume that `offer_end` is the last day of the offer (so the offer still holds during this day). Name the corresponding dataframe `full_df_offer`. Note that you can compare between dates, but not between dates and strings. Convert your data appropriately.\n"
   ]
  },
  {
   "cell_type": "code",
   "execution_count": 363,
   "id": "d30311dd",
   "metadata": {
    "deletable": false,
    "nbgrader": {
     "cell_type": "code",
     "checksum": "dab09ca4900bbd3158d262c74fe1734e",
     "grade": false,
     "grade_id": "cell-72280e238346d5dc",
     "locked": false,
     "schema_version": 3,
     "solution": true,
     "task": false
    }
   },
   "outputs": [
    {
     "data": {
      "text/html": [
       "<div>\n",
       "<style scoped>\n",
       "    .dataframe tbody tr th:only-of-type {\n",
       "        vertical-align: middle;\n",
       "    }\n",
       "\n",
       "    .dataframe tbody tr th {\n",
       "        vertical-align: top;\n",
       "    }\n",
       "\n",
       "    .dataframe thead th {\n",
       "        text-align: right;\n",
       "    }\n",
       "</style>\n",
       "<table border=\"1\" class=\"dataframe\">\n",
       "  <thead>\n",
       "    <tr style=\"text-align: right;\">\n",
       "      <th></th>\n",
       "      <th>level_0</th>\n",
       "      <th>index</th>\n",
       "      <th>customer_id</th>\n",
       "      <th>date</th>\n",
       "      <th>shop_id</th>\n",
       "      <th>total_price</th>\n",
       "      <th>month</th>\n",
       "      <th>year</th>\n",
       "      <th>customer id</th>\n",
       "      <th>age</th>\n",
       "      <th>offer_begin</th>\n",
       "      <th>offer_end</th>\n",
       "      <th>offer</th>\n",
       "    </tr>\n",
       "  </thead>\n",
       "  <tbody>\n",
       "    <tr>\n",
       "      <th>0</th>\n",
       "      <td>0</td>\n",
       "      <td>0</td>\n",
       "      <td>0.0</td>\n",
       "      <td>2018-05-04</td>\n",
       "      <td>40</td>\n",
       "      <td>289.673291</td>\n",
       "      <td>5</td>\n",
       "      <td>2018</td>\n",
       "      <td>0.0</td>\n",
       "      <td>38.0</td>\n",
       "      <td>2018-08-15</td>\n",
       "      <td>2018-09-10</td>\n",
       "      <td>False</td>\n",
       "    </tr>\n",
       "    <tr>\n",
       "      <th>1</th>\n",
       "      <td>1</td>\n",
       "      <td>1</td>\n",
       "      <td>0.0</td>\n",
       "      <td>2019-01-26</td>\n",
       "      <td>40</td>\n",
       "      <td>1316.898901</td>\n",
       "      <td>1</td>\n",
       "      <td>2019</td>\n",
       "      <td>0.0</td>\n",
       "      <td>38.0</td>\n",
       "      <td>2018-08-15</td>\n",
       "      <td>2018-09-10</td>\n",
       "      <td>False</td>\n",
       "    </tr>\n",
       "    <tr>\n",
       "      <th>2</th>\n",
       "      <td>2</td>\n",
       "      <td>2</td>\n",
       "      <td>0.0</td>\n",
       "      <td>2018-11-18</td>\n",
       "      <td>42</td>\n",
       "      <td>159.414367</td>\n",
       "      <td>11</td>\n",
       "      <td>2018</td>\n",
       "      <td>0.0</td>\n",
       "      <td>38.0</td>\n",
       "      <td>2018-12-14</td>\n",
       "      <td>2019-01-21</td>\n",
       "      <td>False</td>\n",
       "    </tr>\n",
       "    <tr>\n",
       "      <th>3</th>\n",
       "      <td>2</td>\n",
       "      <td>2</td>\n",
       "      <td>0.0</td>\n",
       "      <td>2018-11-18</td>\n",
       "      <td>42</td>\n",
       "      <td>159.414367</td>\n",
       "      <td>11</td>\n",
       "      <td>2018</td>\n",
       "      <td>0.0</td>\n",
       "      <td>38.0</td>\n",
       "      <td>2018-12-12</td>\n",
       "      <td>2019-01-04</td>\n",
       "      <td>False</td>\n",
       "    </tr>\n",
       "    <tr>\n",
       "      <th>4</th>\n",
       "      <td>3</td>\n",
       "      <td>3</td>\n",
       "      <td>0.0</td>\n",
       "      <td>2018-05-12</td>\n",
       "      <td>42</td>\n",
       "      <td>808.791649</td>\n",
       "      <td>5</td>\n",
       "      <td>2018</td>\n",
       "      <td>0.0</td>\n",
       "      <td>38.0</td>\n",
       "      <td>2018-12-14</td>\n",
       "      <td>2019-01-21</td>\n",
       "      <td>False</td>\n",
       "    </tr>\n",
       "    <tr>\n",
       "      <th>...</th>\n",
       "      <td>...</td>\n",
       "      <td>...</td>\n",
       "      <td>...</td>\n",
       "      <td>...</td>\n",
       "      <td>...</td>\n",
       "      <td>...</td>\n",
       "      <td>...</td>\n",
       "      <td>...</td>\n",
       "      <td>...</td>\n",
       "      <td>...</td>\n",
       "      <td>...</td>\n",
       "      <td>...</td>\n",
       "      <td>...</td>\n",
       "    </tr>\n",
       "    <tr>\n",
       "      <th>69403</th>\n",
       "      <td>28794</td>\n",
       "      <td>28794</td>\n",
       "      <td>1212.0</td>\n",
       "      <td>2018-11-08</td>\n",
       "      <td>60</td>\n",
       "      <td>46.653544</td>\n",
       "      <td>11</td>\n",
       "      <td>2018</td>\n",
       "      <td>1212.0</td>\n",
       "      <td>24.0</td>\n",
       "      <td>2018-07-07</td>\n",
       "      <td>2018-08-02</td>\n",
       "      <td>False</td>\n",
       "    </tr>\n",
       "    <tr>\n",
       "      <th>69404</th>\n",
       "      <td>28795</td>\n",
       "      <td>28795</td>\n",
       "      <td>1212.0</td>\n",
       "      <td>2018-07-20</td>\n",
       "      <td>60</td>\n",
       "      <td>50.592132</td>\n",
       "      <td>7</td>\n",
       "      <td>2018</td>\n",
       "      <td>1212.0</td>\n",
       "      <td>24.0</td>\n",
       "      <td>2018-07-07</td>\n",
       "      <td>2018-08-02</td>\n",
       "      <td>True</td>\n",
       "    </tr>\n",
       "    <tr>\n",
       "      <th>69405</th>\n",
       "      <td>28796</td>\n",
       "      <td>28796</td>\n",
       "      <td>1212.0</td>\n",
       "      <td>2019-04-18</td>\n",
       "      <td>15</td>\n",
       "      <td>95.459705</td>\n",
       "      <td>4</td>\n",
       "      <td>2019</td>\n",
       "      <td>1212.0</td>\n",
       "      <td>24.0</td>\n",
       "      <td>NaT</td>\n",
       "      <td>NaT</td>\n",
       "      <td>False</td>\n",
       "    </tr>\n",
       "    <tr>\n",
       "      <th>69406</th>\n",
       "      <td>28797</td>\n",
       "      <td>28797</td>\n",
       "      <td>1212.0</td>\n",
       "      <td>2019-02-14</td>\n",
       "      <td>60</td>\n",
       "      <td>69.968788</td>\n",
       "      <td>2</td>\n",
       "      <td>2019</td>\n",
       "      <td>1212.0</td>\n",
       "      <td>24.0</td>\n",
       "      <td>2018-07-07</td>\n",
       "      <td>2018-08-02</td>\n",
       "      <td>False</td>\n",
       "    </tr>\n",
       "    <tr>\n",
       "      <th>69407</th>\n",
       "      <td>28798</td>\n",
       "      <td>28798</td>\n",
       "      <td>1212.0</td>\n",
       "      <td>2018-07-13</td>\n",
       "      <td>60</td>\n",
       "      <td>129.335559</td>\n",
       "      <td>7</td>\n",
       "      <td>2018</td>\n",
       "      <td>1212.0</td>\n",
       "      <td>24.0</td>\n",
       "      <td>2018-07-07</td>\n",
       "      <td>2018-08-02</td>\n",
       "      <td>True</td>\n",
       "    </tr>\n",
       "  </tbody>\n",
       "</table>\n",
       "<p>69408 rows × 13 columns</p>\n",
       "</div>"
      ],
      "text/plain": [
       "       level_0  index  customer_id       date  shop_id  total_price  month  \\\n",
       "0            0      0          0.0 2018-05-04       40   289.673291      5   \n",
       "1            1      1          0.0 2019-01-26       40  1316.898901      1   \n",
       "2            2      2          0.0 2018-11-18       42   159.414367     11   \n",
       "3            2      2          0.0 2018-11-18       42   159.414367     11   \n",
       "4            3      3          0.0 2018-05-12       42   808.791649      5   \n",
       "...        ...    ...          ...        ...      ...          ...    ...   \n",
       "69403    28794  28794       1212.0 2018-11-08       60    46.653544     11   \n",
       "69404    28795  28795       1212.0 2018-07-20       60    50.592132      7   \n",
       "69405    28796  28796       1212.0 2019-04-18       15    95.459705      4   \n",
       "69406    28797  28797       1212.0 2019-02-14       60    69.968788      2   \n",
       "69407    28798  28798       1212.0 2018-07-13       60   129.335559      7   \n",
       "\n",
       "       year  customer id   age offer_begin  offer_end  offer  \n",
       "0      2018          0.0  38.0  2018-08-15 2018-09-10  False  \n",
       "1      2019          0.0  38.0  2018-08-15 2018-09-10  False  \n",
       "2      2018          0.0  38.0  2018-12-14 2019-01-21  False  \n",
       "3      2018          0.0  38.0  2018-12-12 2019-01-04  False  \n",
       "4      2018          0.0  38.0  2018-12-14 2019-01-21  False  \n",
       "...     ...          ...   ...         ...        ...    ...  \n",
       "69403  2018       1212.0  24.0  2018-07-07 2018-08-02  False  \n",
       "69404  2018       1212.0  24.0  2018-07-07 2018-08-02   True  \n",
       "69405  2019       1212.0  24.0         NaT        NaT  False  \n",
       "69406  2019       1212.0  24.0  2018-07-07 2018-08-02  False  \n",
       "69407  2018       1212.0  24.0  2018-07-07 2018-08-02   True  \n",
       "\n",
       "[69408 rows x 13 columns]"
      ]
     },
     "execution_count": 363,
     "metadata": {},
     "output_type": "execute_result"
    }
   ],
   "source": [
    "full_df_offer = full_df\n",
    "full_df_offer[\"offer_begin\"] = pd.to_datetime(full_df[\"offer_begin\"])\n",
    "full_df_offer[\"offer_end\"] = pd.to_datetime(full_df[\"offer_end\"])\n",
    "full_df_offer['offer'] = (full_df_offer['date'] >= full_df_offer['offer_begin']) & (full_df_offer['date'] <= full_df_offer['offer_end'])\n",
    "full_df_offer"
   ]
  },
  {
   "cell_type": "code",
   "execution_count": 362,
   "id": "4d7d09fd",
   "metadata": {
    "deletable": false,
    "editable": false,
    "nbgrader": {
     "cell_type": "code",
     "checksum": "5bc3c6253b86389489682486f3909035",
     "grade": true,
     "grade_id": "cell-158644e2bb557078",
     "locked": true,
     "points": 2,
     "schema_version": 3,
     "solution": false,
     "task": false
    }
   },
   "outputs": [],
   "source": [
    "from itertools import islice\n",
    "\n",
    "for _, row in islice(full_df_offer.iterrows(), 0, 1000):\n",
    "    assert (\n",
    "        (pd.to_datetime(row[\"date\"]) >= pd.to_datetime(row[\"offer_begin\"]))\n",
    "        & (pd.to_datetime(row[\"date\"]) <= pd.to_datetime(row[\"offer_end\"]))\n",
    "    ) == row[\"offer\"]"
   ]
  },
  {
   "cell_type": "markdown",
   "id": "2a2d0fe6",
   "metadata": {},
   "source": [
    "### Almost here\n",
    "Now we have a table that contains information on whether a particular purchase happened during a particular special offer. What we need is a new table that contains information on whether a particular purchase happened during *any* relevant special offer. This can be done by grouping and aggregating. Basically, we need to group our table by column `index` that contains a purchase identifier and apply a special aggregation function `any` to column `offer`. This function checks if there is any `True` element in a group and returns `True` in this case, otherwise (everything is `False`) it returns false. Also, we have to keep all other columns that are related to purchases as is. They are duplicated in the group, so we can just get the first value. This is done by the aggregation function `first`. To apply these functions to different columns, we have to pass a dictionary to method `.agg`. Let's see what's happening.\n"
   ]
  },
  {
   "cell_type": "code",
   "execution_count": 364,
   "id": "b601d6b3",
   "metadata": {},
   "outputs": [
    {
     "data": {
      "text/html": [
       "<div>\n",
       "<style scoped>\n",
       "    .dataframe tbody tr th:only-of-type {\n",
       "        vertical-align: middle;\n",
       "    }\n",
       "\n",
       "    .dataframe tbody tr th {\n",
       "        vertical-align: top;\n",
       "    }\n",
       "\n",
       "    .dataframe thead th {\n",
       "        text-align: right;\n",
       "    }\n",
       "</style>\n",
       "<table border=\"1\" class=\"dataframe\">\n",
       "  <thead>\n",
       "    <tr style=\"text-align: right;\">\n",
       "      <th></th>\n",
       "      <th>customer_id</th>\n",
       "      <th>date</th>\n",
       "      <th>shop_id</th>\n",
       "      <th>total_price</th>\n",
       "      <th>month</th>\n",
       "      <th>age</th>\n",
       "      <th>offer</th>\n",
       "    </tr>\n",
       "    <tr>\n",
       "      <th>index</th>\n",
       "      <th></th>\n",
       "      <th></th>\n",
       "      <th></th>\n",
       "      <th></th>\n",
       "      <th></th>\n",
       "      <th></th>\n",
       "      <th></th>\n",
       "    </tr>\n",
       "  </thead>\n",
       "  <tbody>\n",
       "    <tr>\n",
       "      <th>0</th>\n",
       "      <td>0.0</td>\n",
       "      <td>2018-05-04</td>\n",
       "      <td>40</td>\n",
       "      <td>289.673291</td>\n",
       "      <td>5</td>\n",
       "      <td>38.0</td>\n",
       "      <td>False</td>\n",
       "    </tr>\n",
       "    <tr>\n",
       "      <th>1</th>\n",
       "      <td>0.0</td>\n",
       "      <td>2019-01-26</td>\n",
       "      <td>40</td>\n",
       "      <td>1316.898901</td>\n",
       "      <td>1</td>\n",
       "      <td>38.0</td>\n",
       "      <td>False</td>\n",
       "    </tr>\n",
       "    <tr>\n",
       "      <th>2</th>\n",
       "      <td>0.0</td>\n",
       "      <td>2018-11-18</td>\n",
       "      <td>42</td>\n",
       "      <td>159.414367</td>\n",
       "      <td>11</td>\n",
       "      <td>38.0</td>\n",
       "      <td>False</td>\n",
       "    </tr>\n",
       "    <tr>\n",
       "      <th>3</th>\n",
       "      <td>0.0</td>\n",
       "      <td>2018-05-12</td>\n",
       "      <td>42</td>\n",
       "      <td>808.791649</td>\n",
       "      <td>5</td>\n",
       "      <td>38.0</td>\n",
       "      <td>False</td>\n",
       "    </tr>\n",
       "    <tr>\n",
       "      <th>4</th>\n",
       "      <td>0.0</td>\n",
       "      <td>2019-04-20</td>\n",
       "      <td>42</td>\n",
       "      <td>1207.855038</td>\n",
       "      <td>4</td>\n",
       "      <td>38.0</td>\n",
       "      <td>False</td>\n",
       "    </tr>\n",
       "    <tr>\n",
       "      <th>...</th>\n",
       "      <td>...</td>\n",
       "      <td>...</td>\n",
       "      <td>...</td>\n",
       "      <td>...</td>\n",
       "      <td>...</td>\n",
       "      <td>...</td>\n",
       "      <td>...</td>\n",
       "    </tr>\n",
       "    <tr>\n",
       "      <th>28794</th>\n",
       "      <td>1212.0</td>\n",
       "      <td>2018-11-08</td>\n",
       "      <td>60</td>\n",
       "      <td>46.653544</td>\n",
       "      <td>11</td>\n",
       "      <td>24.0</td>\n",
       "      <td>False</td>\n",
       "    </tr>\n",
       "    <tr>\n",
       "      <th>28795</th>\n",
       "      <td>1212.0</td>\n",
       "      <td>2018-07-20</td>\n",
       "      <td>60</td>\n",
       "      <td>50.592132</td>\n",
       "      <td>7</td>\n",
       "      <td>24.0</td>\n",
       "      <td>True</td>\n",
       "    </tr>\n",
       "    <tr>\n",
       "      <th>28796</th>\n",
       "      <td>1212.0</td>\n",
       "      <td>2019-04-18</td>\n",
       "      <td>15</td>\n",
       "      <td>95.459705</td>\n",
       "      <td>4</td>\n",
       "      <td>24.0</td>\n",
       "      <td>False</td>\n",
       "    </tr>\n",
       "    <tr>\n",
       "      <th>28797</th>\n",
       "      <td>1212.0</td>\n",
       "      <td>2019-02-14</td>\n",
       "      <td>60</td>\n",
       "      <td>69.968788</td>\n",
       "      <td>2</td>\n",
       "      <td>24.0</td>\n",
       "      <td>False</td>\n",
       "    </tr>\n",
       "    <tr>\n",
       "      <th>28798</th>\n",
       "      <td>1212.0</td>\n",
       "      <td>2018-07-13</td>\n",
       "      <td>60</td>\n",
       "      <td>129.335559</td>\n",
       "      <td>7</td>\n",
       "      <td>24.0</td>\n",
       "      <td>True</td>\n",
       "    </tr>\n",
       "  </tbody>\n",
       "</table>\n",
       "<p>28799 rows × 7 columns</p>\n",
       "</div>"
      ],
      "text/plain": [
       "       customer_id       date  shop_id  total_price  month   age  offer\n",
       "index                                                                  \n",
       "0              0.0 2018-05-04       40   289.673291      5  38.0  False\n",
       "1              0.0 2019-01-26       40  1316.898901      1  38.0  False\n",
       "2              0.0 2018-11-18       42   159.414367     11  38.0  False\n",
       "3              0.0 2018-05-12       42   808.791649      5  38.0  False\n",
       "4              0.0 2019-04-20       42  1207.855038      4  38.0  False\n",
       "...            ...        ...      ...          ...    ...   ...    ...\n",
       "28794       1212.0 2018-11-08       60    46.653544     11  24.0  False\n",
       "28795       1212.0 2018-07-20       60    50.592132      7  24.0   True\n",
       "28796       1212.0 2019-04-18       15    95.459705      4  24.0  False\n",
       "28797       1212.0 2019-02-14       60    69.968788      2  24.0  False\n",
       "28798       1212.0 2018-07-13       60   129.335559      7  24.0   True\n",
       "\n",
       "[28799 rows x 7 columns]"
      ]
     },
     "execution_count": 364,
     "metadata": {},
     "output_type": "execute_result"
    }
   ],
   "source": [
    "purchases_offer = full_df_offer.groupby(\"index\").agg(\n",
    "    {\n",
    "        \"customer_id\": \"first\",\n",
    "        \"date\": \"first\",\n",
    "        \"shop_id\": \"first\",\n",
    "        \"total_price\": \"first\",\n",
    "        \"month\": \"first\",\n",
    "        \"age\": \"first\",\n",
    "        \"offer\": \"any\",\n",
    "    }\n",
    ")\n",
    "purchases_offer"
   ]
  },
  {
   "cell_type": "markdown",
   "id": "90e699dd",
   "metadata": {},
   "source": [
    "### Problem 18 (quiz)\n",
    "Do people tend to spend more money when they make a purchase during a special offer? Let's check it!\n",
    "\n",
    "First of all, we know that during December people spend more money in shops due to holidays and at the time shops usually announce more special offers during December. As we are interested in the effect of special offers alone, let us remove all purchases that happened during December.\n",
    "\n",
    "Then create a table which rows are customers that contains two columns: in one column we have average of all prices of purchases that were made during special offers, and in the second the same for purchases that were not made during special offers. Drop all rows that contain `NaN`'s. Then apply an appropriate statistical test to check if there is any statistically significant difference between these columns. Use two-sided alternative.\n",
    "\n",
    "\n"
   ]
  },
  {
   "cell_type": "code",
   "execution_count": 369,
   "id": "e1314ed2",
   "metadata": {
    "deletable": false,
    "nbgrader": {
     "cell_type": "code",
     "checksum": "0f9347b258c3a90a7b22ef3831687ff5",
     "grade": false,
     "grade_id": "cell-ba9d2b1c164cb3e5",
     "locked": false,
     "schema_version": 3,
     "solution": true,
     "task": false
    }
   },
   "outputs": [
    {
     "data": {
      "text/plain": [
       "Ttest_relResult(statistic=-16.682645056499567, pvalue=3.221672499502215e-53)"
      ]
     },
     "execution_count": 369,
     "metadata": {},
     "output_type": "execute_result"
    }
   ],
   "source": [
    "# YOUR CODE HERE\n",
    "purchases_without_december = purchases_offer[purchases_offer['month'] != 12]\n",
    "\n",
    "table = pd.pivot_table(purchases_without_december, \n",
    "                       values='total_price', \n",
    "                       index='customer_id',\n",
    "                       columns='offer',\n",
    "                       aggfunc=np.mean)\n",
    "\n",
    "table = table.dropna()\n",
    "\n",
    "ttest_rel(table[0].values, table[1].values)"
   ]
  },
  {
   "cell_type": "code",
   "execution_count": 370,
   "id": "99de0ccc",
   "metadata": {},
   "outputs": [
    {
     "data": {
      "text/plain": [
       "Ttest_1sampResult(statistic=16.682645056499567, pvalue=3.221672499502215e-53)"
      ]
     },
     "execution_count": 370,
     "metadata": {},
     "output_type": "execute_result"
    }
   ],
   "source": [
    "ttest_1samp(table[1].values-table[0].values, 0)"
   ]
  }
 ],
 "metadata": {
  "kernelspec": {
   "display_name": "Python 3 (ipykernel)",
   "language": "python",
   "name": "python3"
  },
  "language_info": {
   "codemirror_mode": {
    "name": "ipython",
    "version": 3
   },
   "file_extension": ".py",
   "mimetype": "text/x-python",
   "name": "python",
   "nbconvert_exporter": "python",
   "pygments_lexer": "ipython3",
   "version": "3.8.10"
  }
 },
 "nbformat": 4,
 "nbformat_minor": 5
}
